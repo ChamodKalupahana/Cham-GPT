{
 "cells": [
  {
   "cell_type": "code",
   "execution_count": 3,
   "metadata": {},
   "outputs": [
    {
     "name": "stdout",
     "output_type": "stream",
     "text": [
      "Cham:\n",
      "fuck u\n",
      "\n",
      "Jas:\n",
      "\n",
      "Cham: sweam for th right, I'm a complete mystery\n",
      "Jasrizz: Sure super duper famous star??\n",
      "Cham: oh \n",
      "\n",
      "________________________________________________________________________________\n",
      "\n",
      "Run time: 0.9904601573944092\n"
     ]
    }
   ],
   "source": [
    "import time\n",
    "import tensorflow as tf\n",
    "\n",
    "one_step = tf.saved_model.load(r'C:\\Users\\chamo\\Documents\\GitHub\\Cham-GPT\\Cham-GPT\\saved_models\\Cham-GPT model')\n",
    "\n",
    "user_input = input(\"Enter prompt: \")\n",
    "\n",
    "start = time.time()\n",
    "states = None\n",
    "next_char = tf.constant(['Cham:\\n'+str(user_input)+'\\n\\nJas:\\n'])\n",
    "result = [next_char]\n",
    "\n",
    "for n in range(100):\n",
    "  next_char, states = one_step.generate_one_step(next_char, states=states)\n",
    "  result.append(next_char)\n",
    "\n",
    "result = tf.strings.join(result)\n",
    "end = time.time()\n",
    "print(result[0].numpy().decode('utf-8'), '\\n\\n' + '_'*80)\n",
    "print('\\nRun time:', end - start)"
   ]
  }
 ],
 "metadata": {
  "kernelspec": {
   "display_name": "girls_and_boys_in_tech",
   "language": "python",
   "name": "python3"
  },
  "language_info": {
   "codemirror_mode": {
    "name": "ipython",
    "version": 3
   },
   "file_extension": ".py",
   "mimetype": "text/x-python",
   "name": "python",
   "nbconvert_exporter": "python",
   "pygments_lexer": "ipython3",
   "version": "3.11.7"
  }
 },
 "nbformat": 4,
 "nbformat_minor": 2
}
