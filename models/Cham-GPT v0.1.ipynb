{
 "cells": [
  {
   "cell_type": "markdown",
   "metadata": {
    "id": "t09eeeR5prIJ"
   },
   "source": [
    "##### Copyright 2019 The TensorFlow Authors."
   ]
  },
  {
   "cell_type": "markdown",
   "metadata": {
    "id": "ovpZyIhNIgoq"
   },
   "source": [
    "# Cham-GPT v0.1"
   ]
  },
  {
   "cell_type": "markdown",
   "metadata": {
    "id": "_bGsCP9DZFQ5"
   },
   "source": [
    "While some of the sentences are grammatical, most do not make sense. The model has not learned the meaning of words, but consider:\n",
    "\n",
    "* The model is character-based. When training started, the model did not know how to spell an English word, or that words were even a unit of text.\n",
    "\n",
    "* The structure of the output resembles a play—blocks of text generally begin with a speaker name, in all capital letters similar to the dataset.\n",
    "\n",
    "* As demonstrated below, the model is trained on small batches of text (100 characters each), and is still able to generate a longer sequence of text with coherent structure."
   ]
  },
  {
   "cell_type": "markdown",
   "metadata": {
    "id": "srXC6pLGLwS6"
   },
   "source": [
    "## Setup"
   ]
  },
  {
   "cell_type": "markdown",
   "metadata": {
    "id": "WGyKZj3bzf9p"
   },
   "source": [
    "### Import TensorFlow and other libraries"
   ]
  },
  {
   "cell_type": "code",
   "execution_count": 1,
   "metadata": {
    "execution": {
     "iopub.execute_input": "2023-11-16T12:28:51.777470Z",
     "iopub.status.busy": "2023-11-16T12:28:51.777245Z",
     "iopub.status.idle": "2023-11-16T12:28:54.138340Z",
     "shell.execute_reply": "2023-11-16T12:28:54.137637Z"
    },
    "id": "yG_n40gFzf9s"
   },
   "outputs": [
    {
     "name": "stderr",
     "output_type": "stream",
     "text": [
      "c:\\Users\\chamo\\Miniconda\\envs\\girls_and_boys_in_tech\\Lib\\site-packages\\tqdm\\auto.py:21: TqdmWarning: IProgress not found. Please update jupyter and ipywidgets. See https://ipywidgets.readthedocs.io/en/stable/user_install.html\n",
      "  from .autonotebook import tqdm as notebook_tqdm\n"
     ]
    }
   ],
   "source": [
    "import tensorflow as tf\n",
    "import tensorflow_datasets as tfds\n",
    "\n",
    "import numpy as np\n",
    "import os\n",
    "import time"
   ]
  },
  {
   "cell_type": "markdown",
   "metadata": {
    "id": "EHDoRoc5PKWz"
   },
   "source": [
    "### Download the Shakespeare dataset\n",
    "\n",
    "Change the following line to run this code on your own data."
   ]
  },
  {
   "cell_type": "code",
   "execution_count": 2,
   "metadata": {
    "execution": {
     "iopub.execute_input": "2023-11-16T12:28:54.142883Z",
     "iopub.status.busy": "2023-11-16T12:28:54.142493Z",
     "iopub.status.idle": "2023-11-16T12:28:54.268261Z",
     "shell.execute_reply": "2023-11-16T12:28:54.267573Z"
    },
    "id": "pD_55cOxLkAb"
   },
   "outputs": [],
   "source": [
    "#path_to_file = tf.keras.utils.get_file('shakespeare.txt', 'https://storage.googleapis.com/download.tensorflow.org/data/shakespeare.txt')\n",
    "path_to_file = '..\\datasets\\whatsapp_jasmeen_conversation.txt'"
   ]
  },
  {
   "cell_type": "markdown",
   "metadata": {
    "id": "UHjdCjDuSvX_"
   },
   "source": [
    "### Read the data\n",
    "\n",
    "First, look in the text:"
   ]
  },
  {
   "cell_type": "code",
   "execution_count": 3,
   "metadata": {
    "execution": {
     "iopub.execute_input": "2023-11-16T12:28:54.271601Z",
     "iopub.status.busy": "2023-11-16T12:28:54.271350Z",
     "iopub.status.idle": "2023-11-16T12:28:54.276974Z",
     "shell.execute_reply": "2023-11-16T12:28:54.276270Z"
    },
    "id": "aavnuByVymwK"
   },
   "outputs": [
    {
     "name": "stdout",
     "output_type": "stream",
     "text": [
      "Length of text: 2488 characters\n"
     ]
    }
   ],
   "source": [
    "# Read, then decode for py2 compat.\n",
    "text = open(path_to_file, 'rb').read().decode(encoding='utf-8')\n",
    "# length of text is the number of characters in it\n",
    "print(f'Length of text: {len(text)} characters')"
   ]
  },
  {
   "cell_type": "code",
   "execution_count": 4,
   "metadata": {
    "execution": {
     "iopub.execute_input": "2023-11-16T12:28:54.280628Z",
     "iopub.status.busy": "2023-11-16T12:28:54.279970Z",
     "iopub.status.idle": "2023-11-16T12:28:54.283601Z",
     "shell.execute_reply": "2023-11-16T12:28:54.282992Z"
    },
    "id": "Duhg9NrUymwO"
   },
   "outputs": [
    {
     "name": "stdout",
     "output_type": "stream",
     "text": [
      "Cham: <Media omitted>\n",
      "Jasrizz: That was amazing\n",
      "Jasrizz: Who's my favourite super duper famous star??\n",
      "Cham: oh jas, you're flattering me too much x\n",
      "Jasrizz: And you're loving it x\n",
      "Cham: yeah slightly\n",
      "Cham: don't worry, it won't be long until yo\n"
     ]
    }
   ],
   "source": [
    "# Take a look at the first 250 characters in text\n",
    "print(text[:250])"
   ]
  },
  {
   "cell_type": "code",
   "execution_count": 5,
   "metadata": {
    "execution": {
     "iopub.execute_input": "2023-11-16T12:28:54.286599Z",
     "iopub.status.busy": "2023-11-16T12:28:54.286362Z",
     "iopub.status.idle": "2023-11-16T12:28:54.303027Z",
     "shell.execute_reply": "2023-11-16T12:28:54.302388Z"
    },
    "id": "IlCgQBRVymwR"
   },
   "outputs": [
    {
     "name": "stdout",
     "output_type": "stream",
     "text": [
      "73 unique characters\n"
     ]
    }
   ],
   "source": [
    "# The unique characters in the file\n",
    "vocab = sorted(set(text))\n",
    "print(f'{len(vocab)} unique characters')"
   ]
  },
  {
   "cell_type": "markdown",
   "metadata": {
    "id": "rNnrKn_lL-IJ"
   },
   "source": [
    "## Process the text"
   ]
  },
  {
   "cell_type": "markdown",
   "metadata": {
    "id": "LFjSVAlWzf-N"
   },
   "source": [
    "### Vectorize the text\n",
    "\n",
    "Before training, you need to convert the strings to a numerical representation. \n",
    "\n",
    "The `tf.keras.layers.StringLookup` layer can convert each character into a numeric ID. It just needs the text to be split into tokens first."
   ]
  },
  {
   "cell_type": "code",
   "execution_count": 6,
   "metadata": {
    "execution": {
     "iopub.execute_input": "2023-11-16T12:28:54.305984Z",
     "iopub.status.busy": "2023-11-16T12:28:54.305759Z",
     "iopub.status.idle": "2023-11-16T12:28:56.476391Z",
     "shell.execute_reply": "2023-11-16T12:28:56.475487Z"
    },
    "id": "a86OoYtO01go"
   },
   "outputs": [
    {
     "data": {
      "text/plain": [
       "<tf.RaggedTensor [[b'a', b'b', b'c', b'd', b'e', b'f', b'g'], [b'x', b'y', b'z']]>"
      ]
     },
     "execution_count": 6,
     "metadata": {},
     "output_type": "execute_result"
    }
   ],
   "source": [
    "example_texts = ['abcdefg', 'xyz']\n",
    "\n",
    "chars = tf.strings.unicode_split(example_texts, input_encoding='UTF-8')\n",
    "chars"
   ]
  },
  {
   "cell_type": "markdown",
   "metadata": {
    "id": "1s4f1q3iqY8f"
   },
   "source": [
    "Now create the `tf.keras.layers.StringLookup` layer:"
   ]
  },
  {
   "cell_type": "code",
   "execution_count": 7,
   "metadata": {
    "execution": {
     "iopub.execute_input": "2023-11-16T12:28:56.479758Z",
     "iopub.status.busy": "2023-11-16T12:28:56.479480Z",
     "iopub.status.idle": "2023-11-16T12:28:56.500032Z",
     "shell.execute_reply": "2023-11-16T12:28:56.499180Z"
    },
    "id": "6GMlCe3qzaL9"
   },
   "outputs": [],
   "source": [
    "ids_from_chars = tf.keras.layers.StringLookup(\n",
    "    vocabulary=list(vocab), mask_token=None)"
   ]
  },
  {
   "cell_type": "markdown",
   "metadata": {
    "id": "ZmX_jbgQqfOi"
   },
   "source": [
    "It converts from tokens to character IDs:"
   ]
  },
  {
   "cell_type": "code",
   "execution_count": 8,
   "metadata": {
    "execution": {
     "iopub.execute_input": "2023-11-16T12:28:56.503579Z",
     "iopub.status.busy": "2023-11-16T12:28:56.503326Z",
     "iopub.status.idle": "2023-11-16T12:28:56.512120Z",
     "shell.execute_reply": "2023-11-16T12:28:56.511277Z"
    },
    "id": "WLv5Q_2TC2pc"
   },
   "outputs": [
    {
     "data": {
      "text/plain": [
       "<tf.RaggedTensor [[42, 43, 44, 45, 46, 47, 48], [65, 66, 67]]>"
      ]
     },
     "execution_count": 8,
     "metadata": {},
     "output_type": "execute_result"
    }
   ],
   "source": [
    "ids = ids_from_chars(chars)\n",
    "ids"
   ]
  },
  {
   "cell_type": "markdown",
   "metadata": {
    "id": "tZfqhkYCymwX"
   },
   "source": [
    "Since the goal of this tutorial is to generate text, it will also be important to invert this representation and recover human-readable strings from it. For this you can use `tf.keras.layers.StringLookup(..., invert=True)`.  "
   ]
  },
  {
   "cell_type": "markdown",
   "metadata": {
    "id": "uenivzwqsDhp"
   },
   "source": [
    "Note: Here instead of passing the original vocabulary generated with `sorted(set(text))` use the `get_vocabulary()` method of the `tf.keras.layers.StringLookup` layer so that the `[UNK]` tokens is set the same way."
   ]
  },
  {
   "cell_type": "code",
   "execution_count": 9,
   "metadata": {
    "execution": {
     "iopub.execute_input": "2023-11-16T12:28:56.515523Z",
     "iopub.status.busy": "2023-11-16T12:28:56.515247Z",
     "iopub.status.idle": "2023-11-16T12:28:56.527399Z",
     "shell.execute_reply": "2023-11-16T12:28:56.526413Z"
    },
    "id": "Wd2m3mqkDjRj"
   },
   "outputs": [],
   "source": [
    "chars_from_ids = tf.keras.layers.StringLookup(\n",
    "    vocabulary=ids_from_chars.get_vocabulary(), invert=True, mask_token=None)"
   ]
  },
  {
   "cell_type": "markdown",
   "metadata": {
    "id": "pqTDDxS-s-H8"
   },
   "source": [
    "This layer recovers the characters from the vectors of IDs, and returns them as a `tf.RaggedTensor` of characters:"
   ]
  },
  {
   "cell_type": "code",
   "execution_count": 10,
   "metadata": {
    "execution": {
     "iopub.execute_input": "2023-11-16T12:28:56.530933Z",
     "iopub.status.busy": "2023-11-16T12:28:56.530668Z",
     "iopub.status.idle": "2023-11-16T12:28:56.537090Z",
     "shell.execute_reply": "2023-11-16T12:28:56.536263Z"
    },
    "id": "c2GCh0ySD44s"
   },
   "outputs": [
    {
     "data": {
      "text/plain": [
       "<tf.RaggedTensor [[b'a', b'b', b'c', b'd', b'e', b'f', b'g'], [b'x', b'y', b'z']]>"
      ]
     },
     "execution_count": 10,
     "metadata": {},
     "output_type": "execute_result"
    }
   ],
   "source": [
    "chars = chars_from_ids(ids)\n",
    "chars"
   ]
  },
  {
   "cell_type": "markdown",
   "metadata": {
    "id": "-FeW5gqutT3o"
   },
   "source": [
    "You can `tf.strings.reduce_join` to join the characters back into strings. "
   ]
  },
  {
   "cell_type": "code",
   "execution_count": 11,
   "metadata": {
    "execution": {
     "iopub.execute_input": "2023-11-16T12:28:56.540726Z",
     "iopub.status.busy": "2023-11-16T12:28:56.540204Z",
     "iopub.status.idle": "2023-11-16T12:28:56.612264Z",
     "shell.execute_reply": "2023-11-16T12:28:56.611386Z"
    },
    "id": "zxYI-PeltqKP"
   },
   "outputs": [
    {
     "data": {
      "text/plain": [
       "array([b'abcdefg', b'xyz'], dtype=object)"
      ]
     },
     "execution_count": 11,
     "metadata": {},
     "output_type": "execute_result"
    }
   ],
   "source": [
    "tf.strings.reduce_join(chars, axis=-1).numpy()"
   ]
  },
  {
   "cell_type": "code",
   "execution_count": 12,
   "metadata": {
    "execution": {
     "iopub.execute_input": "2023-11-16T12:28:56.615892Z",
     "iopub.status.busy": "2023-11-16T12:28:56.615233Z",
     "iopub.status.idle": "2023-11-16T12:28:56.619392Z",
     "shell.execute_reply": "2023-11-16T12:28:56.618581Z"
    },
    "id": "w5apvBDn9Ind"
   },
   "outputs": [],
   "source": [
    "def text_from_ids(ids):\n",
    "  return tf.strings.reduce_join(chars_from_ids(ids), axis=-1)"
   ]
  },
  {
   "cell_type": "markdown",
   "metadata": {
    "id": "bbmsf23Bymwe"
   },
   "source": [
    "### The prediction task"
   ]
  },
  {
   "cell_type": "markdown",
   "metadata": {
    "id": "wssHQ1oGymwe"
   },
   "source": [
    "Given a character, or a sequence of characters, what is the most probable next character? This is the task you're training the model to perform. The input to the model will be a sequence of characters, and you train the model to predict the output—the following character at each time step.\n",
    "\n",
    "Since RNNs maintain an internal state that depends on the previously seen elements, given all the characters computed until this moment, what is the next character?\n"
   ]
  },
  {
   "cell_type": "markdown",
   "metadata": {
    "id": "hgsVvVxnymwf"
   },
   "source": [
    "### Create training examples and targets\n",
    "\n",
    "Next divide the text into example sequences. Each input sequence will contain `seq_length` characters from the text.\n",
    "\n",
    "For each input sequence, the corresponding targets contain the same length of text, except shifted one character to the right.\n",
    "\n",
    "So break the text into chunks of `seq_length+1`. For example, say `seq_length` is 4 and our text is \"Hello\". The input sequence would be \"Hell\", and the target sequence \"ello\".\n",
    "\n",
    "To do this first use the `tf.data.Dataset.from_tensor_slices` function to convert the text vector into a stream of character indices."
   ]
  },
  {
   "cell_type": "code",
   "execution_count": 13,
   "metadata": {
    "execution": {
     "iopub.execute_input": "2023-11-16T12:28:56.622927Z",
     "iopub.status.busy": "2023-11-16T12:28:56.622442Z",
     "iopub.status.idle": "2023-11-16T12:28:57.016742Z",
     "shell.execute_reply": "2023-11-16T12:28:57.015824Z"
    },
    "id": "UopbsKi88tm5"
   },
   "outputs": [
    {
     "data": {
      "text/plain": [
       "<tf.Tensor: shape=(2488,), dtype=int64, numpy=array([22, 49, 42, ..., 18,  2,  1], dtype=int64)>"
      ]
     },
     "execution_count": 13,
     "metadata": {},
     "output_type": "execute_result"
    }
   ],
   "source": [
    "all_ids = ids_from_chars(tf.strings.unicode_split(text, 'UTF-8'))\n",
    "all_ids"
   ]
  },
  {
   "cell_type": "code",
   "execution_count": 14,
   "metadata": {
    "execution": {
     "iopub.execute_input": "2023-11-16T12:28:57.020447Z",
     "iopub.status.busy": "2023-11-16T12:28:57.019715Z",
     "iopub.status.idle": "2023-11-16T12:28:57.025333Z",
     "shell.execute_reply": "2023-11-16T12:28:57.024427Z"
    },
    "id": "qmxrYDCTy-eL"
   },
   "outputs": [],
   "source": [
    "ids_dataset = tf.data.Dataset.from_tensor_slices(all_ids)"
   ]
  },
  {
   "cell_type": "code",
   "execution_count": 15,
   "metadata": {
    "execution": {
     "iopub.execute_input": "2023-11-16T12:28:57.028784Z",
     "iopub.status.busy": "2023-11-16T12:28:57.028159Z",
     "iopub.status.idle": "2023-11-16T12:28:57.054262Z",
     "shell.execute_reply": "2023-11-16T12:28:57.053600Z"
    },
    "id": "cjH5v45-yqqH"
   },
   "outputs": [
    {
     "name": "stdout",
     "output_type": "stream",
     "text": [
      "C\n",
      "h\n",
      "a\n",
      "m\n",
      ":\n",
      " \n",
      "<\n",
      "M\n",
      "e\n",
      "d\n"
     ]
    }
   ],
   "source": [
    "for ids in ids_dataset.take(10):\n",
    "    print(chars_from_ids(ids).numpy().decode('utf-8'))"
   ]
  },
  {
   "cell_type": "code",
   "execution_count": 16,
   "metadata": {
    "execution": {
     "iopub.execute_input": "2023-11-16T12:28:57.057537Z",
     "iopub.status.busy": "2023-11-16T12:28:57.057035Z",
     "iopub.status.idle": "2023-11-16T12:28:57.060268Z",
     "shell.execute_reply": "2023-11-16T12:28:57.059485Z"
    },
    "id": "C-G2oaTxy6km"
   },
   "outputs": [],
   "source": [
    "seq_length = 100\n"
   ]
  },
  {
   "cell_type": "markdown",
   "metadata": {
    "id": "-ZSYAcQV8OGP"
   },
   "source": [
    "The `batch` method lets you easily convert these individual characters to sequences of the desired size."
   ]
  },
  {
   "cell_type": "code",
   "execution_count": 17,
   "metadata": {
    "execution": {
     "iopub.execute_input": "2023-11-16T12:28:57.063362Z",
     "iopub.status.busy": "2023-11-16T12:28:57.063138Z",
     "iopub.status.idle": "2023-11-16T12:28:57.079344Z",
     "shell.execute_reply": "2023-11-16T12:28:57.078694Z"
    },
    "id": "BpdjRO2CzOfZ"
   },
   "outputs": [
    {
     "name": "stdout",
     "output_type": "stream",
     "text": [
      "tf.Tensor(\n",
      "[b'C' b'h' b'a' b'm' b':' b' ' b'<' b'M' b'e' b'd' b'i' b'a' b' ' b'o'\n",
      " b'm' b'i' b't' b't' b'e' b'd' b'>' b'\\r' b'\\n' b'J' b'a' b's' b'r' b'i'\n",
      " b'z' b'z' b':' b' ' b'T' b'h' b'a' b't' b' ' b'w' b'a' b's' b' ' b'a'\n",
      " b'm' b'a' b'z' b'i' b'n' b'g' b'\\r' b'\\n' b'J' b'a' b's' b'r' b'i' b'z'\n",
      " b'z' b':' b' ' b'W' b'h' b'o' b\"'\" b's' b' ' b'm' b'y' b' ' b'f' b'a'\n",
      " b'v' b'o' b'u' b'r' b'i' b't' b'e' b' ' b's' b'u' b'p' b'e' b'r' b' '\n",
      " b'd' b'u' b'p' b'e' b'r' b' ' b'f' b'a' b'm' b'o' b'u' b's' b' ' b's'\n",
      " b't' b'a' b'r'], shape=(101,), dtype=string)\n"
     ]
    }
   ],
   "source": [
    "sequences = ids_dataset.batch(seq_length+1, drop_remainder=True)\n",
    "\n",
    "for seq in sequences.take(1):\n",
    "  print(chars_from_ids(seq))"
   ]
  },
  {
   "cell_type": "markdown",
   "metadata": {
    "id": "5PHW902-4oZt"
   },
   "source": [
    "It's easier to see what this is doing if you join the tokens back into strings:"
   ]
  },
  {
   "cell_type": "code",
   "execution_count": 18,
   "metadata": {
    "execution": {
     "iopub.execute_input": "2023-11-16T12:28:57.082545Z",
     "iopub.status.busy": "2023-11-16T12:28:57.082097Z",
     "iopub.status.idle": "2023-11-16T12:28:57.097362Z",
     "shell.execute_reply": "2023-11-16T12:28:57.096684Z"
    },
    "id": "QO32cMWu4a06"
   },
   "outputs": [
    {
     "name": "stdout",
     "output_type": "stream",
     "text": [
      "b\"Cham: <Media omitted>\\r\\nJasrizz: That was amazing\\r\\nJasrizz: Who's my favourite super duper famous star\"\n",
      "b\"??\\r\\nCham: oh jas, you're flattering me too much x\\r\\nJasrizz: And you're loving it x\\r\\nCham: yeah slight\"\n",
      "b\"ly\\r\\nCham: don't worry, it won't be long until you get your own private show x\\r\\nJasrizz: That sounds v\"\n",
      "b'aguely sexual, you  better strip for me \\xf0\\x9f\\x91\\x80\\r\\nCham: it unfortunately sounded very sexual\\r\\nCham: but I do'\n",
      "b\" not disappoint\\r\\nJasrizz: Better hurry back to Nottingham sooner then later then\\r\\nCham: oh I know, I'\"\n"
     ]
    }
   ],
   "source": [
    "for seq in sequences.take(5):\n",
    "  print(text_from_ids(seq).numpy())"
   ]
  },
  {
   "cell_type": "markdown",
   "metadata": {
    "id": "UbLcIPBj_mWZ"
   },
   "source": [
    "For training you'll need a dataset of `(input, label)` pairs. Where `input` and \n",
    "`label` are sequences. At each time step the input is the current character and the label is the next character. \n",
    "\n",
    "Here's a function that takes a sequence as input, duplicates, and shifts it to align the input and label for each timestep:"
   ]
  },
  {
   "cell_type": "code",
   "execution_count": 19,
   "metadata": {
    "execution": {
     "iopub.execute_input": "2023-11-16T12:28:57.100570Z",
     "iopub.status.busy": "2023-11-16T12:28:57.099992Z",
     "iopub.status.idle": "2023-11-16T12:28:57.103529Z",
     "shell.execute_reply": "2023-11-16T12:28:57.102915Z"
    },
    "id": "9NGu-FkO_kYU"
   },
   "outputs": [],
   "source": [
    "def split_input_target(sequence):\n",
    "    input_text = sequence[:-1]\n",
    "    target_text = sequence[1:]\n",
    "    return input_text, target_text"
   ]
  },
  {
   "cell_type": "code",
   "execution_count": 20,
   "metadata": {
    "execution": {
     "iopub.execute_input": "2023-11-16T12:28:57.106445Z",
     "iopub.status.busy": "2023-11-16T12:28:57.106212Z",
     "iopub.status.idle": "2023-11-16T12:28:57.110783Z",
     "shell.execute_reply": "2023-11-16T12:28:57.110161Z"
    },
    "id": "WxbDTJTw5u_P"
   },
   "outputs": [
    {
     "data": {
      "text/plain": [
       "(['T', 'e', 'n', 's', 'o', 'r', 'f', 'l', 'o'],\n",
       " ['e', 'n', 's', 'o', 'r', 'f', 'l', 'o', 'w'])"
      ]
     },
     "execution_count": 20,
     "metadata": {},
     "output_type": "execute_result"
    }
   ],
   "source": [
    "split_input_target(list(\"Tensorflow\"))"
   ]
  },
  {
   "cell_type": "code",
   "execution_count": 21,
   "metadata": {
    "execution": {
     "iopub.execute_input": "2023-11-16T12:28:57.113994Z",
     "iopub.status.busy": "2023-11-16T12:28:57.113409Z",
     "iopub.status.idle": "2023-11-16T12:28:57.150308Z",
     "shell.execute_reply": "2023-11-16T12:28:57.149691Z"
    },
    "id": "B9iKPXkw5xwa"
   },
   "outputs": [],
   "source": [
    "dataset = sequences.map(split_input_target)"
   ]
  },
  {
   "cell_type": "code",
   "execution_count": 22,
   "metadata": {
    "execution": {
     "iopub.execute_input": "2023-11-16T12:28:57.153244Z",
     "iopub.status.busy": "2023-11-16T12:28:57.153010Z",
     "iopub.status.idle": "2023-11-16T12:28:57.182838Z",
     "shell.execute_reply": "2023-11-16T12:28:57.182219Z"
    },
    "id": "GNbw-iR0ymwj"
   },
   "outputs": [
    {
     "name": "stdout",
     "output_type": "stream",
     "text": [
      "Input : b\"Cham: <Media omitted>\\r\\nJasrizz: That was amazing\\r\\nJasrizz: Who's my favourite super duper famous sta\"\n",
      "Target: b\"ham: <Media omitted>\\r\\nJasrizz: That was amazing\\r\\nJasrizz: Who's my favourite super duper famous star\"\n"
     ]
    }
   ],
   "source": [
    "for input_example, target_example in dataset.take(1):\n",
    "    print(\"Input :\", text_from_ids(input_example).numpy())\n",
    "    print(\"Target:\", text_from_ids(target_example).numpy())"
   ]
  },
  {
   "cell_type": "markdown",
   "metadata": {
    "id": "MJdfPmdqzf-R"
   },
   "source": [
    "### Create training batches\n",
    "\n",
    "You used `tf.data` to split the text into manageable sequences. But before feeding this data into the model, you need to shuffle the data and pack it into batches."
   ]
  },
  {
   "cell_type": "code",
   "execution_count": 23,
   "metadata": {
    "execution": {
     "iopub.execute_input": "2023-11-16T12:28:57.186368Z",
     "iopub.status.busy": "2023-11-16T12:28:57.185700Z",
     "iopub.status.idle": "2023-11-16T12:28:57.196417Z",
     "shell.execute_reply": "2023-11-16T12:28:57.195811Z"
    },
    "id": "p2pGotuNzf-S"
   },
   "outputs": [
    {
     "data": {
      "text/plain": [
       "<_PrefetchDataset element_spec=(TensorSpec(shape=(5, 100), dtype=tf.int64, name=None), TensorSpec(shape=(5, 100), dtype=tf.int64, name=None))>"
      ]
     },
     "execution_count": 23,
     "metadata": {},
     "output_type": "execute_result"
    }
   ],
   "source": [
    "# Batch size\n",
    "BATCH_SIZE = 5\n",
    "\n",
    "# Buffer size to shuffle the dataset\n",
    "# (TF data is designed to work with possibly infinite sequences,\n",
    "# so it doesn't attempt to shuffle the entire sequence in memory. Instead,\n",
    "# it maintains a buffer in which it shuffles elements).\n",
    "BUFFER_SIZE = 10000\n",
    "\n",
    "dataset = (\n",
    "    dataset\n",
    "    .shuffle(BUFFER_SIZE)\n",
    "    .batch(BATCH_SIZE, drop_remainder=True)\n",
    "    .prefetch(tf.data.experimental.AUTOTUNE))\n",
    "\n",
    "dataset"
   ]
  },
  {
   "cell_type": "markdown",
   "metadata": {
    "id": "r6oUuElIMgVx"
   },
   "source": [
    "## Build The Model"
   ]
  },
  {
   "cell_type": "markdown",
   "metadata": {
    "id": "m8gPwEjRzf-Z"
   },
   "source": [
    "This section defines the model as a `keras.Model` subclass (For details see [Making new Layers and Models via subclassing](https://www.tensorflow.org/guide/keras/custom_layers_and_models)). \n",
    "\n",
    "This model has three layers:\n",
    "\n",
    "* `tf.keras.layers.Embedding`: The input layer. A trainable lookup table that will map each character-ID to a vector with `embedding_dim` dimensions;\n",
    "* `tf.keras.layers.GRU`: A type of RNN with size `units=rnn_units` (You can also use an LSTM layer here.)\n",
    "* `tf.keras.layers.Dense`: The output layer, with `vocab_size` outputs. It outputs one logit for each character in the vocabulary. These are the log-likelihood of each character according to the model."
   ]
  },
  {
   "cell_type": "code",
   "execution_count": 24,
   "metadata": {
    "execution": {
     "iopub.execute_input": "2023-11-16T12:28:57.199659Z",
     "iopub.status.busy": "2023-11-16T12:28:57.199433Z",
     "iopub.status.idle": "2023-11-16T12:28:57.203643Z",
     "shell.execute_reply": "2023-11-16T12:28:57.203074Z"
    },
    "id": "zHT8cLh7EAsg"
   },
   "outputs": [],
   "source": [
    "# Length of the vocabulary in StringLookup Layer\n",
    "vocab_size = len(ids_from_chars.get_vocabulary())\n",
    "\n",
    "# The embedding dimension\n",
    "embedding_dim = 256\n",
    "\n",
    "# Number of RNN units\n",
    "rnn_units = 1024"
   ]
  },
  {
   "cell_type": "code",
   "execution_count": 25,
   "metadata": {
    "execution": {
     "iopub.execute_input": "2023-11-16T12:28:57.206868Z",
     "iopub.status.busy": "2023-11-16T12:28:57.206479Z",
     "iopub.status.idle": "2023-11-16T12:28:57.212069Z",
     "shell.execute_reply": "2023-11-16T12:28:57.211498Z"
    },
    "id": "wj8HQ2w8z4iO"
   },
   "outputs": [],
   "source": [
    "class MyModel(tf.keras.Model):\n",
    "  def __init__(self, vocab_size, embedding_dim, rnn_units):\n",
    "    super().__init__(self)\n",
    "    self.embedding = tf.keras.layers.Embedding(vocab_size, embedding_dim)\n",
    "    self.gru = tf.keras.layers.GRU(rnn_units,\n",
    "                                   return_sequences=True,\n",
    "                                   return_state=True)\n",
    "    self.dense = tf.keras.layers.Dense(vocab_size)\n",
    "\n",
    "  def call(self, inputs, states=None, return_state=False, training=False):\n",
    "    x = inputs\n",
    "    x = self.embedding(x, training=training)\n",
    "    if states is None:\n",
    "      states = self.gru.get_initial_state(x)\n",
    "    x, states = self.gru(x, initial_state=states, training=training)\n",
    "    x = self.dense(x, training=training)\n",
    "\n",
    "    if return_state:\n",
    "      return x, states\n",
    "    else:\n",
    "      return x"
   ]
  },
  {
   "cell_type": "code",
   "execution_count": 26,
   "metadata": {
    "execution": {
     "iopub.execute_input": "2023-11-16T12:28:57.215201Z",
     "iopub.status.busy": "2023-11-16T12:28:57.214660Z",
     "iopub.status.idle": "2023-11-16T12:28:57.230058Z",
     "shell.execute_reply": "2023-11-16T12:28:57.229421Z"
    },
    "id": "IX58Xj9z47Aw"
   },
   "outputs": [],
   "source": [
    "model = MyModel(\n",
    "    vocab_size=vocab_size,\n",
    "    embedding_dim=embedding_dim,\n",
    "    rnn_units=rnn_units)"
   ]
  },
  {
   "cell_type": "markdown",
   "metadata": {
    "id": "RkA5upJIJ7W7"
   },
   "source": [
    "For each character the model looks up the embedding, runs the GRU one timestep with the embedding as input, and applies the dense layer to generate logits predicting the log-likelihood of the next character:\n",
    "\n",
    "![A drawing of the data passing through the model](images/text_generation_training.png)"
   ]
  },
  {
   "cell_type": "markdown",
   "metadata": {
    "id": "gKbfm04amhXk"
   },
   "source": [
    "Note: For training you could use a `keras.Sequential` model here. To  generate text later you'll need to manage the RNN's internal state. It's simpler to include the state input and output options upfront, than it is to rearrange the model architecture later. For more details see the [Keras RNN guide](https://www.tensorflow.org/guide/keras/rnn#rnn_state_reuse)."
   ]
  },
  {
   "cell_type": "markdown",
   "metadata": {
    "id": "-ubPo0_9Prjb"
   },
   "source": [
    "## Try the model\n",
    "\n",
    "Now run the model to see that it behaves as expected.\n",
    "\n",
    "First check the shape of the output:"
   ]
  },
  {
   "cell_type": "code",
   "execution_count": 27,
   "metadata": {
    "execution": {
     "iopub.execute_input": "2023-11-16T12:28:57.233847Z",
     "iopub.status.busy": "2023-11-16T12:28:57.233365Z",
     "iopub.status.idle": "2023-11-16T12:28:59.298091Z",
     "shell.execute_reply": "2023-11-16T12:28:59.297223Z"
    },
    "id": "C-_70kKAPrPU"
   },
   "outputs": [
    {
     "name": "stdout",
     "output_type": "stream",
     "text": [
      "(5, 100, 74) # (batch_size, sequence_length, vocab_size)\n"
     ]
    }
   ],
   "source": [
    "for input_example_batch, target_example_batch in dataset.take(1):\n",
    "    example_batch_predictions = model(input_example_batch)\n",
    "    print(example_batch_predictions.shape, \"# (batch_size, sequence_length, vocab_size)\")"
   ]
  },
  {
   "cell_type": "code",
   "execution_count": 28,
   "metadata": {},
   "outputs": [
    {
     "name": "stdout",
     "output_type": "stream",
     "text": [
      "tf.Tensor(\n",
      "[[61 56  3 44 56 54 46  3 61 56 48 46 61 49 46 59  3 47 56 59  3 61 49 50\n",
      "  60  3 46 63 46 55 61 10  3 37 49 50 60  3 64 50 53 53  3 50 55 44 53 62\n",
      "  45 46 16  2  1 60 60  3  2  1 50 55 48  3  2  1 60 60  2  1 42 60 60  2\n",
      "   1  2  1  2  1  2  1  2  1 33  3 33 34 40  8  2  1 22 49 42 54 16  3 17\n",
      "  32 46 45 50]\n",
      " [37 49 56 10 10 10  3 28  3 45 50 45  3 61 42 52 46  3 50 61  3 56 47 47\n",
      "   3 66 56 62 59  3 64 42 50 60 61  2  1 22 49 42 54 16  3 46 65 42 44 61\n",
      "  53 66  9  3 28  5 54  3 42 55  3 50 55 55 56 44 46 55 61  3 63 50 44 61\n",
      "  50 54  3 72  2  1 29 42 60 59 50 67 67 16  3 41 56 62  3 53 56 63 46 45\n",
      "   3 46 63 46]\n",
      " [ 1 62 57 46 59 43  3 13 11 13 14  3 68 69  3 64 50 61 49  3 60 56 54 46\n",
      "   3 50 55 44 59 46 45 50 43 53 46  3 42 44 49 50 46 63 46 54 46 55 61 60\n",
      "   3 64 46  3 64 56 62 53 45  3 53 56 63 46  3 73  3 42 60  3 54 42 55 66\n",
      "   3 60 61 62 45 46 55 61 60  3 42 55 45  3 47 42 54 50 53 66  3 54 46 54\n",
      "  43 46 59 60]\n",
      " [67 67 16  3 20 53 60 56  3 61 49 42 55 52  3 66 56 62  3 47 56 59  3 60\n",
      "  49 42 59 50 55 48  3  6  3 42 55 45  3 59 46 44 56 59 45 50 55 48  7  3\n",
      "  61 49 42 61  3 63 50 45 46 56  3 16  7  7  3 28  3 42 57 57 59 46 44 50\n",
      "  42 61 46  3 50 61  2  1 29 42 60 59 50 67 67 16  3 40 42 55 61  3 61 56\n",
      "   3 61 42 53]\n",
      " [ 3 12 15  3 66 46 42 59 60  3 65 65  3 64 46 59 46  3 66 56 62  3 47 46\n",
      "  46 53 50 55 48  3 45 56 64 55  3 53 42 60 61  3 55 50 48 49 61  3 43 46\n",
      "  47 56 59 46  3 28  3 53 46 47 61 19  3 28  3 47 46 53 61  3 53 50 52 46\n",
      "   3 28  3 53 46 47 61  3 42  3 43 50 61  3 42 43 59 62 57 61 53 66  2  1\n",
      "  29 42 60 59]], shape=(5, 100), dtype=int64)\n"
     ]
    }
   ],
   "source": [
    "for input_example_batch, target_example_batch in dataset.take(1):\n",
    "    print(input_example_batch)"
   ]
  },
  {
   "cell_type": "markdown",
   "metadata": {
    "id": "Q6NzLBi4VM4o"
   },
   "source": [
    "In the above example the sequence length of the input is `100` but the model can be run on inputs of any length:"
   ]
  },
  {
   "cell_type": "code",
   "execution_count": 29,
   "metadata": {
    "execution": {
     "iopub.execute_input": "2023-11-16T12:28:59.301864Z",
     "iopub.status.busy": "2023-11-16T12:28:59.301192Z",
     "iopub.status.idle": "2023-11-16T12:28:59.313047Z",
     "shell.execute_reply": "2023-11-16T12:28:59.312318Z"
    },
    "id": "vPGmAAXmVLGC"
   },
   "outputs": [
    {
     "name": "stdout",
     "output_type": "stream",
     "text": [
      "Model: \"my_model\"\n",
      "_________________________________________________________________\n",
      " Layer (type)                Output Shape              Param #   \n",
      "=================================================================\n",
      " embedding (Embedding)       multiple                  18944     \n",
      "                                                                 \n",
      " gru (GRU)                   multiple                  3938304   \n",
      "                                                                 \n",
      " dense (Dense)               multiple                  75850     \n",
      "                                                                 \n",
      "=================================================================\n",
      "Total params: 4033098 (15.39 MB)\n",
      "Trainable params: 4033098 (15.39 MB)\n",
      "Non-trainable params: 0 (0.00 Byte)\n",
      "_________________________________________________________________\n"
     ]
    }
   ],
   "source": [
    "model.summary()"
   ]
  },
  {
   "cell_type": "markdown",
   "metadata": {
    "id": "uwv0gEkURfx1"
   },
   "source": [
    "To get actual predictions from the model you need to sample from the output distribution, to get actual character indices. This distribution is defined by the logits over the character vocabulary.\n",
    "\n",
    "Note: It is important to _sample_ from this distribution as taking the _argmax_ of the distribution can easily get the model stuck in a loop.\n",
    "\n",
    "Try it for the first example in the batch:"
   ]
  },
  {
   "cell_type": "code",
   "execution_count": 30,
   "metadata": {
    "execution": {
     "iopub.execute_input": "2023-11-16T12:28:59.320016Z",
     "iopub.status.busy": "2023-11-16T12:28:59.319623Z",
     "iopub.status.idle": "2023-11-16T12:28:59.326563Z",
     "shell.execute_reply": "2023-11-16T12:28:59.325985Z"
    },
    "id": "4V4MfFg0RQJg"
   },
   "outputs": [],
   "source": [
    "sampled_indices = tf.random.categorical(example_batch_predictions[0], num_samples=1)\n",
    "sampled_indices = tf.squeeze(sampled_indices, axis=-1).numpy()"
   ]
  },
  {
   "cell_type": "markdown",
   "metadata": {
    "id": "QM1Vbxs_URw5"
   },
   "source": [
    "This gives us, at each timestep, a prediction of the next character index:"
   ]
  },
  {
   "cell_type": "code",
   "execution_count": 31,
   "metadata": {
    "execution": {
     "iopub.execute_input": "2023-11-16T12:28:59.330052Z",
     "iopub.status.busy": "2023-11-16T12:28:59.329445Z",
     "iopub.status.idle": "2023-11-16T12:28:59.333889Z",
     "shell.execute_reply": "2023-11-16T12:28:59.333297Z"
    },
    "id": "YqFMUQc_UFgM"
   },
   "outputs": [
    {
     "data": {
      "text/plain": [
       "array([58, 12, 58, 11, 28, 25, 58, 44, 62, 59,  8, 30, 50, 38, 31, 56, 22,\n",
       "       17, 16, 10, 19, 26, 23,  0, 10, 12, 72, 24, 36, 18, 11, 30, 46,  7,\n",
       "       73, 72, 36, 21, 14, 54, 41, 49, 68, 54, 24, 25, 55, 60, 19, 53, 15,\n",
       "       70, 69,  3, 64, 49, 15, 17, 45, 56, 60, 38, 72, 64, 51, 65, 42, 11,\n",
       "       25,  2, 43, 22, 10, 37, 33, 42, 12, 72, 20, 68, 70, 60, 31, 24, 40,\n",
       "       15, 30, 67, 45, 42,  0, 63,  8,  4, 37, 55, 57, 14, 69, 28],\n",
       "      dtype=int64)"
      ]
     },
     "execution_count": 31,
     "metadata": {},
     "output_type": "execute_result"
    }
   ],
   "source": [
    "sampled_indices"
   ]
  },
  {
   "cell_type": "markdown",
   "metadata": {
    "id": "LfLtsP3mUhCG"
   },
   "source": [
    "Decode these to see the text predicted by this untrained model:"
   ]
  },
  {
   "cell_type": "code",
   "execution_count": 32,
   "metadata": {
    "execution": {
     "iopub.execute_input": "2023-11-16T12:28:59.337383Z",
     "iopub.status.busy": "2023-11-16T12:28:59.336856Z",
     "iopub.status.idle": "2023-11-16T12:28:59.343044Z",
     "shell.execute_reply": "2023-11-16T12:28:59.342429Z"
    },
    "id": "xWcFwPwLSo05"
   },
   "outputs": [
    {
     "name": "stdout",
     "output_type": "stream",
     "text": [
      "Input:\n",
      " b'to come together for this event. This will include:\\r\\nss \\r\\ning \\r\\nss\\r\\nass\\r\\n\\r\\n\\r\\n\\r\\n\\r\\nN NOW*\\r\\nCham: <Medi'\n",
      "\n",
      "Next Char Predictions:\n",
      " b'q1q0IFqcur*KiULoC<:.?GD[UNK].1\\xf0\\x9f\\x98\\xadES>0Ke)\\xf0\\x9f\\xa5\\xb0\\xf0\\x9f\\x98\\xadSB3mYh\\xe2\\x9c\\xa8mEFns?l6\\xf0\\x9f\\x91\\x80\\xef\\xb8\\x8f wh6<dosU\\xf0\\x9f\\x98\\xadwjxa0F\\rbC.TNa1\\xf0\\x9f\\x98\\xadA\\xe2\\x9c\\xa8\\xf0\\x9f\\x91\\x80sLEW6Kzda[UNK]v*&Tnp3\\xef\\xb8\\x8fI'\n"
     ]
    }
   ],
   "source": [
    "print(\"Input:\\n\", text_from_ids(input_example_batch[0]).numpy())\n",
    "print()\n",
    "print(\"Next Char Predictions:\\n\", text_from_ids(sampled_indices).numpy())"
   ]
  },
  {
   "cell_type": "markdown",
   "metadata": {
    "id": "LJL0Q0YPY6Ee"
   },
   "source": [
    "## Train the model"
   ]
  },
  {
   "cell_type": "markdown",
   "metadata": {
    "id": "YCbHQHiaa4Ic"
   },
   "source": [
    "At this point the problem can be treated as a standard classification problem. Given the previous RNN state, and the input this time step, predict the class of the next character."
   ]
  },
  {
   "cell_type": "markdown",
   "metadata": {
    "id": "trpqTWyvk0nr"
   },
   "source": [
    "### Attach an optimizer, and a loss function"
   ]
  },
  {
   "cell_type": "markdown",
   "metadata": {
    "id": "UAjbjY03eiQ4"
   },
   "source": [
    "The standard `tf.keras.losses.sparse_categorical_crossentropy` loss function works in this case because it is applied across the last dimension of the predictions.\n",
    "\n",
    "Because your model returns logits, you need to set the `from_logits` flag.\n"
   ]
  },
  {
   "cell_type": "code",
   "execution_count": 33,
   "metadata": {
    "execution": {
     "iopub.execute_input": "2023-11-16T12:28:59.346468Z",
     "iopub.status.busy": "2023-11-16T12:28:59.346077Z",
     "iopub.status.idle": "2023-11-16T12:28:59.349273Z",
     "shell.execute_reply": "2023-11-16T12:28:59.348679Z"
    },
    "id": "ZOeWdgxNFDXq"
   },
   "outputs": [],
   "source": [
    "loss = tf.losses.SparseCategoricalCrossentropy(from_logits=True)"
   ]
  },
  {
   "cell_type": "code",
   "execution_count": 34,
   "metadata": {
    "execution": {
     "iopub.execute_input": "2023-11-16T12:28:59.352397Z",
     "iopub.status.busy": "2023-11-16T12:28:59.351903Z",
     "iopub.status.idle": "2023-11-16T12:28:59.372218Z",
     "shell.execute_reply": "2023-11-16T12:28:59.371637Z"
    },
    "id": "4HrXTACTdzY-"
   },
   "outputs": [
    {
     "name": "stdout",
     "output_type": "stream",
     "text": [
      "Prediction shape:  (5, 100, 74)  # (batch_size, sequence_length, vocab_size)\n",
      "Mean loss:         tf.Tensor(4.303265, shape=(), dtype=float32)\n"
     ]
    }
   ],
   "source": [
    "example_batch_mean_loss = loss(target_example_batch, example_batch_predictions)\n",
    "print(\"Prediction shape: \", example_batch_predictions.shape, \" # (batch_size, sequence_length, vocab_size)\")\n",
    "print(\"Mean loss:        \", example_batch_mean_loss)"
   ]
  },
  {
   "cell_type": "markdown",
   "metadata": {
    "id": "vkvUIneTFiow"
   },
   "source": [
    "A newly initialized model shouldn't be too sure of itself, the output logits should all have similar magnitudes. To confirm this you can check that the exponential of the mean loss is approximately equal to the vocabulary size. A much higher loss means the model is sure of its wrong answers, and is badly initialized:"
   ]
  },
  {
   "cell_type": "code",
   "execution_count": 35,
   "metadata": {
    "execution": {
     "iopub.execute_input": "2023-11-16T12:28:59.375456Z",
     "iopub.status.busy": "2023-11-16T12:28:59.375183Z",
     "iopub.status.idle": "2023-11-16T12:28:59.468894Z",
     "shell.execute_reply": "2023-11-16T12:28:59.468146Z"
    },
    "id": "MAJfS5YoFiHf"
   },
   "outputs": [
    {
     "data": {
      "text/plain": [
       "73.94083"
      ]
     },
     "execution_count": 35,
     "metadata": {},
     "output_type": "execute_result"
    }
   ],
   "source": [
    "tf.exp(example_batch_mean_loss).numpy()"
   ]
  },
  {
   "cell_type": "markdown",
   "metadata": {
    "id": "jeOXriLcymww"
   },
   "source": [
    "Configure the training procedure using the `tf.keras.Model.compile` method. Use `tf.keras.optimizers.Adam` with default arguments and the loss function."
   ]
  },
  {
   "cell_type": "code",
   "execution_count": 36,
   "metadata": {
    "execution": {
     "iopub.execute_input": "2023-11-16T12:28:59.472229Z",
     "iopub.status.busy": "2023-11-16T12:28:59.471982Z",
     "iopub.status.idle": "2023-11-16T12:28:59.487518Z",
     "shell.execute_reply": "2023-11-16T12:28:59.486923Z"
    },
    "id": "DDl1_Een6rL0"
   },
   "outputs": [],
   "source": [
    "model.compile(optimizer='adam', loss=loss)"
   ]
  },
  {
   "cell_type": "markdown",
   "metadata": {
    "id": "ieSJdchZggUj"
   },
   "source": [
    "### Configure checkpoints"
   ]
  },
  {
   "cell_type": "markdown",
   "metadata": {
    "id": "C6XBUUavgF56"
   },
   "source": [
    "Use a `tf.keras.callbacks.ModelCheckpoint` to ensure that checkpoints are saved during training:"
   ]
  },
  {
   "cell_type": "code",
   "execution_count": 37,
   "metadata": {
    "execution": {
     "iopub.execute_input": "2023-11-16T12:28:59.491101Z",
     "iopub.status.busy": "2023-11-16T12:28:59.490600Z",
     "iopub.status.idle": "2023-11-16T12:28:59.494365Z",
     "shell.execute_reply": "2023-11-16T12:28:59.493792Z"
    },
    "id": "W6fWTriUZP-n"
   },
   "outputs": [],
   "source": [
    "# Directory where the checkpoints will be saved\n",
    "checkpoint_dir = './training_checkpoints'\n",
    "# Name of the checkpoint files\n",
    "checkpoint_prefix = os.path.join(checkpoint_dir, \"ckpt_{epoch}\")\n",
    "\n",
    "checkpoint_callback = tf.keras.callbacks.ModelCheckpoint(\n",
    "    filepath=checkpoint_prefix,\n",
    "    save_weights_only=True)"
   ]
  },
  {
   "cell_type": "markdown",
   "metadata": {
    "id": "3Ky3F_BhgkTW"
   },
   "source": [
    "### Execute the training"
   ]
  },
  {
   "cell_type": "markdown",
   "metadata": {
    "id": "IxdOA-rgyGvs"
   },
   "source": [
    "To keep training time reasonable, use 10 epochs to train the model. In Colab, set the runtime to GPU for faster training."
   ]
  },
  {
   "cell_type": "code",
   "execution_count": 51,
   "metadata": {
    "execution": {
     "iopub.execute_input": "2023-11-16T12:28:59.503111Z",
     "iopub.status.busy": "2023-11-16T12:28:59.502603Z",
     "iopub.status.idle": "2023-11-16T12:32:44.620282Z",
     "shell.execute_reply": "2023-11-16T12:32:44.619503Z"
    },
    "id": "UK-hmKjYVoll"
   },
   "outputs": [
    {
     "name": "stdout",
     "output_type": "stream",
     "text": [
      "Epoch 1/5\n"
     ]
    },
    {
     "name": "stdout",
     "output_type": "stream",
     "text": [
      "4/4 [==============================] - 4s 966ms/step - loss: 2.8805\n",
      "Epoch 2/5\n",
      "4/4 [==============================] - 4s 957ms/step - loss: 2.7425\n",
      "Epoch 3/5\n",
      "4/4 [==============================] - 4s 956ms/step - loss: 2.5946\n",
      "Epoch 4/5\n",
      "4/4 [==============================] - 4s 949ms/step - loss: 2.4554\n",
      "Epoch 5/5\n",
      "4/4 [==============================] - 4s 952ms/step - loss: 2.2772\n"
     ]
    }
   ],
   "source": [
    "EPOCHS = 5\n",
    "\n",
    "history = model.fit(dataset, epochs=EPOCHS)"
   ]
  },
  {
   "cell_type": "markdown",
   "metadata": {
    "id": "kKkD5M6eoSiN"
   },
   "source": [
    "## Generate text"
   ]
  },
  {
   "cell_type": "markdown",
   "metadata": {
    "id": "oIdQ8c8NvMzV"
   },
   "source": [
    "The simplest way to generate text with this model is to run it in a loop, and keep track of the model's internal state as you execute it.\n",
    "\n",
    "![To generate text the model's output is fed back to the input](images/text_generation_sampling.png)\n",
    "\n",
    "Each time you call the model you pass in some text and an internal state. The model returns a prediction for the next character and its new state. Pass the prediction and state back in to continue generating text.\n"
   ]
  },
  {
   "cell_type": "markdown",
   "metadata": {
    "id": "DjGz1tDkzf-u"
   },
   "source": [
    "The following makes a single step prediction:"
   ]
  },
  {
   "cell_type": "code",
   "execution_count": 39,
   "metadata": {
    "execution": {
     "iopub.execute_input": "2023-11-16T12:32:44.624308Z",
     "iopub.status.busy": "2023-11-16T12:32:44.624035Z",
     "iopub.status.idle": "2023-11-16T12:32:44.632095Z",
     "shell.execute_reply": "2023-11-16T12:32:44.631505Z"
    },
    "id": "iSBU1tHmlUSs"
   },
   "outputs": [],
   "source": [
    "class OneStep(tf.keras.Model):\n",
    "  def __init__(self, model, chars_from_ids, ids_from_chars, temperature=1.0):\n",
    "    super().__init__()\n",
    "    self.temperature = temperature\n",
    "    self.model = model\n",
    "    self.chars_from_ids = chars_from_ids\n",
    "    self.ids_from_chars = ids_from_chars\n",
    "\n",
    "    # Create a mask to prevent \"[UNK]\" from being generated.\n",
    "    skip_ids = self.ids_from_chars(['[UNK]'])[:, None]\n",
    "    sparse_mask = tf.SparseTensor(\n",
    "        # Put a -inf at each bad index.\n",
    "        values=[-float('inf')]*len(skip_ids),\n",
    "        indices=skip_ids,\n",
    "        # Match the shape to the vocabulary\n",
    "        dense_shape=[len(ids_from_chars.get_vocabulary())])\n",
    "    self.prediction_mask = tf.sparse.to_dense(sparse_mask)\n",
    "\n",
    "  @tf.function\n",
    "  def generate_one_step(self, inputs, states=None):\n",
    "    # Convert strings to token IDs.\n",
    "    input_chars = tf.strings.unicode_split(inputs, 'UTF-8')\n",
    "    input_ids = self.ids_from_chars(input_chars).to_tensor()\n",
    "\n",
    "    # Run the model.\n",
    "    # predicted_logits.shape is [batch, char, next_char_logits]\n",
    "    predicted_logits, states = self.model(inputs=input_ids, states=states,\n",
    "                                          return_state=True)\n",
    "    # Only use the last prediction.\n",
    "    predicted_logits = predicted_logits[:, -1, :]\n",
    "    predicted_logits = predicted_logits/self.temperature\n",
    "    # Apply the prediction mask: prevent \"[UNK]\" from being generated.\n",
    "    predicted_logits = predicted_logits + self.prediction_mask\n",
    "\n",
    "    # Sample the output logits to generate token IDs.\n",
    "    predicted_ids = tf.random.categorical(predicted_logits, num_samples=1)\n",
    "    predicted_ids = tf.squeeze(predicted_ids, axis=-1)\n",
    "\n",
    "    # Convert from token ids to characters\n",
    "    predicted_chars = self.chars_from_ids(predicted_ids)\n",
    "\n",
    "    # Return the characters and model state.\n",
    "    return predicted_chars, states"
   ]
  },
  {
   "cell_type": "code",
   "execution_count": 40,
   "metadata": {
    "execution": {
     "iopub.execute_input": "2023-11-16T12:32:44.635387Z",
     "iopub.status.busy": "2023-11-16T12:32:44.634915Z",
     "iopub.status.idle": "2023-11-16T12:32:44.650442Z",
     "shell.execute_reply": "2023-11-16T12:32:44.649807Z"
    },
    "id": "fqMOuDutnOxK"
   },
   "outputs": [],
   "source": [
    "one_step_model = OneStep(model, chars_from_ids, ids_from_chars)"
   ]
  },
  {
   "cell_type": "markdown",
   "metadata": {
    "id": "p9yDoa0G3IgQ"
   },
   "source": [
    "Run it in a loop to generate some text. Looking at the generated text, you'll see the model knows when to capitalize, make paragraphs and imitates a Shakespeare-like writing vocabulary. With the small number of training epochs, it has not yet learned to form coherent sentences."
   ]
  },
  {
   "cell_type": "code",
   "execution_count": 55,
   "metadata": {
    "execution": {
     "iopub.execute_input": "2023-11-16T12:32:44.653513Z",
     "iopub.status.busy": "2023-11-16T12:32:44.653276Z",
     "iopub.status.idle": "2023-11-16T12:32:47.538437Z",
     "shell.execute_reply": "2023-11-16T12:32:47.537704Z"
    },
    "id": "ST7PSyk9t1mT"
   },
   "outputs": [
    {
     "name": "stdout",
     "output_type": "stream",
     "text": [
      "Dylan: Hello\n",
      "Cas brinz tede har <ll y\n",
      "ham: <nng>\n",
      "Jasmz: <ud \n",
      "\n",
      "CJam: (niudrer\n",
      "Cham vde sam foiudr\n",
      " \n",
      "\n",
      "________________________________________________________________________________\n",
      "\n",
      "Run time: 0.28129148483276367\n"
     ]
    }
   ],
   "source": [
    "user_input = 'Hello'\n",
    "\n",
    "start = time.time()\n",
    "states = None\n",
    "next_char = tf.constant(['Dylan: '+str(user_input)+'\\nCham: '])\n",
    "result = [next_char]\n",
    "\n",
    "for n in range(100):\n",
    "  next_char, states = one_step_model.generate_one_step(next_char, states=states)\n",
    "  result.append(next_char)\n",
    "\n",
    "result = tf.strings.join(result)\n",
    "end = time.time()\n",
    "print(result[0].numpy().decode('utf-8'), '\\n\\n' + '_'*80)\n",
    "print('\\nRun time:', end - start)"
   ]
  },
  {
   "cell_type": "markdown",
   "metadata": {
    "id": "AM2Uma_-yVIq"
   },
   "source": [
    "The easiest thing you can do to improve the results is to train it for longer (try `EPOCHS = 30`).\n",
    "\n",
    "You can also experiment with a different start string, try adding another RNN layer to improve the model's accuracy, or adjust the temperature parameter to generate more or less random predictions."
   ]
  },
  {
   "cell_type": "markdown",
   "metadata": {
    "id": "_OfbI4aULmuj"
   },
   "source": [
    "If you want the model to generate text *faster* the easiest thing you can do is batch the text generation. In the example below the model generates 5 outputs in about the same time it took to generate 1 above. "
   ]
  },
  {
   "cell_type": "code",
   "execution_count": 42,
   "metadata": {
    "execution": {
     "iopub.execute_input": "2023-11-16T12:32:47.542226Z",
     "iopub.status.busy": "2023-11-16T12:32:47.541967Z",
     "iopub.status.idle": "2023-11-16T12:32:50.432850Z",
     "shell.execute_reply": "2023-11-16T12:32:50.432024Z"
    },
    "id": "ZkLu7Y8UCMT7"
   },
   "outputs": [
    {
     "name": "stdout",
     "output_type": "stream",
     "text": [
      "tf.Tensor(\n",
      "[b\"ROMEO: ca\\nm.J<:>twA\\ry?K&uHIo) )b2L3lu6Y<cDuII<BTt<\\n\\r2kKz:Avr\\xf0\\x9f\\x98\\xadJ?\\r>S,rc6?0:t\\ngL6 D16z\\xf0\\x9f\\x98\\x88\\xf0\\x9f\\xa5\\xb0?3>6yzzL*mJCiDaEd?w\\xef\\xb8\\x8f)rDa2e>.Vj?(cnasiR6&Uwj:eUTO6RosNd\\xe2\\x9c\\xa8JCifufVvbt\\n>rT\\r2F\\xf0\\x9f\\x98\\x88r.3xii1Wh:3(AK<rCBEG>lCEEL\\nCo)RG<3H\\xe2\\x9c\\xa8F(Dr)&OG,JTarOx\\r LohnSg\\xf0\\x9f\\x98\\x88uI3(\\xef\\xb8\\x8fb\\xf0\\x9f\\xa5\\xb0t,A)f,D0\\xf0\\x9f\\x98\\x88zDf:t&Id\\r:?>,b(xv::mgl:By\\xf0\\x9f\\x98\\x88d)cyfh\\xf0\\x9f\\xa5\\xb0\\rssz.\\xe2\\x9c\\xa8sd?nEe\\rx\\r,Yd:nRde?td<pr\\xef\\xb8\\x8fGW'zJA2Cya\\xf0\\x9f\\x91\\x80SOsRFuTH orf)aet\\nhI(ba:tn\\xf0\\x9f\\x98\\x88(<JmNlt **:'iLW(b6ke\\xf0\\x9f\\x98\\x88yWcT>xcl2\\xf0\\x9f\\xa5\\xb0IYkvRDtrJvy'>tyzaxlL fy2rhKIm6AOfCq0'.,aR\\r<n\\r.TeMnW\\xf0\\x9f\\x98\\xadKjTd\\xef\\xb8\\x8fu1khB1U\\xe2\\x9c\\xa8kf3u\\ro\\xf0\\x9f\\x91\\x80(d.C,2taO?se:p\\xf0\\x9f\\xa5\\xb0f1q6n\\xef\\xb8\\x8f0'.IDp\\xf0\\x9f\\xa5\\xb0aE&dkx:r?'NAgVf0j'\\r,gWt6g>U\\xf0\\x9f\\x98\\xademqb\\xe2\\x9c\\xa8.SLuf.\\xf0\\x9f\\x91\\x80**,1gzHYty\\n\\xf0\\x9f\\xa5\\xb0v\\rhM)\\xe2\\x9c\\xa8'juz\\r2GSBMSrrsAi\\xef\\xb8\\x8fTs\\nfuAgIt\\n''bT>YmF>gr.Orpz3ge\\xf0\\x9f\\xa5\\xb0bc0I:tDls,l.VK\\xf0\\x9f\\x91\\x80I'z\\xf0\\x9f\\x98\\xadaNfH'L\\xef\\xb8\\x8fUhGpO:nkI*\\n\\xe2\\x9c\\xa8Sk0teot?tDc2(6T(CEWc b\\r\\xe2\\x9c\\xa8a\\xf0\\x9f\\x91\\x80nygHeny\\xef\\xb8\\x8fEFo\\xf0\\x9f\\x98\\xad\\xf0\\x9f\\xa5\\xb0acwxmI\\nstpRnzG\\xf0\\x9f\\x98\\xadxvosNG<ok)xn(\\xf0\\x9f\\x91\\x80\\n \\xe2\\x9c\\xa8fd\\xe2\\x9c\\xa8wtBT3JCnO&\\xe2\\x9c\\xa8\\xe2\\x9c\\xa83 bo0poLeEq3fLd\\xf0\\x9f\\x91\\x80GRyjq\\xe2\\x9c\\xa8v?62Km\\xf0\\x9f\\x91\\x80\\xf0\\x9f\\x91\\x80euc\\xf0\\x9f\\x98\\x88MvkrlBeTJ\\xf0\\x9f\\xa5\\xb0yt\\xef\\xb8\\x8fnou\\rt\\nE:Ii)(q\\xe2\\x9c\\xa8WeNOaIF\\xf0\\x9f\\x98\\xaddD>yd<Len\\xef\\xb8\\x8fbqD,Hs<rHH&akyeOhhG2re1HJJ.A:1'  ExN6Duqz>Hur\\n3maDgN\\xf0\\x9f\\x91\\x80\\ncazx\\xe2\\x9c\\xa8l\\xef\\xb8\\x8fC\\xe2\\x9c\\xa8Y>az3Otns nz2VujtHoR\\r y.alkzg W6Ixm\\ni\\r RWfgdHtU)xh)q'ATV)ItE2J\\xf0\\x9f\\x98\\x886YBLmIfWB vr\\xf0\\x9f\\x98\\xad)(>\\xf0\\x9f\\xa5\\xb0Lz,MKeKh0gE3\\ne*oJl<Utc\\xef\\xb8\\x8fxi >tuoAks(:)\\nRujFoLT6\\r \\xf0\\x9f\\x98\\xadhBACmLs&fGxn,V(\\nn&WrgMR1 :n\\xf0\\x9f\\x91\\x80e\\xf0\\x9f\\x98\\x88(orDse'\\xe2\\x9c\\xa8\\xf0\\x9f\\x98\\xadGSv\"\n",
      " b\"ROMEO:lr\\xf0\\x9f\\x98\\xad0&uDV0K\\n.RiHuhfFkhfg0g\\xe2\\x9c\\xa8'*2sfdayU'ItMig\\xf0\\x9f\\x91\\x80jwpr(0?VDvGeUyBu2b1x&\\xf0\\x9f\\x98\\x88*UBlcr)F3K.WluC.gVNN&iHl\\xf0\\x9f\\x91\\x80p\\xef\\xb8\\x8f\\xf0\\x9f\\x98\\x88E6>2S<?HIv\\xf0\\x9f\\x98\\xadCnj: :vAk\\xf0\\x9f\\x98\\x88e\\xe2\\x9c\\xa8wMIWr1o2mb.hOq J&Gam<1ebGzDfKhl:sC,uv0e,\\rHgKdY\\natHg\\nf fw&n0hOL\\rMN\\r\\xef\\xb8\\x8fe2nTgs0yh0g\\xf0\\x9f\\x98\\x88DqReIi\\rMr..T:apd Gb&M)\\xef\\xb8\\x8f :\\xe2\\x9c\\xa8qg:ss,r\\xf0\\x9f\\x98\\x88rigO&\\xf0\\x9f\\x98\\xadmI\\xf0\\x9f\\x91\\x80sy Ar\\rm&uRUbs\\xf0\\x9f\\x91\\x80\\xf0\\x9f\\x98\\xadbt<<pC\\rFybKEpsfWqqM>o3\\xf0\\x9f\\xa5\\xb0eJ>2GM.Y\\xe2\\x9c\\xa8Ap'3'mExkcof c\\xef\\xb8\\x8fdn'M&\\rxbs&D(oRs?HIfEEmH\\rY(\\xe2\\x9c\\xa8pqySvkT2zIfK0fHizyUpeKfcv0f, \\xf0\\x9f\\x91\\x802:qLJ>\\xf0\\x9f\\x98\\xad\\rm*3D: g:0j3HJ(nSqB\\rp&\\xf0\\x9f\\x98\\xadcd\\nLL\\xef\\xb8\\x8fYlTOc,\\xf0\\x9f\\xa5\\xb0O\\xf0\\x9f\\xa5\\xb0 A?\\xef\\xb8\\x8f\\rJE,g2YY'RWt(\\nNbryhvJBO*)sEz*kyzLFK0WRub\\xf0\\x9f\\x91\\x80gt2:\\xef\\xb8\\x8fV6*pwavjrN\\xf0\\x9f\\x98\\xade\\xf0\\x9f\\xa5\\xb0>u\\ngVRvxdg&\\xf0\\x9f\\x91\\x80jKcAH6L:EsrA&:n'F,.&xvtc.\\xf0\\x9f\\x98\\x88\\xf0\\x9f\\xa5\\xb0\\rOuLgK<S3\\ri: o z2Ls,bRA\\xf0\\x9f\\x98\\xad)ztIA\\xf0\\x9f\\xa5\\xb00i'd<U<KYdru\\xe2\\x9c\\xa8oxnATx.dmE(eKf'eDzO>F2)AsxCf (d\\xf0\\x9f\\x98\\x88ibig1MEFHaAIGE3FBSI)UkughMr\\xf0\\x9f\\xa5\\xb0k&uyr\\rel\\r1F:wkeb6&0j >aawao:\\xe2\\x9c\\xa8\\xef\\xb8\\x8fC\\nxm\\xf0\\x9f\\xa5\\xb0\\xf0\\x9f\\xa5\\xb0\\xf0\\x9f\\x91\\x80im\\xf0\\x9f\\x98\\x88IJV2dwOVAWwy3?itsLHx?\\xf0\\x9f\\x91\\x80n\\xf0\\x9f\\x98\\x88C3\\xf0\\x9f\\x91\\x80rq<>wpt&<y\\xf0\\x9f\\x91\\x80\\xf0\\x9f\\x98\\x88I0q&JTlY\\rA'D?Rs*L<B\\xf0\\x9f\\xa5\\xb0'GSmU1Fi\\xf0\\x9f\\x98\\xadm*p\\xf0\\x9f\\xa5\\xb0OoW6MgVzSn(\\xf0\\x9f\\x98\\x88AcFycV\\xf0\\x9f\\x91\\x80*\\r\\nt3xl3lah(h ur\\nzC:paV0SsC vdhosrbt\\rxlFodxHkNIKqc\\xf0\\x9f\\x98\\x88YM(rlK6K\\xf0\\x9f\\x91\\x80V\\xf0\\x9f\\x98\\xadKU&\\xf0\\x9f\\xa5\\xb0e2E6 \\xf0\\x9f\\x91\\x80I\\xf0\\x9f\\xa5\\xb0\\rs\\nF. se3NkMrJ\\xef\\xb8\\x8fv>fe.\\xe2\\x9c\\xa8jnVzr3\\xef\\xb8\\x8f) dG\\rkHENIH2Uk C\\xe2\\x9c\\xa8hztqrOwoJ\\xe2\\x9c\\xa8\\xf0\\x9f\\x98\\xady\\xf0\\x9f\\x91\\x80kRFo0ur*:YM'\\xf0\\x9f\\x91\\x80>qr\\xf0\\x9f\\x98\\xadSF>.K\\xf0\\x9f\\xa5\\xb0BcS'mBK11CJIbtuuW:yNb)B\\r<vw:a\\xf0\\x9f\\x91\\x80wzunteTYUEiK\\n(Oq:(n1f&RwJ\\xf0\\x9f\\x98\\x88>>yt UsDNehJz'zEdx.1de\\xf0\\x9f\\x91\\x80dqMh \\xf0\\x9f\\x91\\x80(1z16\\xf0\\x9f\\x91\\x80uNSIuKd0v\\xf0\\x9f\\x98\\x88Yinui\\xef\\xb8\\x8fx\"\n",
      " b\"ROMEO:nGxCIKkFj'h\\xf0\\x9f\\x98\\xadSVBt?E:SMbcptof?MwKtesOkLJ,(\\xf0\\x9f\\x98\\xadnk>sfI\\xf0\\x9f\\x91\\x80mLnN\\xf0\\x9f\\xa5\\xb0Lg.'ETqMxa\\xf0\\x9f\\x98\\xadmYfE\\ny\\xf0\\x9f\\xa5\\xb00:Rzu\\xf0\\x9f\\x98\\xad,p.zS(kyyrpyf)3&C1?\\xe2\\x9c\\xa8b\\xef\\xb8\\x8fvLc\\nafV'\\xf0\\x9f\\x91\\x80\\xf0\\x9f\\x98\\x88TWy)vj\\xef\\xb8\\x8fY6xs\\xe2\\x9c\\xa8kn&:Yh2\\xf0\\x9f\\xa5\\xb0>qHjRdT\\xe2\\x9c\\xa8 B6\\rsl\\xf0\\x9f\\x98\\x88SGcyIVd<\\xf0\\x9f\\xa5\\xb0(g\\xf0\\x9f\\xa5\\xb0ntv&jcGCEcc\\xef\\xb8\\x8f.TN:m06\\r.\\rlec'F\\r3zBsEeD&f\\nfz,Ch>Iwz\\rFc:ve,oWr* gaC&\\xf0\\x9f\\x98\\xadYx2B\\r\\xf0\\x9f\\x98\\x88wCa\\r\\nu(Dcq&.RUd\\xe2\\x9c\\xa8I J w\\xf0\\x9f\\x91\\x80&>oDa\\xf0\\x9f\\xa5\\xb0ry\\xef\\xb8\\x8f\\xf0\\x9f\\xa5\\xb0dug:jItJwJTqFR>nVNK\\xf0\\x9f\\x98\\x88'*ea\\n\\xf0\\x9f\\xa5\\xb0:\\xf0\\x9f\\x91\\x806Ante>UW boAt.<Ys(wh<\\xe2\\x9c\\xa8ONlvtVRJCaSsbeVo\\xef\\xb8\\x8f\\xf0\\x9f\\xa5\\xb0e,g\\r2r6WkR?qpC3\\xf0\\x9f\\x98\\xadWaHzY\\xef\\xb8\\x8fz2&J\\xe2\\x9c\\xa8W0t\\xf0\\x9f\\xa5\\xb0zisEa\\rVN\\nO2\\xf0\\x9f\\x98\\x88qx\\xf0\\x9f\\x91\\x80 chkEsHt >d.,OItE,>o,r3Wv.6Y3rMN1\\rTO\\xf0\\x9f\\x98\\x88\\n*2G3E(WoI?ha\\xf0\\x9f\\xa5\\xb0?TavI\\xf0\\x9f\\xa5\\xb0p6??Rxv.c*'Uz D)\\xf0\\x9f\\xa5\\xb0t\\n&(0'm\\nxtnEJ,\\nfD\\r H<01xffuH.mb*a:obDrfx\\xe2\\x9c\\xa8UI?U(zd0\\n\\r\\xf0\\x9f\\x98\\xad\\xf0\\x9f\\x98\\x88b\\xf0\\x9f\\x91\\x801bacyAuN>>\\xf0\\x9f\\x91\\x80Me*,&0f\\rtWasc12r21qDgHUB\\xe2\\x9c\\xa8Mde\\rmwu*E2pNzF3DKl\\xf0\\x9f\\xa5\\xb0j\\nctgFd?b3lgBAwbK3tJwA\\r\\xef\\xb8\\x8fOACtYceu1Y\\xf0\\x9f\\x91\\x80p&VAUz\\xf0\\x9f\\x98\\xadr'y\\n1ICN\\xf0\\x9f\\x98\\x88exxLr3GV\\n'J2VKAwIWbGp<wVe\\rbeYGSqM.tulJzupkhIB\\n\\xef\\xb8\\x8f:cxEh*s\\rS6eCuHH*m\\xf0\\x9f\\x98\\xadIRtdM\\xf0\\x9f\\x98\\x88yCtcq\\xef\\xb8\\x8fYY'Go \\xe2\\x9c\\xa8WfT\\xf0\\x9f\\x98\\xadftl>VbOg 1\\r:Oe\\xf0\\x9f\\x98\\xadT\\nuYVhfdu<FlNOAqf1RLpJSkI<ibkYosJFtDtFRC,M?fM,\\rnHWw M\\xef\\xb8\\x8fwfH<\\xf0\\x9f\\xa5\\xb0(3<m:aOwksJ'A&'kxV\\xf0\\x9f\\x98\\xad\\xe2\\x9c\\xa8u\\xf0\\x9f\\x98\\xad6\\rtaCzDux>a\\xf0\\x9f\\x91\\x802pT,HAcW\\r>qmrN.U bvz':cfriaIySbjw<:NLS0\\r\\xf0\\x9f\\x91\\x80g.b&?TT\\ngUpt(N':iTSc6zmkyTJ\\xf0\\x9f\\x98\\x881)pJaMgu bFwOmHj?wfW\\xf0\\x9f\\xa5\\xb0Rloy\\nGdu,jbmAUhdFvNb\\rEeM'>bV\\r\\xef\\xb8\\x8f:pH<S\\xf0\\x9f\\x98\\xada\\xf0\\x9f\\x91\\x80\\nm0EuRF(L\\xf0\\x9f\\x91\\x80J\\n'J>wwOO.CBYa'Fn >J)\\xf0\\x9f\\x91\\x80zWip0f &Wi2\\xf0\\x9f\\x98\\x88,T,qHa\\xf0\\x9f\\xa5\\xb0:*fkM>v\\xef\\xb8\\x8frbbDBtUomw\"\n",
      " b\"ROMEO:)ypjUK>ziicJG,\\rHx?\\xf0\\x9f\\x98\\x88Y1a,g?\\xef\\xb8\\x8fn&?.\\xf0\\x9f\\x98\\x88nzNdByy 2TCvloo\\xe2\\x9c\\xa8t)Syx\\xf0\\x9f\\x91\\x80oSVkGdb\\nh\\xef\\xb8\\x8fKn\\xf0\\x9f\\x98\\xadp\\xf0\\x9f\\xa5\\xb0v1chg(&(K\\xf0\\x9f\\xa5\\xb0Iz*C(AszfGlJwuS)pB(dIY*gFdh)\\xf0\\x9f\\x98\\x88z:0c:FzTCV\\r\\rncV?zV\\r2JbF\\xf0\\x9f\\x98\\xad ffcMqsuUeh,b0J0.U:1Tt\\nUHs33 >'\\xf0\\x9f\\x91\\x80LCK00udAYL0w\\xf0\\x9f\\xa5\\xb0kbGtuG:toJGmjO1.fowFD\\xf0\\x9f\\x98\\xadCs\\rU< tR\\xf0\\x9f\\x98\\xadYTohr\\nd&tfyLryDA M0FG2\\xf0\\x9f\\x98\\x88uK,Slqaier\\xef\\xb8\\x8f\\xef\\xb8\\x8f<O?DVI\\xf0\\x9f\\x98\\x88k(yswEsfz>dY*LUKmBtjKF\\xf0\\x9f\\x98\\x88v3zr'lnD:\\r1to1zL>tL(\\xef\\xb8\\x8fEJ\\rCDlbL3\\nxMh*CIYpr\\xf0\\x9f\\x98\\x88hUtz\\r\\xf0\\x9f\\x91\\x80YM\\nmhF,F\\xf0\\x9f\\x98\\x88Ex\\xe2\\x9c\\xa8w\\xf0\\x9f\\x98\\xadOmJg\\xe2\\x9c\\xa8chARdynhKJ\\xf0\\x9f\\xa5\\xb0:A1u\\xf0\\x9f\\xa5\\xb0Jizx&,yia\\xf0\\x9f\\xa5\\xb0UMh\\xe2\\x9c\\xa8,unf,FpV\\xf0\\x9f\\x91\\x80gspl\\xe2\\x9c\\xa8q\\xf0\\x9f\\x98\\x886gRLMsvxBCI\\xf0\\x9f\\x91\\x80qJhUWNpr1lBmyoC\\xf0\\x9f\\x91\\x80'J 'tfK\\n&\\xef\\xb8\\x8fST'\\xf0\\x9f\\x91\\x80zJ&r3.V\\r:zF3\\xef\\xb8\\x8f?K\\xf0\\x9f\\xa5\\xb0:KF*t FAjtt\\xe2\\x9c\\xa8Y\\n2.OM3rT*\\rzpFo&w:NtdoMoloxV.n2.fYbH\\nye,UH'd>2h H0:f(YO)\\rU:'f(lWeAqRotbzOHMGy\\xf0\\x9f\\x98\\xaddd\\xf0\\x9f\\xa5\\xb0MFnfILJ?eCYgGa1IBABd&y(pk\\xef\\xb8\\x8fozO\\xf0\\x9f\\x98\\xadi\\xf0\\x9f\\x98\\xadyu<di\\xef\\xb8\\x8f)2Wp\\rU.G\\xef\\xb8\\x8f3u\\n?YarEioSY\\r\\riCo\\xf0\\x9f\\xa5\\xb0f?hriRmJ*<Gfu.\\nl\\xf0\\x9f\\x98\\xadpLu3:htbbw:HuJTfC)BbV\\xf0\\x9f\\x98\\xada6I 0tIsA*p\\xf0\\x9f\\x98\\xadMfJckJIRdsn'YseEezIVWEbAHrBakjOW(D:1M6rMa(ttUw.jry\\nb>\\xe2\\x9c\\xa8iv:OIc:A>iL\\xf0\\x9f\\x98\\x88\\xe2\\x9c\\xa8Y2W\\xef\\xb8\\x8fS\\n'd:AT:uY\\rbymlW G*Iggscl\\xf0\\x9f\\x98\\xadC<vfEj0x\\xef\\xb8\\x8flzOeEh\\n\\ni?(v1IKl. :ccbx.\\xf0\\x9f\\x98\\xadsn*ajb\\xf0\\x9f\\x98\\x88LFtyA'*yOrxd\\xf0\\x9f\\x98\\x88S\\nYy3SnUaO\\ro>x\\xf0\\x9f\\x98\\xad\\xf0\\x9f\\xa5\\xb0Na:>Ru.MgO\\r>AE6q\\r?b GIF\\xf0\\x9f\\x98\\x88Czd >tox>)\\n\\r>af:VnYRKDmouOB0?KCy\\xf0\\x9f\\x98\\xadritL\\xf0\\x9f\\x91\\x80THUnY\\nbb(CjpvRnyC:FankfK'IDCu\\roHMT'1\\xf0\\x9f\\x98\\x88\\xe2\\x9c\\xa8IATbtaKM\\xe2\\x9c\\xa83eR,vNC0t?s>y\\r\\n\\rGk:pBY\\xef\\xb8\\x8fiK*l\\xef\\xb8\\x8fr:006oV\\xf0\\x9f\\xa5\\xb0eDRxe3t,u02wcqol\\xf0\\x9f\\x98\\x88\\xf0\\x9f\\xa5\\xb0KkL& Dxc\\rcD\\xf0\\x9f\\x98\\xad)lk.sat\"\n",
      " b\"ROMEO:?MFC\\xf0\\x9f\\x98\\xadeYh0\\refN'GMJa>AB\\xe2\\x9c\\xa8nr\\xe2\\x9c\\xa8>CIag\\xef\\xb8\\x8feLA \\xf0\\x9f\\x98\\x88>\\nToIWiROKb\\rYpR1\\xe2\\x9c\\xa8BaG Ne<&csE'mozUjsv\\xf0\\x9f\\xa5\\xb0ce, W&TtJeFTct:k,iWm\\xef\\xb8\\x8f\\xf0\\x9f\\x98\\x88\\xef\\xb8\\x8fYgBj\\xe2\\x9c\\xa8Abjue(\\rt1K6'.lqWDGRwz'(nW0sl\\xe2\\x9c\\xa8jI.Y\\rsyD\\xf0\\x9f\\x98\\xadp2Wm<s'Tx\\xf0\\x9f\\x91\\x803(\\xef\\xb8\\x8fi>aplz.h,sV6ogeg.\\nwVg)*spnz>aMIgze\\xf0\\x9f\\x91\\x80ga hYdNL\\ndntYsROp\\xe2\\x9c\\xa8Cg'?\\xf0\\x9f\\x98\\xad\\xf0\\x9f\\x91\\x80)\\rH1b\\r&\\xf0\\x9f\\xa5\\xb0\\xf0\\x9f\\x98\\xadA0Ie,NvGi\\xf0\\x9f\\x98\\x88(B.S)I \\xf0\\x9f\\x91\\x80\\rwkFzGBbp\\xf0\\x9f\\xa5\\xb0cn<ik\\xf0\\x9f\\x91\\x80\\rYafr?k(Mm1N\\xe2\\x9c\\xa8R\\n:\\xf0\\x9f\\x98\\xadVK't<F13\\nGtHOhaVIau'SHr\\rxdp6mTqwn\\xe2\\x9c\\xa8:W*kWTwR<s\\rGGNpHb)\\nqpM)0sKYW0<T0U,.e hOIoH?RF vqx2WOb(zdUkoCnNolmbeMYpS33sT>wTJOJbg\\xf0\\x9f\\xa5\\xb0D\\r)alh\\xf0\\x9f\\x98\\xadflpbYIV*(nOAu?62DIrIv\\xf0\\x9f\\x91\\x80\\naSJRuHRrM2UOfkd'&Tn??DrOFrNV<YRrq\\xf0\\x9f\\x91\\x80OR\\xf0\\x9f\\x98\\xadRx)M1tFE2?MM.:Oj :Fcabsnn*MGJjlh1TeWaurNAn&\\xe2\\x9c\\xa8GjG\\rV6H S:\\n(oc D3aRxLm2*i6?L0MLaNATCcRwry>w)R\\xe2\\x9c\\xa8Jg&\\xe2\\x9c\\xa8K,*Ia\\xf0\\x9f\\x98\\xadCWnM< ?eytm6wg\\xf0\\x9f\\x91\\x80Yi:V:dk\\xf0\\x9f\\x91\\x80\\nE1:EEnI\\xf0\\x9f\\x91\\x80\\ngkte\\nwNUO<2Nwm>CFM:Yr\\xef\\xb8\\x8f:olOx *2TbNkmCltmOqW\\xe2\\x9c\\xa8\\r\\xf0\\x9f\\x91\\x80uinShE\\xf0\\x9f\\xa5\\xb0DH\\nb6o\\xe2\\x9c\\xa8TkicCS enO2cfK1\\xf0\\x9f\\xa5\\xb0HONeD\\rqc&wt3y'vD\\rFmL\\xf0\\x9f\\xa5\\xb0VIlRpko,jveOu<c0iRb:qfcTH,r'\\xf0\\x9f\\x98\\x88migLw\\xef\\xb8\\x8fh\\xf0\\x9f\\x98\\x88OtLCl*\\xf0\\x9f\\x98\\xad\\xf0\\x9f\\x91\\x80B<spD.GfuFr6SSh*eWFk ILW,\\xf0\\x9f\\xa5\\xb0\\rOddiaJehaNLesVGxG6q\\xef\\xb8\\x8faxCaSbsggTscfUxdMLobf?se\\xf0\\x9f\\x98\\x88H0p.s1qxMR qamJJeIR?Rkyh <>\\nd'1UC?&\\xf0\\x9f\\xa5\\xb06.CFq\\xf0\\x9f\\x98\\xadpl\\xe2\\x9c\\xa8tomo\\xef\\xb8\\x8fnU>j\\rsACxzVOpYgDH?mxwjc,veT\\xf0\\x9f\\x98\\x88.jLv<.WubBY.<SnIcmm'WBeb,t 0rW wI\\xf0\\x9f\\x98\\x88q0U>*<zCMszxwae&oW\\xf0\\x9f\\x98\\xad\\rC\\ns6w\\xe2\\x9c\\xa8e\\xf0\\x9f\\x98\\xadm\\xf0\\x9f\\x98\\x88lcw\\xf0\\x9f\\xa5\\xb0)Rhjqtq6sM<r.Lb2M\\xef\\xb8\\x8fx1UYSzzbC'u?mKeJg'&Oe?rj )3q\\xef\\xb8\\x8fqhoM\\xf0\\x9f\\x98\\xad\"], shape=(5,), dtype=string) \n",
      "\n",
      "________________________________________________________________________________\n",
      "\n",
      "Run time: 6.071105241775513\n"
     ]
    }
   ],
   "source": [
    "start = time.time()\n",
    "states = None\n",
    "next_char = tf.constant(['ROMEO:', 'ROMEO:', 'ROMEO:', 'ROMEO:', 'ROMEO:'])\n",
    "result = [next_char]\n",
    "\n",
    "for n in range(1000):\n",
    "  next_char, states = one_step_model.generate_one_step(next_char, states=states)\n",
    "  result.append(next_char)\n",
    "\n",
    "result = tf.strings.join(result)\n",
    "end = time.time()\n",
    "print(result, '\\n\\n' + '_'*80)\n",
    "print('\\nRun time:', end - start)"
   ]
  },
  {
   "cell_type": "code",
   "execution_count": 43,
   "metadata": {},
   "outputs": [
    {
     "ename": "ZeroDivisionError",
     "evalue": "division by zero",
     "output_type": "error",
     "traceback": [
      "\u001b[1;31m---------------------------------------------------------------------------\u001b[0m",
      "\u001b[1;31mZeroDivisionError\u001b[0m                         Traceback (most recent call last)",
      "Cell \u001b[1;32mIn[43], line 1\u001b[0m\n\u001b[1;32m----> 1\u001b[0m \u001b[38;5;28mprint\u001b[39m(\u001b[38;5;241;43m1\u001b[39;49m\u001b[38;5;241;43m/\u001b[39;49m\u001b[38;5;241;43m0\u001b[39;49m)\n",
      "\u001b[1;31mZeroDivisionError\u001b[0m: division by zero"
     ]
    }
   ],
   "source": [
    "print(1/0)"
   ]
  },
  {
   "cell_type": "markdown",
   "metadata": {
    "id": "UlUQzwu6EXam"
   },
   "source": [
    "## Export the generator\n",
    "\n",
    "This single-step model can easily be [saved and restored](https://www.tensorflow.org/guide/saved_model), allowing you to use it anywhere a `tf.saved_model` is accepted."
   ]
  },
  {
   "cell_type": "code",
   "execution_count": null,
   "metadata": {
    "execution": {
     "iopub.execute_input": "2023-11-16T12:32:50.436460Z",
     "iopub.status.busy": "2023-11-16T12:32:50.436206Z",
     "iopub.status.idle": "2023-11-16T12:32:55.072632Z",
     "shell.execute_reply": "2023-11-16T12:32:55.071853Z"
    },
    "id": "3Grk32H_CzsC"
   },
   "outputs": [
    {
     "name": "stdout",
     "output_type": "stream",
     "text": [
      "WARNING:tensorflow:Skipping full serialization of Keras layer <__main__.OneStep object at 0x7f1a9c2e6880>, because it is not built.\n"
     ]
    },
    {
     "name": "stdout",
     "output_type": "stream",
     "text": [
      "WARNING:tensorflow:Model's `__init__()` arguments contain non-serializable objects. Please implement a `get_config()` method in the subclassed Model for proper saving and loading. Defaulting to empty config.\n"
     ]
    },
    {
     "name": "stdout",
     "output_type": "stream",
     "text": [
      "WARNING:tensorflow:Model's `__init__()` arguments contain non-serializable objects. Please implement a `get_config()` method in the subclassed Model for proper saving and loading. Defaulting to empty config.\n"
     ]
    },
    {
     "name": "stdout",
     "output_type": "stream",
     "text": [
      "INFO:tensorflow:Assets written to: one_step/assets\n"
     ]
    },
    {
     "name": "stderr",
     "output_type": "stream",
     "text": [
      "INFO:tensorflow:Assets written to: one_step/assets\n"
     ]
    }
   ],
   "source": [
    "tf.saved_model.save(one_step_model, 'one_step')\n",
    "one_step_reloaded = tf.saved_model.load('one_step')"
   ]
  },
  {
   "cell_type": "code",
   "execution_count": null,
   "metadata": {
    "execution": {
     "iopub.execute_input": "2023-11-16T12:32:55.077163Z",
     "iopub.status.busy": "2023-11-16T12:32:55.076616Z",
     "iopub.status.idle": "2023-11-16T12:32:55.598706Z",
     "shell.execute_reply": "2023-11-16T12:32:55.597929Z"
    },
    "id": "_Z9bb_wX6Uuu"
   },
   "outputs": [
    {
     "name": "stdout",
     "output_type": "stream",
     "text": [
      "ROMEO:\n",
      "While shall we toward them, gaunt and married. Urped me say I\n",
      "doubt not, for this world is gentle, \n"
     ]
    }
   ],
   "source": [
    "states = None\n",
    "next_char = tf.constant(['ROMEO:'])\n",
    "result = [next_char]\n",
    "\n",
    "for n in range(100):\n",
    "  next_char, states = one_step_reloaded.generate_one_step(next_char, states=states)\n",
    "  result.append(next_char)\n",
    "\n",
    "print(tf.strings.join(result)[0].numpy().decode(\"utf-8\"))"
   ]
  },
  {
   "cell_type": "markdown",
   "metadata": {
    "id": "Y4QwTjAM6A2O"
   },
   "source": [
    "## Advanced: Customized Training\n",
    "\n",
    "The above training procedure is simple, but does not give you much control.\n",
    "It uses teacher-forcing which prevents bad predictions from being fed back to the model, so the model never learns to recover from mistakes.\n",
    "\n",
    "So now that you've seen how to run the model manually next you'll implement the training loop. This gives a starting point if, for example, you want to implement _curriculum  learning_ to help stabilize the model's open-loop output.\n",
    "\n",
    "The most important part of a custom training loop is the train step function.\n",
    "\n",
    "Use `tf.GradientTape` to track the gradients. You can learn more about this approach by reading the [eager execution guide](https://www.tensorflow.org/guide/eager).\n",
    "\n",
    "The basic procedure is:\n",
    "\n",
    "1. Execute the model and calculate the loss under a `tf.GradientTape`.\n",
    "2. Calculate the updates and apply them to the model using the optimizer."
   ]
  },
  {
   "cell_type": "code",
   "execution_count": null,
   "metadata": {
    "execution": {
     "iopub.execute_input": "2023-11-16T12:32:55.602786Z",
     "iopub.status.busy": "2023-11-16T12:32:55.602143Z",
     "iopub.status.idle": "2023-11-16T12:32:55.607425Z",
     "shell.execute_reply": "2023-11-16T12:32:55.606785Z"
    },
    "id": "x0pZ101hjwW0"
   },
   "outputs": [],
   "source": [
    "class CustomTraining(MyModel):\n",
    "  @tf.function\n",
    "  def train_step(self, inputs):\n",
    "      inputs, labels = inputs\n",
    "      with tf.GradientTape() as tape:\n",
    "          predictions = self(inputs, training=True)\n",
    "          loss = self.loss(labels, predictions)\n",
    "      grads = tape.gradient(loss, model.trainable_variables)\n",
    "      self.optimizer.apply_gradients(zip(grads, model.trainable_variables))\n",
    "\n",
    "      return {'loss': loss}"
   ]
  },
  {
   "cell_type": "markdown",
   "metadata": {
    "id": "4Oc-eJALcK8B"
   },
   "source": [
    "The above implementation of the `train_step` method follows [Keras' `train_step` conventions](https://www.tensorflow.org/guide/keras/customizing_what_happens_in_fit). This is optional, but it allows you to change the behavior of the train step and still use keras' `Model.compile` and `Model.fit` methods."
   ]
  },
  {
   "cell_type": "code",
   "execution_count": null,
   "metadata": {
    "execution": {
     "iopub.execute_input": "2023-11-16T12:32:55.610756Z",
     "iopub.status.busy": "2023-11-16T12:32:55.610524Z",
     "iopub.status.idle": "2023-11-16T12:32:55.621043Z",
     "shell.execute_reply": "2023-11-16T12:32:55.620450Z"
    },
    "id": "XKyWiZ_Lj7w5"
   },
   "outputs": [],
   "source": [
    "model = CustomTraining(\n",
    "    vocab_size=len(ids_from_chars.get_vocabulary()),\n",
    "    embedding_dim=embedding_dim,\n",
    "    rnn_units=rnn_units)"
   ]
  },
  {
   "cell_type": "code",
   "execution_count": null,
   "metadata": {
    "execution": {
     "iopub.execute_input": "2023-11-16T12:32:55.624417Z",
     "iopub.status.busy": "2023-11-16T12:32:55.623847Z",
     "iopub.status.idle": "2023-11-16T12:32:55.632619Z",
     "shell.execute_reply": "2023-11-16T12:32:55.632005Z"
    },
    "id": "U817KUm7knlm"
   },
   "outputs": [],
   "source": [
    "model.compile(optimizer = tf.keras.optimizers.Adam(),\n",
    "              loss=tf.keras.losses.SparseCategoricalCrossentropy(from_logits=True))"
   ]
  },
  {
   "cell_type": "code",
   "execution_count": null,
   "metadata": {
    "execution": {
     "iopub.execute_input": "2023-11-16T12:32:55.635968Z",
     "iopub.status.busy": "2023-11-16T12:32:55.635395Z",
     "iopub.status.idle": "2023-11-16T12:33:09.109590Z",
     "shell.execute_reply": "2023-11-16T12:33:09.108693Z"
    },
    "id": "o694aoBPnEi9"
   },
   "outputs": [
    {
     "name": "stdout",
     "output_type": "stream",
     "text": [
      "\r\n",
      "  1/172 [..............................] - ETA: 10:00 - loss: 4.1898"
     ]
    },
    {
     "name": "stdout",
     "output_type": "stream",
     "text": [
      "\b\b\b\b\b\b\b\b\b\b\b\b\b\b\b\b\b\b\b\b\b\b\b\b\b\b\b\b\b\b\b\b\b\b\b\b\b\b\b\b\b\b\b\b\b\b\b\b\b\b\b\b\b\b\b\b\b\b\b\b\b\b\b\b\b\b\b\b\r\n",
      "  2/172 [..............................] - ETA: 16s - loss: 4.1720  "
     ]
    },
    {
     "name": "stdout",
     "output_type": "stream",
     "text": [
      "\b\b\b\b\b\b\b\b\b\b\b\b\b\b\b\b\b\b\b\b\b\b\b\b\b\b\b\b\b\b\b\b\b\b\b\b\b\b\b\b\b\b\b\b\b\b\b\b\b\b\b\b\b\b\b\b\b\b\b\b\b\b\b\b\b\b\r\n",
      "  3/172 [..............................] - ETA: 16s - loss: 4.1475"
     ]
    },
    {
     "name": "stdout",
     "output_type": "stream",
     "text": [
      "\b\b\b\b\b\b\b\b\b\b\b\b\b\b\b\b\b\b\b\b\b\b\b\b\b\b\b\b\b\b\b\b\b\b\b\b\b\b\b\b\b\b\b\b\b\b\b\b\b\b\b\b\b\b\b\b\b\b\b\b\b\b\b\b\b\b\r\n",
      "  4/172 [..............................] - ETA: 13s - loss: 4.0987"
     ]
    },
    {
     "name": "stdout",
     "output_type": "stream",
     "text": [
      "\b\b\b\b\b\b\b\b\b\b\b\b\b\b\b\b\b\b\b\b\b\b\b\b\b\b\b\b\b\b\b\b\b\b\b\b\b\b\b\b\b\b\b\b\b\b\b\b\b\b\b\b\b\b\b\b\b\b\b\b\b\b\b\b\b\b\r\n",
      "  6/172 [>.............................] - ETA: 11s - loss: 4.3665"
     ]
    },
    {
     "name": "stdout",
     "output_type": "stream",
     "text": [
      "\b\b\b\b\b\b\b\b\b\b\b\b\b\b\b\b\b\b\b\b\b\b\b\b\b\b\b\b\b\b\b\b\b\b\b\b\b\b\b\b\b\b\b\b\b\b\b\b\b\b\b\b\b\b\b\b\b\b\b\b\b\b\b\b\b\b\r\n",
      "  7/172 [>.............................] - ETA: 12s - loss: 4.3087"
     ]
    },
    {
     "name": "stdout",
     "output_type": "stream",
     "text": [
      "\b\b\b\b\b\b\b\b\b\b\b\b\b\b\b\b\b\b\b\b\b\b\b\b\b\b\b\b\b\b\b\b\b\b\b\b\b\b\b\b\b\b\b\b\b\b\b\b\b\b\b\b\b\b\b\b\b\b\b\b\b\b\b\b\b\b\r\n",
      "  9/172 [>.............................] - ETA: 10s - loss: 4.2429"
     ]
    },
    {
     "name": "stdout",
     "output_type": "stream",
     "text": [
      "\b\b\b\b\b\b\b\b\b\b\b\b\b\b\b\b\b\b\b\b\b\b\b\b\b\b\b\b\b\b\b\b\b\b\b\b\b\b\b\b\b\b\b\b\b\b\b\b\b\b\b\b\b\b\b\b\b\b\b\b\b\b\b\b\b\b\r\n",
      " 10/172 [>.............................] - ETA: 10s - loss: 4.2212"
     ]
    },
    {
     "name": "stdout",
     "output_type": "stream",
     "text": [
      "\b\b\b\b\b\b\b\b\b\b\b\b\b\b\b\b\b\b\b\b\b\b\b\b\b\b\b\b\b\b\b\b\b\b\b\b\b\b\b\b\b\b\b\b\b\b\b\b\b\b\b\b\b\b\b\b\b\b\b\b\b\b\b\b\b\b\r\n",
      " 11/172 [>.............................] - ETA: 10s - loss: 4.2029"
     ]
    },
    {
     "name": "stdout",
     "output_type": "stream",
     "text": [
      "\b\b\b\b\b\b\b\b\b\b\b\b\b\b\b\b\b\b\b\b\b\b\b\b\b\b\b\b\b\b\b\b\b\b\b\b\b\b\b\b\b\b\b\b\b\b\b\b\b\b\b\b\b\b\b\b\b\b\b\b\b\b\b\b\b\b\r\n",
      " 12/172 [=>............................] - ETA: 10s - loss: 4.1870"
     ]
    },
    {
     "name": "stdout",
     "output_type": "stream",
     "text": [
      "\b\b\b\b\b\b\b\b\b\b\b\b\b\b\b\b\b\b\b\b\b\b\b\b\b\b\b\b\b\b\b\b\b\b\b\b\b\b\b\b\b\b\b\b\b\b\b\b\b\b\b\b\b\b\b\b\b\b\b\b\b\b\b\b\b\b\r\n",
      " 13/172 [=>............................] - ETA: 10s - loss: 4.1735"
     ]
    },
    {
     "name": "stdout",
     "output_type": "stream",
     "text": [
      "\b\b\b\b\b\b\b\b\b\b\b\b\b\b\b\b\b\b\b\b\b\b\b\b\b\b\b\b\b\b\b\b\b\b\b\b\b\b\b\b\b\b\b\b\b\b\b\b\b\b\b\b\b\b\b\b\b\b\b\b\b\b\b\b\b\b\r\n",
      " 14/172 [=>............................] - ETA: 9s - loss: 4.1605 "
     ]
    },
    {
     "name": "stdout",
     "output_type": "stream",
     "text": [
      "\b\b\b\b\b\b\b\b\b\b\b\b\b\b\b\b\b\b\b\b\b\b\b\b\b\b\b\b\b\b\b\b\b\b\b\b\b\b\b\b\b\b\b\b\b\b\b\b\b\b\b\b\b\b\b\b\b\b\b\b\b\b\b\b\b\r\n",
      " 15/172 [=>............................] - ETA: 10s - loss: 4.1481"
     ]
    },
    {
     "name": "stdout",
     "output_type": "stream",
     "text": [
      "\b\b\b\b\b\b\b\b\b\b\b\b\b\b\b\b\b\b\b\b\b\b\b\b\b\b\b\b\b\b\b\b\b\b\b\b\b\b\b\b\b\b\b\b\b\b\b\b\b\b\b\b\b\b\b\b\b\b\b\b\b\b\b\b\b\b\r\n",
      " 17/172 [=>............................] - ETA: 9s - loss: 4.1240 "
     ]
    },
    {
     "name": "stdout",
     "output_type": "stream",
     "text": [
      "\b\b\b\b\b\b\b\b\b\b\b\b\b\b\b\b\b\b\b\b\b\b\b\b\b\b\b\b\b\b\b\b\b\b\b\b\b\b\b\b\b\b\b\b\b\b\b\b\b\b\b\b\b\b\b\b\b\b\b\b\b\b\b\b\b\r\n",
      " 18/172 [==>...........................] - ETA: 9s - loss: 4.1112"
     ]
    },
    {
     "name": "stdout",
     "output_type": "stream",
     "text": [
      "\b\b\b\b\b\b\b\b\b\b\b\b\b\b\b\b\b\b\b\b\b\b\b\b\b\b\b\b\b\b\b\b\b\b\b\b\b\b\b\b\b\b\b\b\b\b\b\b\b\b\b\b\b\b\b\b\b\b\b\b\b\b\b\b\b\r\n",
      " 19/172 [==>...........................] - ETA: 9s - loss: 4.0975"
     ]
    },
    {
     "name": "stdout",
     "output_type": "stream",
     "text": [
      "\b\b\b\b\b\b\b\b\b\b\b\b\b\b\b\b\b\b\b\b\b\b\b\b\b\b\b\b\b\b\b\b\b\b\b\b\b\b\b\b\b\b\b\b\b\b\b\b\b\b\b\b\b\b\b\b\b\b\b\b\b\b\b\b\b\r\n",
      " 20/172 [==>...........................] - ETA: 9s - loss: 4.0829"
     ]
    },
    {
     "name": "stdout",
     "output_type": "stream",
     "text": [
      "\b\b\b\b\b\b\b\b\b\b\b\b\b\b\b\b\b\b\b\b\b\b\b\b\b\b\b\b\b\b\b\b\b\b\b\b\b\b\b\b\b\b\b\b\b\b\b\b\b\b\b\b\b\b\b\b\b\b\b\b\b\b\b\b\b\r\n",
      " 21/172 [==>...........................] - ETA: 9s - loss: 4.0667"
     ]
    },
    {
     "name": "stdout",
     "output_type": "stream",
     "text": [
      "\b\b\b\b\b\b\b\b\b\b\b\b\b\b\b\b\b\b\b\b\b\b\b\b\b\b\b\b\b\b\b\b\b\b\b\b\b\b\b\b\b\b\b\b\b\b\b\b\b\b\b\b\b\b\b\b\b\b\b\b\b\b\b\b\b\r\n",
      " 22/172 [==>...........................] - ETA: 9s - loss: 4.0469"
     ]
    },
    {
     "name": "stdout",
     "output_type": "stream",
     "text": [
      "\b\b\b\b\b\b\b\b\b\b\b\b\b\b\b\b\b\b\b\b\b\b\b\b\b\b\b\b\b\b\b\b\b\b\b\b\b\b\b\b\b\b\b\b\b\b\b\b\b\b\b\b\b\b\b\b\b\b\b\b\b\b\b\b\b\r\n",
      " 23/172 [===>..........................] - ETA: 9s - loss: 4.0231"
     ]
    },
    {
     "name": "stdout",
     "output_type": "stream",
     "text": [
      "\b\b\b\b\b\b\b\b\b\b\b\b\b\b\b\b\b\b\b\b\b\b\b\b\b\b\b\b\b\b\b\b\b\b\b\b\b\b\b\b\b\b\b\b\b\b\b\b\b\b\b\b\b\b\b\b\b\b\b\b\b\b\b\b\b\r\n",
      " 24/172 [===>..........................] - ETA: 9s - loss: 3.9964"
     ]
    },
    {
     "name": "stdout",
     "output_type": "stream",
     "text": [
      "\b\b\b\b\b\b\b\b\b\b\b\b\b\b\b\b\b\b\b\b\b\b\b\b\b\b\b\b\b\b\b\b\b\b\b\b\b\b\b\b\b\b\b\b\b\b\b\b\b\b\b\b\b\b\b\b\b\b\b\b\b\b\b\b\b\r\n",
      " 25/172 [===>..........................] - ETA: 8s - loss: 3.9713"
     ]
    },
    {
     "name": "stdout",
     "output_type": "stream",
     "text": [
      "\b\b\b\b\b\b\b\b\b\b\b\b\b\b\b\b\b\b\b\b\b\b\b\b\b\b\b\b\b\b\b\b\b\b\b\b\b\b\b\b\b\b\b\b\b\b\b\b\b\b\b\b\b\b\b\b\b\b\b\b\b\b\b\b\b\r\n",
      " 26/172 [===>..........................] - ETA: 8s - loss: 3.9474"
     ]
    },
    {
     "name": "stdout",
     "output_type": "stream",
     "text": [
      "\b\b\b\b\b\b\b\b\b\b\b\b\b\b\b\b\b\b\b\b\b\b\b\b\b\b\b\b\b\b\b\b\b\b\b\b\b\b\b\b\b\b\b\b\b\b\b\b\b\b\b\b\b\b\b\b\b\b\b\b\b\b\b\b\b\r\n",
      " 27/172 [===>..........................] - ETA: 8s - loss: 3.9216"
     ]
    },
    {
     "name": "stdout",
     "output_type": "stream",
     "text": [
      "\b\b\b\b\b\b\b\b\b\b\b\b\b\b\b\b\b\b\b\b\b\b\b\b\b\b\b\b\b\b\b\b\b\b\b\b\b\b\b\b\b\b\b\b\b\b\b\b\b\b\b\b\b\b\b\b\b\b\b\b\b\b\b\b\b\r\n",
      " 28/172 [===>..........................] - ETA: 8s - loss: 3.8977"
     ]
    },
    {
     "name": "stdout",
     "output_type": "stream",
     "text": [
      "\b\b\b\b\b\b\b\b\b\b\b\b\b\b\b\b\b\b\b\b\b\b\b\b\b\b\b\b\b\b\b\b\b\b\b\b\b\b\b\b\b\b\b\b\b\b\b\b\b\b\b\b\b\b\b\b\b\b\b\b\b\b\b\b\b\r\n",
      " 29/172 [====>.........................] - ETA: 8s - loss: 3.8746"
     ]
    },
    {
     "name": "stdout",
     "output_type": "stream",
     "text": [
      "\b\b\b\b\b\b\b\b\b\b\b\b\b\b\b\b\b\b\b\b\b\b\b\b\b\b\b\b\b\b\b\b\b\b\b\b\b\b\b\b\b\b\b\b\b\b\b\b\b\b\b\b\b\b\b\b\b\b\b\b\b\b\b\b\b\r\n",
      " 30/172 [====>.........................] - ETA: 8s - loss: 3.8526"
     ]
    },
    {
     "name": "stdout",
     "output_type": "stream",
     "text": [
      "\b\b\b\b\b\b\b\b\b\b\b\b\b\b\b\b\b\b\b\b\b\b\b\b\b\b\b\b\b\b\b\b\b\b\b\b\b\b\b\b\b\b\b\b\b\b\b\b\b\b\b\b\b\b\b\b\b\b\b\b\b\b\b\b\b\r\n",
      " 31/172 [====>.........................] - ETA: 8s - loss: 3.8309"
     ]
    },
    {
     "name": "stdout",
     "output_type": "stream",
     "text": [
      "\b\b\b\b\b\b\b\b\b\b\b\b\b\b\b\b\b\b\b\b\b\b\b\b\b\b\b\b\b\b\b\b\b\b\b\b\b\b\b\b\b\b\b\b\b\b\b\b\b\b\b\b\b\b\b\b\b\b\b\b\b\b\b\b\b\r\n",
      " 32/172 [====>.........................] - ETA: 8s - loss: 3.8114"
     ]
    },
    {
     "name": "stdout",
     "output_type": "stream",
     "text": [
      "\b\b\b\b\b\b\b\b\b\b\b\b\b\b\b\b\b\b\b\b\b\b\b\b\b\b\b\b\b\b\b\b\b\b\b\b\b\b\b\b\b\b\b\b\b\b\b\b\b\b\b\b\b\b\b\b\b\b\b\b\b\b\b\b\b\r\n",
      " 33/172 [====>.........................] - ETA: 8s - loss: 3.7920"
     ]
    },
    {
     "name": "stdout",
     "output_type": "stream",
     "text": [
      "\b\b\b\b\b\b\b\b\b\b\b\b\b\b\b\b\b\b\b\b\b\b\b\b\b\b\b\b\b\b\b\b\b\b\b\b\b\b\b\b\b\b\b\b\b\b\b\b\b\b\b\b\b\b\b\b\b\b\b\b\b\b\b\b\b\r\n",
      " 34/172 [====>.........................] - ETA: 8s - loss: 3.7731"
     ]
    },
    {
     "name": "stdout",
     "output_type": "stream",
     "text": [
      "\b\b\b\b\b\b\b\b\b\b\b\b\b\b\b\b\b\b\b\b\b\b\b\b\b\b\b\b\b\b\b\b\b\b\b\b\b\b\b\b\b\b\b\b\b\b\b\b\b\b\b\b\b\b\b\b\b\b\b\b\b\b\b\b\b\r\n",
      " 35/172 [=====>........................] - ETA: 8s - loss: 3.7551"
     ]
    },
    {
     "name": "stdout",
     "output_type": "stream",
     "text": [
      "\b\b\b\b\b\b\b\b\b\b\b\b\b\b\b\b\b\b\b\b\b\b\b\b\b\b\b\b\b\b\b\b\b\b\b\b\b\b\b\b\b\b\b\b\b\b\b\b\b\b\b\b\b\b\b\b\b\b\b\b\b\b\b\b\b\r\n",
      " 36/172 [=====>........................] - ETA: 8s - loss: 3.7373"
     ]
    },
    {
     "name": "stdout",
     "output_type": "stream",
     "text": [
      "\b\b\b\b\b\b\b\b\b\b\b\b\b\b\b\b\b\b\b\b\b\b\b\b\b\b\b\b\b\b\b\b\b\b\b\b\b\b\b\b\b\b\b\b\b\b\b\b\b\b\b\b\b\b\b\b\b\b\b\b\b\b\b\b\b\r\n",
      " 37/172 [=====>........................] - ETA: 7s - loss: 3.7191"
     ]
    },
    {
     "name": "stdout",
     "output_type": "stream",
     "text": [
      "\b\b\b\b\b\b\b\b\b\b\b\b\b\b\b\b\b\b\b\b\b\b\b\b\b\b\b\b\b\b\b\b\b\b\b\b\b\b\b\b\b\b\b\b\b\b\b\b\b\b\b\b\b\b\b\b\b\b\b\b\b\b\b\b\b\r\n",
      " 38/172 [=====>........................] - ETA: 7s - loss: 3.7022"
     ]
    },
    {
     "name": "stdout",
     "output_type": "stream",
     "text": [
      "\b\b\b\b\b\b\b\b\b\b\b\b\b\b\b\b\b\b\b\b\b\b\b\b\b\b\b\b\b\b\b\b\b\b\b\b\b\b\b\b\b\b\b\b\b\b\b\b\b\b\b\b\b\b\b\b\b\b\b\b\b\b\b\b\b\r\n",
      " 39/172 [=====>........................] - ETA: 7s - loss: 3.6853"
     ]
    },
    {
     "name": "stdout",
     "output_type": "stream",
     "text": [
      "\b\b\b\b\b\b\b\b\b\b\b\b\b\b\b\b\b\b\b\b\b\b\b\b\b\b\b\b\b\b\b\b\b\b\b\b\b\b\b\b\b\b\b\b\b\b\b\b\b\b\b\b\b\b\b\b\b\b\b\b\b\b\b\b\b\r\n",
      " 40/172 [=====>........................] - ETA: 7s - loss: 3.6685"
     ]
    },
    {
     "name": "stdout",
     "output_type": "stream",
     "text": [
      "\b\b\b\b\b\b\b\b\b\b\b\b\b\b\b\b\b\b\b\b\b\b\b\b\b\b\b\b\b\b\b\b\b\b\b\b\b\b\b\b\b\b\b\b\b\b\b\b\b\b\b\b\b\b\b\b\b\b\b\b\b\b\b\b\b\r\n",
      " 41/172 [======>.......................] - ETA: 7s - loss: 3.6521"
     ]
    },
    {
     "name": "stdout",
     "output_type": "stream",
     "text": [
      "\b\b\b\b\b\b\b\b\b\b\b\b\b\b\b\b\b\b\b\b\b\b\b\b\b\b\b\b\b\b\b\b\b\b\b\b\b\b\b\b\b\b\b\b\b\b\b\b\b\b\b\b\b\b\b\b\b\b\b\b\b\b\b\b\b\r\n",
      " 42/172 [======>.......................] - ETA: 7s - loss: 3.6357"
     ]
    },
    {
     "name": "stdout",
     "output_type": "stream",
     "text": [
      "\b\b\b\b\b\b\b\b\b\b\b\b\b\b\b\b\b\b\b\b\b\b\b\b\b\b\b\b\b\b\b\b\b\b\b\b\b\b\b\b\b\b\b\b\b\b\b\b\b\b\b\b\b\b\b\b\b\b\b\b\b\b\b\b\b\r\n",
      " 43/172 [======>.......................] - ETA: 7s - loss: 3.6202"
     ]
    },
    {
     "name": "stdout",
     "output_type": "stream",
     "text": [
      "\b\b\b\b\b\b\b\b\b\b\b\b\b\b\b\b\b\b\b\b\b\b\b\b\b\b\b\b\b\b\b\b\b\b\b\b\b\b\b\b\b\b\b\b\b\b\b\b\b\b\b\b\b\b\b\b\b\b\b\b\b\b\b\b\b\r\n",
      " 44/172 [======>.......................] - ETA: 7s - loss: 3.6046"
     ]
    },
    {
     "name": "stdout",
     "output_type": "stream",
     "text": [
      "\b\b\b\b\b\b\b\b\b\b\b\b\b\b\b\b\b\b\b\b\b\b\b\b\b\b\b\b\b\b\b\b\b\b\b\b\b\b\b\b\b\b\b\b\b\b\b\b\b\b\b\b\b\b\b\b\b\b\b\b\b\b\b\b\b\r\n",
      " 45/172 [======>.......................] - ETA: 7s - loss: 3.5898"
     ]
    },
    {
     "name": "stdout",
     "output_type": "stream",
     "text": [
      "\b\b\b\b\b\b\b\b\b\b\b\b\b\b\b\b\b\b\b\b\b\b\b\b\b\b\b\b\b\b\b\b\b\b\b\b\b\b\b\b\b\b\b\b\b\b\b\b\b\b\b\b\b\b\b\b\b\b\b\b\b\b\b\b\b\r\n",
      " 46/172 [=======>......................] - ETA: 7s - loss: 3.5753"
     ]
    },
    {
     "name": "stdout",
     "output_type": "stream",
     "text": [
      "\b\b\b\b\b\b\b\b\b\b\b\b\b\b\b\b\b\b\b\b\b\b\b\b\b\b\b\b\b\b\b\b\b\b\b\b\b\b\b\b\b\b\b\b\b\b\b\b\b\b\b\b\b\b\b\b\b\b\b\b\b\b\b\b\b\r\n",
      " 47/172 [=======>......................] - ETA: 7s - loss: 3.5611"
     ]
    },
    {
     "name": "stdout",
     "output_type": "stream",
     "text": [
      "\b\b\b\b\b\b\b\b\b\b\b\b\b\b\b\b\b\b\b\b\b\b\b\b\b\b\b\b\b\b\b\b\b\b\b\b\b\b\b\b\b\b\b\b\b\b\b\b\b\b\b\b\b\b\b\b\b\b\b\b\b\b\b\b\b\r\n",
      " 48/172 [=======>......................] - ETA: 7s - loss: 3.5473"
     ]
    },
    {
     "name": "stdout",
     "output_type": "stream",
     "text": [
      "\b\b\b\b\b\b\b\b\b\b\b\b\b\b\b\b\b\b\b\b\b\b\b\b\b\b\b\b\b\b\b\b\b\b\b\b\b\b\b\b\b\b\b\b\b\b\b\b\b\b\b\b\b\b\b\b\b\b\b\b\b\b\b\b\b\r\n",
      " 49/172 [=======>......................] - ETA: 7s - loss: 3.5329"
     ]
    },
    {
     "name": "stdout",
     "output_type": "stream",
     "text": [
      "\b\b\b\b\b\b\b\b\b\b\b\b\b\b\b\b\b\b\b\b\b\b\b\b\b\b\b\b\b\b\b\b\b\b\b\b\b\b\b\b\b\b\b\b\b\b\b\b\b\b\b\b\b\b\b\b\b\b\b\b\b\b\b\b\b\r\n",
      " 50/172 [=======>......................] - ETA: 7s - loss: 3.5187"
     ]
    },
    {
     "name": "stdout",
     "output_type": "stream",
     "text": [
      "\b\b\b\b\b\b\b\b\b\b\b\b\b\b\b\b\b\b\b\b\b\b\b\b\b\b\b\b\b\b\b\b\b\b\b\b\b\b\b\b\b\b\b\b\b\b\b\b\b\b\b\b\b\b\b\b\b\b\b\b\b\b\b\b\b\r\n",
      " 51/172 [=======>......................] - ETA: 7s - loss: 3.5050"
     ]
    },
    {
     "name": "stdout",
     "output_type": "stream",
     "text": [
      "\b\b\b\b\b\b\b\b\b\b\b\b\b\b\b\b\b\b\b\b\b\b\b\b\b\b\b\b\b\b\b\b\b\b\b\b\b\b\b\b\b\b\b\b\b\b\b\b\b\b\b\b\b\b\b\b\b\b\b\b\b\b\b\b\b\r\n",
      " 52/172 [========>.....................] - ETA: 6s - loss: 3.4921"
     ]
    },
    {
     "name": "stdout",
     "output_type": "stream",
     "text": [
      "\b\b\b\b\b\b\b\b\b\b\b\b\b\b\b\b\b\b\b\b\b\b\b\b\b\b\b\b\b\b\b\b\b\b\b\b\b\b\b\b\b\b\b\b\b\b\b\b\b\b\b\b\b\b\b\b\b\b\b\b\b\b\b\b\b\r\n",
      " 53/172 [========>.....................] - ETA: 6s - loss: 3.4791"
     ]
    },
    {
     "name": "stdout",
     "output_type": "stream",
     "text": [
      "\b\b\b\b\b\b\b\b\b\b\b\b\b\b\b\b\b\b\b\b\b\b\b\b\b\b\b\b\b\b\b\b\b\b\b\b\b\b\b\b\b\b\b\b\b\b\b\b\b\b\b\b\b\b\b\b\b\b\b\b\b\b\b\b\b\r\n",
      " 54/172 [========>.....................] - ETA: 6s - loss: 3.4654"
     ]
    },
    {
     "name": "stdout",
     "output_type": "stream",
     "text": [
      "\b\b\b\b\b\b\b\b\b\b\b\b\b\b\b\b\b\b\b\b\b\b\b\b\b\b\b\b\b\b\b\b\b\b\b\b\b\b\b\b\b\b\b\b\b\b\b\b\b\b\b\b\b\b\b\b\b\b\b\b\b\b\b\b\b\r\n",
      " 55/172 [========>.....................] - ETA: 6s - loss: 3.4518"
     ]
    },
    {
     "name": "stdout",
     "output_type": "stream",
     "text": [
      "\b\b\b\b\b\b\b\b\b\b\b\b\b\b\b\b\b\b\b\b\b\b\b\b\b\b\b\b\b\b\b\b\b\b\b\b\b\b\b\b\b\b\b\b\b\b\b\b\b\b\b\b\b\b\b\b\b\b\b\b\b\b\b\b\b\r\n",
      " 56/172 [========>.....................] - ETA: 6s - loss: 3.4384"
     ]
    },
    {
     "name": "stdout",
     "output_type": "stream",
     "text": [
      "\b\b\b\b\b\b\b\b\b\b\b\b\b\b\b\b\b\b\b\b\b\b\b\b\b\b\b\b\b\b\b\b\b\b\b\b\b\b\b\b\b\b\b\b\b\b\b\b\b\b\b\b\b\b\b\b\b\b\b\b\b\b\b\b\b\r\n",
      " 57/172 [========>.....................] - ETA: 6s - loss: 3.4260"
     ]
    },
    {
     "name": "stdout",
     "output_type": "stream",
     "text": [
      "\b\b\b\b\b\b\b\b\b\b\b\b\b\b\b\b\b\b\b\b\b\b\b\b\b\b\b\b\b\b\b\b\b\b\b\b\b\b\b\b\b\b\b\b\b\b\b\b\b\b\b\b\b\b\b\b\b\b\b\b\b\b\b\b\b\r\n",
      " 58/172 [=========>....................] - ETA: 6s - loss: 3.4134"
     ]
    },
    {
     "name": "stdout",
     "output_type": "stream",
     "text": [
      "\b\b\b\b\b\b\b\b\b\b\b\b\b\b\b\b\b\b\b\b\b\b\b\b\b\b\b\b\b\b\b\b\b\b\b\b\b\b\b\b\b\b\b\b\b\b\b\b\b\b\b\b\b\b\b\b\b\b\b\b\b\b\b\b\b\r\n",
      " 59/172 [=========>....................] - ETA: 6s - loss: 3.4007"
     ]
    },
    {
     "name": "stdout",
     "output_type": "stream",
     "text": [
      "\b\b\b\b\b\b\b\b\b\b\b\b\b\b\b\b\b\b\b\b\b\b\b\b\b\b\b\b\b\b\b\b\b\b\b\b\b\b\b\b\b\b\b\b\b\b\b\b\b\b\b\b\b\b\b\b\b\b\b\b\b\b\b\b\b\r\n",
      " 60/172 [=========>....................] - ETA: 6s - loss: 3.3888"
     ]
    },
    {
     "name": "stdout",
     "output_type": "stream",
     "text": [
      "\b\b\b\b\b\b\b\b\b\b\b\b\b\b\b\b\b\b\b\b\b\b\b\b\b\b\b\b\b\b\b\b\b\b\b\b\b\b\b\b\b\b\b\b\b\b\b\b\b\b\b\b\b\b\b\b\b\b\b\b\b\b\b\b\b\r\n",
      " 61/172 [=========>....................] - ETA: 6s - loss: 3.3762"
     ]
    },
    {
     "name": "stdout",
     "output_type": "stream",
     "text": [
      "\b\b\b\b\b\b\b\b\b\b\b\b\b\b\b\b\b\b\b\b\b\b\b\b\b\b\b\b\b\b\b\b\b\b\b\b\b\b\b\b\b\b\b\b\b\b\b\b\b\b\b\b\b\b\b\b\b\b\b\b\b\b\b\b\b\r\n",
      " 62/172 [=========>....................] - ETA: 6s - loss: 3.3641"
     ]
    },
    {
     "name": "stdout",
     "output_type": "stream",
     "text": [
      "\b\b\b\b\b\b\b\b\b\b\b\b\b\b\b\b\b\b\b\b\b\b\b\b\b\b\b\b\b\b\b\b\b\b\b\b\b\b\b\b\b\b\b\b\b\b\b\b\b\b\b\b\b\b\b\b\b\b\b\b\b\b\b\b\b\r\n",
      " 63/172 [=========>....................] - ETA: 6s - loss: 3.3531"
     ]
    },
    {
     "name": "stdout",
     "output_type": "stream",
     "text": [
      "\b\b\b\b\b\b\b\b\b\b\b\b\b\b\b\b\b\b\b\b\b\b\b\b\b\b\b\b\b\b\b\b\b\b\b\b\b\b\b\b\b\b\b\b\b\b\b\b\b\b\b\b\b\b\b\b\b\b\b\b\b\b\b\b\b\r\n",
      " 64/172 [==========>...................] - ETA: 6s - loss: 3.3419"
     ]
    },
    {
     "name": "stdout",
     "output_type": "stream",
     "text": [
      "\b\b\b\b\b\b\b\b\b\b\b\b\b\b\b\b\b\b\b\b\b\b\b\b\b\b\b\b\b\b\b\b\b\b\b\b\b\b\b\b\b\b\b\b\b\b\b\b\b\b\b\b\b\b\b\b\b\b\b\b\b\b\b\b\b\r\n",
      " 65/172 [==========>...................] - ETA: 6s - loss: 3.3304"
     ]
    },
    {
     "name": "stdout",
     "output_type": "stream",
     "text": [
      "\b\b\b\b\b\b\b\b\b\b\b\b\b\b\b\b\b\b\b\b\b\b\b\b\b\b\b\b\b\b\b\b\b\b\b\b\b\b\b\b\b\b\b\b\b\b\b\b\b\b\b\b\b\b\b\b\b\b\b\b\b\b\b\b\b\r\n",
      " 66/172 [==========>...................] - ETA: 6s - loss: 3.3189"
     ]
    },
    {
     "name": "stdout",
     "output_type": "stream",
     "text": [
      "\b\b\b\b\b\b\b\b\b\b\b\b\b\b\b\b\b\b\b\b\b\b\b\b\b\b\b\b\b\b\b\b\b\b\b\b\b\b\b\b\b\b\b\b\b\b\b\b\b\b\b\b\b\b\b\b\b\b\b\b\b\b\b\b\b\r\n",
      " 67/172 [==========>...................] - ETA: 6s - loss: 3.3080"
     ]
    },
    {
     "name": "stdout",
     "output_type": "stream",
     "text": [
      "\b\b\b\b\b\b\b\b\b\b\b\b\b\b\b\b\b\b\b\b\b\b\b\b\b\b\b\b\b\b\b\b\b\b\b\b\b\b\b\b\b\b\b\b\b\b\b\b\b\b\b\b\b\b\b\b\b\b\b\b\b\b\b\b\b\r\n",
      " 68/172 [==========>...................] - ETA: 6s - loss: 3.2974"
     ]
    },
    {
     "name": "stdout",
     "output_type": "stream",
     "text": [
      "\b\b\b\b\b\b\b\b\b\b\b\b\b\b\b\b\b\b\b\b\b\b\b\b\b\b\b\b\b\b\b\b\b\b\b\b\b\b\b\b\b\b\b\b\b\b\b\b\b\b\b\b\b\b\b\b\b\b\b\b\b\b\b\b\b\r\n",
      " 69/172 [===========>..................] - ETA: 5s - loss: 3.2871"
     ]
    },
    {
     "name": "stdout",
     "output_type": "stream",
     "text": [
      "\b\b\b\b\b\b\b\b\b\b\b\b\b\b\b\b\b\b\b\b\b\b\b\b\b\b\b\b\b\b\b\b\b\b\b\b\b\b\b\b\b\b\b\b\b\b\b\b\b\b\b\b\b\b\b\b\b\b\b\b\b\b\b\b\b\r\n",
      " 70/172 [===========>..................] - ETA: 5s - loss: 3.2770"
     ]
    },
    {
     "name": "stdout",
     "output_type": "stream",
     "text": [
      "\b\b\b\b\b\b\b\b\b\b\b\b\b\b\b\b\b\b\b\b\b\b\b\b\b\b\b\b\b\b\b\b\b\b\b\b\b\b\b\b\b\b\b\b\b\b\b\b\b\b\b\b\b\b\b\b\b\b\b\b\b\b\b\b\b\r\n",
      " 71/172 [===========>..................] - ETA: 5s - loss: 3.2669"
     ]
    },
    {
     "name": "stdout",
     "output_type": "stream",
     "text": [
      "\b\b\b\b\b\b\b\b\b\b\b\b\b\b\b\b\b\b\b\b\b\b\b\b\b\b\b\b\b\b\b\b\b\b\b\b\b\b\b\b\b\b\b\b\b\b\b\b\b\b\b\b\b\b\b\b\b\b\b\b\b\b\b\b\b\r\n",
      " 72/172 [===========>..................] - ETA: 5s - loss: 3.2564"
     ]
    },
    {
     "name": "stdout",
     "output_type": "stream",
     "text": [
      "\b\b\b\b\b\b\b\b\b\b\b\b\b\b\b\b\b\b\b\b\b\b\b\b\b\b\b\b\b\b\b\b\b\b\b\b\b\b\b\b\b\b\b\b\b\b\b\b\b\b\b\b\b\b\b\b\b\b\b\b\b\b\b\b\b\r\n",
      " 73/172 [===========>..................] - ETA: 5s - loss: 3.2466"
     ]
    },
    {
     "name": "stdout",
     "output_type": "stream",
     "text": [
      "\b\b\b\b\b\b\b\b\b\b\b\b\b\b\b\b\b\b\b\b\b\b\b\b\b\b\b\b\b\b\b\b\b\b\b\b\b\b\b\b\b\b\b\b\b\b\b\b\b\b\b\b\b\b\b\b\b\b\b\b\b\b\b\b\b\r\n",
      " 74/172 [===========>..................] - ETA: 5s - loss: 3.2366"
     ]
    },
    {
     "name": "stdout",
     "output_type": "stream",
     "text": [
      "\b\b\b\b\b\b\b\b\b\b\b\b\b\b\b\b\b\b\b\b\b\b\b\b\b\b\b\b\b\b\b\b\b\b\b\b\b\b\b\b\b\b\b\b\b\b\b\b\b\b\b\b\b\b\b\b\b\b\b\b\b\b\b\b\b\r\n",
      " 75/172 [============>.................] - ETA: 5s - loss: 3.2273"
     ]
    },
    {
     "name": "stdout",
     "output_type": "stream",
     "text": [
      "\b\b\b\b\b\b\b\b\b\b\b\b\b\b\b\b\b\b\b\b\b\b\b\b\b\b\b\b\b\b\b\b\b\b\b\b\b\b\b\b\b\b\b\b\b\b\b\b\b\b\b\b\b\b\b\b\b\b\b\b\b\b\b\b\b\r\n",
      " 76/172 [============>.................] - ETA: 5s - loss: 3.2180"
     ]
    },
    {
     "name": "stdout",
     "output_type": "stream",
     "text": [
      "\b\b\b\b\b\b\b\b\b\b\b\b\b\b\b\b\b\b\b\b\b\b\b\b\b\b\b\b\b\b\b\b\b\b\b\b\b\b\b\b\b\b\b\b\b\b\b\b\b\b\b\b\b\b\b\b\b\b\b\b\b\b\b\b\b\r\n",
      " 77/172 [============>.................] - ETA: 5s - loss: 3.2084"
     ]
    },
    {
     "name": "stdout",
     "output_type": "stream",
     "text": [
      "\b\b\b\b\b\b\b\b\b\b\b\b\b\b\b\b\b\b\b\b\b\b\b\b\b\b\b\b\b\b\b\b\b\b\b\b\b\b\b\b\b\b\b\b\b\b\b\b\b\b\b\b\b\b\b\b\b\b\b\b\b\b\b\b\b\r\n",
      " 78/172 [============>.................] - ETA: 5s - loss: 3.1990"
     ]
    },
    {
     "name": "stdout",
     "output_type": "stream",
     "text": [
      "\b\b\b\b\b\b\b\b\b\b\b\b\b\b\b\b\b\b\b\b\b\b\b\b\b\b\b\b\b\b\b\b\b\b\b\b\b\b\b\b\b\b\b\b\b\b\b\b\b\b\b\b\b\b\b\b\b\b\b\b\b\b\b\b\b\r\n",
      " 79/172 [============>.................] - ETA: 5s - loss: 3.1895"
     ]
    },
    {
     "name": "stdout",
     "output_type": "stream",
     "text": [
      "\b\b\b\b\b\b\b\b\b\b\b\b\b\b\b\b\b\b\b\b\b\b\b\b\b\b\b\b\b\b\b\b\b\b\b\b\b\b\b\b\b\b\b\b\b\b\b\b\b\b\b\b\b\b\b\b\b\b\b\b\b\b\b\b\b\r\n",
      " 80/172 [============>.................] - ETA: 5s - loss: 3.1803"
     ]
    },
    {
     "name": "stdout",
     "output_type": "stream",
     "text": [
      "\b\b\b\b\b\b\b\b\b\b\b\b\b\b\b\b\b\b\b\b\b\b\b\b\b\b\b\b\b\b\b\b\b\b\b\b\b\b\b\b\b\b\b\b\b\b\b\b\b\b\b\b\b\b\b\b\b\b\b\b\b\b\b\b\b\r\n",
      " 81/172 [=============>................] - ETA: 5s - loss: 3.1716"
     ]
    },
    {
     "name": "stdout",
     "output_type": "stream",
     "text": [
      "\b\b\b\b\b\b\b\b\b\b\b\b\b\b\b\b\b\b\b\b\b\b\b\b\b\b\b\b\b\b\b\b\b\b\b\b\b\b\b\b\b\b\b\b\b\b\b\b\b\b\b\b\b\b\b\b\b\b\b\b\b\b\b\b\b\r\n",
      " 82/172 [=============>................] - ETA: 5s - loss: 3.1626"
     ]
    },
    {
     "name": "stdout",
     "output_type": "stream",
     "text": [
      "\b\b\b\b\b\b\b\b\b\b\b\b\b\b\b\b\b\b\b\b\b\b\b\b\b\b\b\b\b\b\b\b\b\b\b\b\b\b\b\b\b\b\b\b\b\b\b\b\b\b\b\b\b\b\b\b\b\b\b\b\b\b\b\b\b\r\n",
      " 83/172 [=============>................] - ETA: 5s - loss: 3.1540"
     ]
    },
    {
     "name": "stdout",
     "output_type": "stream",
     "text": [
      "\b\b\b\b\b\b\b\b\b\b\b\b\b\b\b\b\b\b\b\b\b\b\b\b\b\b\b\b\b\b\b\b\b\b\b\b\b\b\b\b\b\b\b\b\b\b\b\b\b\b\b\b\b\b\b\b\b\b\b\b\b\b\b\b\b\r\n",
      " 84/172 [=============>................] - ETA: 5s - loss: 3.1459"
     ]
    },
    {
     "name": "stdout",
     "output_type": "stream",
     "text": [
      "\b\b\b\b\b\b\b\b\b\b\b\b\b\b\b\b\b\b\b\b\b\b\b\b\b\b\b\b\b\b\b\b\b\b\b\b\b\b\b\b\b\b\b\b\b\b\b\b\b\b\b\b\b\b\b\b\b\b\b\b\b\b\b\b\b\r\n",
      " 85/172 [=============>................] - ETA: 5s - loss: 3.1380"
     ]
    },
    {
     "name": "stdout",
     "output_type": "stream",
     "text": [
      "\b\b\b\b\b\b\b\b\b\b\b\b\b\b\b\b\b\b\b\b\b\b\b\b\b\b\b\b\b\b\b\b\b\b\b\b\b\b\b\b\b\b\b\b\b\b\b\b\b\b\b\b\b\b\b\b\b\b\b\b\b\b\b\b\b\r\n",
      " 87/172 [==============>...............] - ETA: 4s - loss: 3.1221"
     ]
    },
    {
     "name": "stdout",
     "output_type": "stream",
     "text": [
      "\b\b\b\b\b\b\b\b\b\b\b\b\b\b\b\b\b\b\b\b\b\b\b\b\b\b\b\b\b\b\b\b\b\b\b\b\b\b\b\b\b\b\b\b\b\b\b\b\b\b\b\b\b\b\b\b\b\b\b\b\b\b\b\b\b\r\n",
      " 88/172 [==============>...............] - ETA: 4s - loss: 3.1138"
     ]
    },
    {
     "name": "stdout",
     "output_type": "stream",
     "text": [
      "\b\b\b\b\b\b\b\b\b\b\b\b\b\b\b\b\b\b\b\b\b\b\b\b\b\b\b\b\b\b\b\b\b\b\b\b\b\b\b\b\b\b\b\b\b\b\b\b\b\b\b\b\b\b\b\b\b\b\b\b\b\b\b\b\b\r\n",
      " 89/172 [==============>...............] - ETA: 4s - loss: 3.1058"
     ]
    },
    {
     "name": "stdout",
     "output_type": "stream",
     "text": [
      "\b\b\b\b\b\b\b\b\b\b\b\b\b\b\b\b\b\b\b\b\b\b\b\b\b\b\b\b\b\b\b\b\b\b\b\b\b\b\b\b\b\b\b\b\b\b\b\b\b\b\b\b\b\b\b\b\b\b\b\b\b\b\b\b\b\r\n",
      " 90/172 [==============>...............] - ETA: 4s - loss: 3.0982"
     ]
    },
    {
     "name": "stdout",
     "output_type": "stream",
     "text": [
      "\b\b\b\b\b\b\b\b\b\b\b\b\b\b\b\b\b\b\b\b\b\b\b\b\b\b\b\b\b\b\b\b\b\b\b\b\b\b\b\b\b\b\b\b\b\b\b\b\b\b\b\b\b\b\b\b\b\b\b\b\b\b\b\b\b\r\n",
      " 91/172 [==============>...............] - ETA: 4s - loss: 3.0905"
     ]
    },
    {
     "name": "stdout",
     "output_type": "stream",
     "text": [
      "\b\b\b\b\b\b\b\b\b\b\b\b\b\b\b\b\b\b\b\b\b\b\b\b\b\b\b\b\b\b\b\b\b\b\b\b\b\b\b\b\b\b\b\b\b\b\b\b\b\b\b\b\b\b\b\b\b\b\b\b\b\b\b\b\b\r\n",
      " 92/172 [===============>..............] - ETA: 4s - loss: 3.0832"
     ]
    },
    {
     "name": "stdout",
     "output_type": "stream",
     "text": [
      "\b\b\b\b\b\b\b\b\b\b\b\b\b\b\b\b\b\b\b\b\b\b\b\b\b\b\b\b\b\b\b\b\b\b\b\b\b\b\b\b\b\b\b\b\b\b\b\b\b\b\b\b\b\b\b\b\b\b\b\b\b\b\b\b\b\r\n",
      " 93/172 [===============>..............] - ETA: 4s - loss: 3.0761"
     ]
    },
    {
     "name": "stdout",
     "output_type": "stream",
     "text": [
      "\b\b\b\b\b\b\b\b\b\b\b\b\b\b\b\b\b\b\b\b\b\b\b\b\b\b\b\b\b\b\b\b\b\b\b\b\b\b\b\b\b\b\b\b\b\b\b\b\b\b\b\b\b\b\b\b\b\b\b\b\b\b\b\b\b\r\n",
      " 94/172 [===============>..............] - ETA: 4s - loss: 3.0689"
     ]
    },
    {
     "name": "stdout",
     "output_type": "stream",
     "text": [
      "\b\b\b\b\b\b\b\b\b\b\b\b\b\b\b\b\b\b\b\b\b\b\b\b\b\b\b\b\b\b\b\b\b\b\b\b\b\b\b\b\b\b\b\b\b\b\b\b\b\b\b\b\b\b\b\b\b\b\b\b\b\b\b\b\b\r\n",
      " 95/172 [===============>..............] - ETA: 4s - loss: 3.0620"
     ]
    },
    {
     "name": "stdout",
     "output_type": "stream",
     "text": [
      "\b\b\b\b\b\b\b\b\b\b\b\b\b\b\b\b\b\b\b\b\b\b\b\b\b\b\b\b\b\b\b\b\b\b\b\b\b\b\b\b\b\b\b\b\b\b\b\b\b\b\b\b\b\b\b\b\b\b\b\b\b\b\b\b\b\r\n",
      " 96/172 [===============>..............] - ETA: 4s - loss: 3.0549"
     ]
    },
    {
     "name": "stdout",
     "output_type": "stream",
     "text": [
      "\b\b\b\b\b\b\b\b\b\b\b\b\b\b\b\b\b\b\b\b\b\b\b\b\b\b\b\b\b\b\b\b\b\b\b\b\b\b\b\b\b\b\b\b\b\b\b\b\b\b\b\b\b\b\b\b\b\b\b\b\b\b\b\b\b\r\n",
      " 97/172 [===============>..............] - ETA: 4s - loss: 3.0481"
     ]
    },
    {
     "name": "stdout",
     "output_type": "stream",
     "text": [
      "\b\b\b\b\b\b\b\b\b\b\b\b\b\b\b\b\b\b\b\b\b\b\b\b\b\b\b\b\b\b\b\b\b\b\b\b\b\b\b\b\b\b\b\b\b\b\b\b\b\b\b\b\b\b\b\b\b\b\b\b\b\b\b\b\b\r\n",
      " 98/172 [================>.............] - ETA: 4s - loss: 3.0415"
     ]
    },
    {
     "name": "stdout",
     "output_type": "stream",
     "text": [
      "\b\b\b\b\b\b\b\b\b\b\b\b\b\b\b\b\b\b\b\b\b\b\b\b\b\b\b\b\b\b\b\b\b\b\b\b\b\b\b\b\b\b\b\b\b\b\b\b\b\b\b\b\b\b\b\b\b\b\b\b\b\b\b\b\b\r\n",
      " 99/172 [================>.............] - ETA: 4s - loss: 3.0346"
     ]
    },
    {
     "name": "stdout",
     "output_type": "stream",
     "text": [
      "\b\b\b\b\b\b\b\b\b\b\b\b\b\b\b\b\b\b\b\b\b\b\b\b\b\b\b\b\b\b\b\b\b\b\b\b\b\b\b\b\b\b\b\b\b\b\b\b\b\b\b\b\b\b\b\b\b\b\b\b\b\b\b\b\b\r\n",
      "100/172 [================>.............] - ETA: 4s - loss: 3.0278"
     ]
    },
    {
     "name": "stdout",
     "output_type": "stream",
     "text": [
      "\b\b\b\b\b\b\b\b\b\b\b\b\b\b\b\b\b\b\b\b\b\b\b\b\b\b\b\b\b\b\b\b\b\b\b\b\b\b\b\b\b\b\b\b\b\b\b\b\b\b\b\b\b\b\b\b\b\b\b\b\b\b\b\b\b\r\n",
      "101/172 [================>.............] - ETA: 4s - loss: 3.0214"
     ]
    },
    {
     "name": "stdout",
     "output_type": "stream",
     "text": [
      "\b\b\b\b\b\b\b\b\b\b\b\b\b\b\b\b\b\b\b\b\b\b\b\b\b\b\b\b\b\b\b\b\b\b\b\b\b\b\b\b\b\b\b\b\b\b\b\b\b\b\b\b\b\b\b\b\b\b\b\b\b\b\b\b\b\r\n",
      "102/172 [================>.............] - ETA: 4s - loss: 3.0150"
     ]
    },
    {
     "name": "stdout",
     "output_type": "stream",
     "text": [
      "\b\b\b\b\b\b\b\b\b\b\b\b\b\b\b\b\b\b\b\b\b\b\b\b\b\b\b\b\b\b\b\b\b\b\b\b\b\b\b\b\b\b\b\b\b\b\b\b\b\b\b\b\b\b\b\b\b\b\b\b\b\b\b\b\b\r\n",
      "103/172 [================>.............] - ETA: 4s - loss: 3.0090"
     ]
    },
    {
     "name": "stdout",
     "output_type": "stream",
     "text": [
      "\b\b\b\b\b\b\b\b\b\b\b\b\b\b\b\b\b\b\b\b\b\b\b\b\b\b\b\b\b\b\b\b\b\b\b\b\b\b\b\b\b\b\b\b\b\b\b\b\b\b\b\b\b\b\b\b\b\b\b\b\b\b\b\b\b\r\n",
      "104/172 [=================>............] - ETA: 3s - loss: 3.0028"
     ]
    },
    {
     "name": "stdout",
     "output_type": "stream",
     "text": [
      "\b\b\b\b\b\b\b\b\b\b\b\b\b\b\b\b\b\b\b\b\b\b\b\b\b\b\b\b\b\b\b\b\b\b\b\b\b\b\b\b\b\b\b\b\b\b\b\b\b\b\b\b\b\b\b\b\b\b\b\b\b\b\b\b\b\r\n",
      "105/172 [=================>............] - ETA: 3s - loss: 2.9966"
     ]
    },
    {
     "name": "stdout",
     "output_type": "stream",
     "text": [
      "\b\b\b\b\b\b\b\b\b\b\b\b\b\b\b\b\b\b\b\b\b\b\b\b\b\b\b\b\b\b\b\b\b\b\b\b\b\b\b\b\b\b\b\b\b\b\b\b\b\b\b\b\b\b\b\b\b\b\b\b\b\b\b\b\b\r\n",
      "106/172 [=================>............] - ETA: 3s - loss: 2.9908"
     ]
    },
    {
     "name": "stdout",
     "output_type": "stream",
     "text": [
      "\b\b\b\b\b\b\b\b\b\b\b\b\b\b\b\b\b\b\b\b\b\b\b\b\b\b\b\b\b\b\b\b\b\b\b\b\b\b\b\b\b\b\b\b\b\b\b\b\b\b\b\b\b\b\b\b\b\b\b\b\b\b\b\b\b\r\n",
      "107/172 [=================>............] - ETA: 3s - loss: 2.9846"
     ]
    },
    {
     "name": "stdout",
     "output_type": "stream",
     "text": [
      "\b\b\b\b\b\b\b\b\b\b\b\b\b\b\b\b\b\b\b\b\b\b\b\b\b\b\b\b\b\b\b\b\b\b\b\b\b\b\b\b\b\b\b\b\b\b\b\b\b\b\b\b\b\b\b\b\b\b\b\b\b\b\b\b\b\r\n",
      "108/172 [=================>............] - ETA: 3s - loss: 2.9786"
     ]
    },
    {
     "name": "stdout",
     "output_type": "stream",
     "text": [
      "\b\b\b\b\b\b\b\b\b\b\b\b\b\b\b\b\b\b\b\b\b\b\b\b\b\b\b\b\b\b\b\b\b\b\b\b\b\b\b\b\b\b\b\b\b\b\b\b\b\b\b\b\b\b\b\b\b\b\b\b\b\b\b\b\b\r\n",
      "109/172 [==================>...........] - ETA: 3s - loss: 2.9730"
     ]
    },
    {
     "name": "stdout",
     "output_type": "stream",
     "text": [
      "\b\b\b\b\b\b\b\b\b\b\b\b\b\b\b\b\b\b\b\b\b\b\b\b\b\b\b\b\b\b\b\b\b\b\b\b\b\b\b\b\b\b\b\b\b\b\b\b\b\b\b\b\b\b\b\b\b\b\b\b\b\b\b\b\b\r\n",
      "110/172 [==================>...........] - ETA: 3s - loss: 2.9673"
     ]
    },
    {
     "name": "stdout",
     "output_type": "stream",
     "text": [
      "\b\b\b\b\b\b\b\b\b\b\b\b\b\b\b\b\b\b\b\b\b\b\b\b\b\b\b\b\b\b\b\b\b\b\b\b\b\b\b\b\b\b\b\b\b\b\b\b\b\b\b\b\b\b\b\b\b\b\b\b\b\b\b\b\b\r\n",
      "111/172 [==================>...........] - ETA: 3s - loss: 2.9618"
     ]
    },
    {
     "name": "stdout",
     "output_type": "stream",
     "text": [
      "\b\b\b\b\b\b\b\b\b\b\b\b\b\b\b\b\b\b\b\b\b\b\b\b\b\b\b\b\b\b\b\b\b\b\b\b\b\b\b\b\b\b\b\b\b\b\b\b\b\b\b\b\b\b\b\b\b\b\b\b\b\b\b\b\b\r\n",
      "112/172 [==================>...........] - ETA: 3s - loss: 2.9562"
     ]
    },
    {
     "name": "stdout",
     "output_type": "stream",
     "text": [
      "\b\b\b\b\b\b\b\b\b\b\b\b\b\b\b\b\b\b\b\b\b\b\b\b\b\b\b\b\b\b\b\b\b\b\b\b\b\b\b\b\b\b\b\b\b\b\b\b\b\b\b\b\b\b\b\b\b\b\b\b\b\b\b\b\b\r\n",
      "113/172 [==================>...........] - ETA: 3s - loss: 2.9507"
     ]
    },
    {
     "name": "stdout",
     "output_type": "stream",
     "text": [
      "\b\b\b\b\b\b\b\b\b\b\b\b\b\b\b\b\b\b\b\b\b\b\b\b\b\b\b\b\b\b\b\b\b\b\b\b\b\b\b\b\b\b\b\b\b\b\b\b\b\b\b\b\b\b\b\b\b\b\b\b\b\b\b\b\b\r\n",
      "114/172 [==================>...........] - ETA: 3s - loss: 2.9454"
     ]
    },
    {
     "name": "stdout",
     "output_type": "stream",
     "text": [
      "\b\b\b\b\b\b\b\b\b\b\b\b\b\b\b\b\b\b\b\b\b\b\b\b\b\b\b\b\b\b\b\b\b\b\b\b\b\b\b\b\b\b\b\b\b\b\b\b\b\b\b\b\b\b\b\b\b\b\b\b\b\b\b\b\b\r\n",
      "115/172 [===================>..........] - ETA: 3s - loss: 2.9401"
     ]
    },
    {
     "name": "stdout",
     "output_type": "stream",
     "text": [
      "\b\b\b\b\b\b\b\b\b\b\b\b\b\b\b\b\b\b\b\b\b\b\b\b\b\b\b\b\b\b\b\b\b\b\b\b\b\b\b\b\b\b\b\b\b\b\b\b\b\b\b\b\b\b\b\b\b\b\b\b\b\b\b\b\b\r\n",
      "116/172 [===================>..........] - ETA: 3s - loss: 2.9350"
     ]
    },
    {
     "name": "stdout",
     "output_type": "stream",
     "text": [
      "\b\b\b\b\b\b\b\b\b\b\b\b\b\b\b\b\b\b\b\b\b\b\b\b\b\b\b\b\b\b\b\b\b\b\b\b\b\b\b\b\b\b\b\b\b\b\b\b\b\b\b\b\b\b\b\b\b\b\b\b\b\b\b\b\b\r\n",
      "117/172 [===================>..........] - ETA: 3s - loss: 2.9299"
     ]
    },
    {
     "name": "stdout",
     "output_type": "stream",
     "text": [
      "\b\b\b\b\b\b\b\b\b\b\b\b\b\b\b\b\b\b\b\b\b\b\b\b\b\b\b\b\b\b\b\b\b\b\b\b\b\b\b\b\b\b\b\b\b\b\b\b\b\b\b\b\b\b\b\b\b\b\b\b\b\b\b\b\b\r\n",
      "118/172 [===================>..........] - ETA: 3s - loss: 2.9247"
     ]
    },
    {
     "name": "stdout",
     "output_type": "stream",
     "text": [
      "\b\b\b\b\b\b\b\b\b\b\b\b\b\b\b\b\b\b\b\b\b\b\b\b\b\b\b\b\b\b\b\b\b\b\b\b\b\b\b\b\b\b\b\b\b\b\b\b\b\b\b\b\b\b\b\b\b\b\b\b\b\b\b\b\b\r\n",
      "119/172 [===================>..........] - ETA: 3s - loss: 2.9198"
     ]
    },
    {
     "name": "stdout",
     "output_type": "stream",
     "text": [
      "\b\b\b\b\b\b\b\b\b\b\b\b\b\b\b\b\b\b\b\b\b\b\b\b\b\b\b\b\b\b\b\b\b\b\b\b\b\b\b\b\b\b\b\b\b\b\b\b\b\b\b\b\b\b\b\b\b\b\b\b\b\b\b\b\b\r\n",
      "120/172 [===================>..........] - ETA: 3s - loss: 2.9146"
     ]
    },
    {
     "name": "stdout",
     "output_type": "stream",
     "text": [
      "\b\b\b\b\b\b\b\b\b\b\b\b\b\b\b\b\b\b\b\b\b\b\b\b\b\b\b\b\b\b\b\b\b\b\b\b\b\b\b\b\b\b\b\b\b\b\b\b\b\b\b\b\b\b\b\b\b\b\b\b\b\b\b\b\b\r\n",
      "121/172 [====================>.........] - ETA: 2s - loss: 2.9097"
     ]
    },
    {
     "name": "stdout",
     "output_type": "stream",
     "text": [
      "\b\b\b\b\b\b\b\b\b\b\b\b\b\b\b\b\b\b\b\b\b\b\b\b\b\b\b\b\b\b\b\b\b\b\b\b\b\b\b\b\b\b\b\b\b\b\b\b\b\b\b\b\b\b\b\b\b\b\b\b\b\b\b\b\b\r\n",
      "122/172 [====================>.........] - ETA: 2s - loss: 2.9047"
     ]
    },
    {
     "name": "stdout",
     "output_type": "stream",
     "text": [
      "\b\b\b\b\b\b\b\b\b\b\b\b\b\b\b\b\b\b\b\b\b\b\b\b\b\b\b\b\b\b\b\b\b\b\b\b\b\b\b\b\b\b\b\b\b\b\b\b\b\b\b\b\b\b\b\b\b\b\b\b\b\b\b\b\b\r\n",
      "123/172 [====================>.........] - ETA: 2s - loss: 2.8999"
     ]
    },
    {
     "name": "stdout",
     "output_type": "stream",
     "text": [
      "\b\b\b\b\b\b\b\b\b\b\b\b\b\b\b\b\b\b\b\b\b\b\b\b\b\b\b\b\b\b\b\b\b\b\b\b\b\b\b\b\b\b\b\b\b\b\b\b\b\b\b\b\b\b\b\b\b\b\b\b\b\b\b\b\b\r\n",
      "124/172 [====================>.........] - ETA: 2s - loss: 2.8953"
     ]
    },
    {
     "name": "stdout",
     "output_type": "stream",
     "text": [
      "\b\b\b\b\b\b\b\b\b\b\b\b\b\b\b\b\b\b\b\b\b\b\b\b\b\b\b\b\b\b\b\b\b\b\b\b\b\b\b\b\b\b\b\b\b\b\b\b\b\b\b\b\b\b\b\b\b\b\b\b\b\b\b\b\b\r\n",
      "125/172 [====================>.........] - ETA: 2s - loss: 2.8904"
     ]
    },
    {
     "name": "stdout",
     "output_type": "stream",
     "text": [
      "\b\b\b\b\b\b\b\b\b\b\b\b\b\b\b\b\b\b\b\b\b\b\b\b\b\b\b\b\b\b\b\b\b\b\b\b\b\b\b\b\b\b\b\b\b\b\b\b\b\b\b\b\b\b\b\b\b\b\b\b\b\b\b\b\b\r\n",
      "126/172 [====================>.........] - ETA: 2s - loss: 2.8857"
     ]
    },
    {
     "name": "stdout",
     "output_type": "stream",
     "text": [
      "\b\b\b\b\b\b\b\b\b\b\b\b\b\b\b\b\b\b\b\b\b\b\b\b\b\b\b\b\b\b\b\b\b\b\b\b\b\b\b\b\b\b\b\b\b\b\b\b\b\b\b\b\b\b\b\b\b\b\b\b\b\b\b\b\b\r\n",
      "127/172 [=====================>........] - ETA: 2s - loss: 2.8811"
     ]
    },
    {
     "name": "stdout",
     "output_type": "stream",
     "text": [
      "\b\b\b\b\b\b\b\b\b\b\b\b\b\b\b\b\b\b\b\b\b\b\b\b\b\b\b\b\b\b\b\b\b\b\b\b\b\b\b\b\b\b\b\b\b\b\b\b\b\b\b\b\b\b\b\b\b\b\b\b\b\b\b\b\b\r\n",
      "128/172 [=====================>........] - ETA: 2s - loss: 2.8766"
     ]
    },
    {
     "name": "stdout",
     "output_type": "stream",
     "text": [
      "\b\b\b\b\b\b\b\b\b\b\b\b\b\b\b\b\b\b\b\b\b\b\b\b\b\b\b\b\b\b\b\b\b\b\b\b\b\b\b\b\b\b\b\b\b\b\b\b\b\b\b\b\b\b\b\b\b\b\b\b\b\b\b\b\b\r\n",
      "129/172 [=====================>........] - ETA: 2s - loss: 2.8721"
     ]
    },
    {
     "name": "stdout",
     "output_type": "stream",
     "text": [
      "\b\b\b\b\b\b\b\b\b\b\b\b\b\b\b\b\b\b\b\b\b\b\b\b\b\b\b\b\b\b\b\b\b\b\b\b\b\b\b\b\b\b\b\b\b\b\b\b\b\b\b\b\b\b\b\b\b\b\b\b\b\b\b\b\b\r\n",
      "130/172 [=====================>........] - ETA: 2s - loss: 2.8675"
     ]
    },
    {
     "name": "stdout",
     "output_type": "stream",
     "text": [
      "\b\b\b\b\b\b\b\b\b\b\b\b\b\b\b\b\b\b\b\b\b\b\b\b\b\b\b\b\b\b\b\b\b\b\b\b\b\b\b\b\b\b\b\b\b\b\b\b\b\b\b\b\b\b\b\b\b\b\b\b\b\b\b\b\b\r\n",
      "131/172 [=====================>........] - ETA: 2s - loss: 2.8630"
     ]
    },
    {
     "name": "stdout",
     "output_type": "stream",
     "text": [
      "\b\b\b\b\b\b\b\b\b\b\b\b\b\b\b\b\b\b\b\b\b\b\b\b\b\b\b\b\b\b\b\b\b\b\b\b\b\b\b\b\b\b\b\b\b\b\b\b\b\b\b\b\b\b\b\b\b\b\b\b\b\b\b\b\b\r\n",
      "132/172 [======================>.......] - ETA: 2s - loss: 2.8586"
     ]
    },
    {
     "name": "stdout",
     "output_type": "stream",
     "text": [
      "\b\b\b\b\b\b\b\b\b\b\b\b\b\b\b\b\b\b\b\b\b\b\b\b\b\b\b\b\b\b\b\b\b\b\b\b\b\b\b\b\b\b\b\b\b\b\b\b\b\b\b\b\b\b\b\b\b\b\b\b\b\b\b\b\b\r\n",
      "133/172 [======================>.......] - ETA: 2s - loss: 2.8544"
     ]
    },
    {
     "name": "stdout",
     "output_type": "stream",
     "text": [
      "\b\b\b\b\b\b\b\b\b\b\b\b\b\b\b\b\b\b\b\b\b\b\b\b\b\b\b\b\b\b\b\b\b\b\b\b\b\b\b\b\b\b\b\b\b\b\b\b\b\b\b\b\b\b\b\b\b\b\b\b\b\b\b\b\b\r\n",
      "134/172 [======================>.......] - ETA: 2s - loss: 2.8501"
     ]
    },
    {
     "name": "stdout",
     "output_type": "stream",
     "text": [
      "\b\b\b\b\b\b\b\b\b\b\b\b\b\b\b\b\b\b\b\b\b\b\b\b\b\b\b\b\b\b\b\b\b\b\b\b\b\b\b\b\b\b\b\b\b\b\b\b\b\b\b\b\b\b\b\b\b\b\b\b\b\b\b\b\b\r\n",
      "135/172 [======================>.......] - ETA: 2s - loss: 2.8455"
     ]
    },
    {
     "name": "stdout",
     "output_type": "stream",
     "text": [
      "\b\b\b\b\b\b\b\b\b\b\b\b\b\b\b\b\b\b\b\b\b\b\b\b\b\b\b\b\b\b\b\b\b\b\b\b\b\b\b\b\b\b\b\b\b\b\b\b\b\b\b\b\b\b\b\b\b\b\b\b\b\b\b\b\b\r\n",
      "136/172 [======================>.......] - ETA: 2s - loss: 2.8412"
     ]
    },
    {
     "name": "stdout",
     "output_type": "stream",
     "text": [
      "\b\b\b\b\b\b\b\b\b\b\b\b\b\b\b\b\b\b\b\b\b\b\b\b\b\b\b\b\b\b\b\b\b\b\b\b\b\b\b\b\b\b\b\b\b\b\b\b\b\b\b\b\b\b\b\b\b\b\b\b\b\b\b\b\b\r\n",
      "137/172 [======================>.......] - ETA: 2s - loss: 2.8370"
     ]
    },
    {
     "name": "stdout",
     "output_type": "stream",
     "text": [
      "\b\b\b\b\b\b\b\b\b\b\b\b\b\b\b\b\b\b\b\b\b\b\b\b\b\b\b\b\b\b\b\b\b\b\b\b\b\b\b\b\b\b\b\b\b\b\b\b\b\b\b\b\b\b\b\b\b\b\b\b\b\b\b\b\b\r\n",
      "138/172 [=======================>......] - ETA: 1s - loss: 2.8329"
     ]
    },
    {
     "name": "stdout",
     "output_type": "stream",
     "text": [
      "\b\b\b\b\b\b\b\b\b\b\b\b\b\b\b\b\b\b\b\b\b\b\b\b\b\b\b\b\b\b\b\b\b\b\b\b\b\b\b\b\b\b\b\b\b\b\b\b\b\b\b\b\b\b\b\b\b\b\b\b\b\b\b\b\b\r\n",
      "139/172 [=======================>......] - ETA: 1s - loss: 2.8287"
     ]
    },
    {
     "name": "stdout",
     "output_type": "stream",
     "text": [
      "\b\b\b\b\b\b\b\b\b\b\b\b\b\b\b\b\b\b\b\b\b\b\b\b\b\b\b\b\b\b\b\b\b\b\b\b\b\b\b\b\b\b\b\b\b\b\b\b\b\b\b\b\b\b\b\b\b\b\b\b\b\b\b\b\b\r\n",
      "140/172 [=======================>......] - ETA: 1s - loss: 2.8245"
     ]
    },
    {
     "name": "stdout",
     "output_type": "stream",
     "text": [
      "\b\b\b\b\b\b\b\b\b\b\b\b\b\b\b\b\b\b\b\b\b\b\b\b\b\b\b\b\b\b\b\b\b\b\b\b\b\b\b\b\b\b\b\b\b\b\b\b\b\b\b\b\b\b\b\b\b\b\b\b\b\b\b\b\b\r\n",
      "141/172 [=======================>......] - ETA: 1s - loss: 2.8207"
     ]
    },
    {
     "name": "stdout",
     "output_type": "stream",
     "text": [
      "\b\b\b\b\b\b\b\b\b\b\b\b\b\b\b\b\b\b\b\b\b\b\b\b\b\b\b\b\b\b\b\b\b\b\b\b\b\b\b\b\b\b\b\b\b\b\b\b\b\b\b\b\b\b\b\b\b\b\b\b\b\b\b\b\b\r\n",
      "142/172 [=======================>......] - ETA: 1s - loss: 2.8169"
     ]
    },
    {
     "name": "stdout",
     "output_type": "stream",
     "text": [
      "\b\b\b\b\b\b\b\b\b\b\b\b\b\b\b\b\b\b\b\b\b\b\b\b\b\b\b\b\b\b\b\b\b\b\b\b\b\b\b\b\b\b\b\b\b\b\b\b\b\b\b\b\b\b\b\b\b\b\b\b\b\b\b\b\b\r\n",
      "143/172 [=======================>......] - ETA: 1s - loss: 2.8129"
     ]
    },
    {
     "name": "stdout",
     "output_type": "stream",
     "text": [
      "\b\b\b\b\b\b\b\b\b\b\b\b\b\b\b\b\b\b\b\b\b\b\b\b\b\b\b\b\b\b\b\b\b\b\b\b\b\b\b\b\b\b\b\b\b\b\b\b\b\b\b\b\b\b\b\b\b\b\b\b\b\b\b\b\b\r\n",
      "144/172 [========================>.....] - ETA: 1s - loss: 2.8089"
     ]
    },
    {
     "name": "stdout",
     "output_type": "stream",
     "text": [
      "\b\b\b\b\b\b\b\b\b\b\b\b\b\b\b\b\b\b\b\b\b\b\b\b\b\b\b\b\b\b\b\b\b\b\b\b\b\b\b\b\b\b\b\b\b\b\b\b\b\b\b\b\b\b\b\b\b\b\b\b\b\b\b\b\b\r\n",
      "145/172 [========================>.....] - ETA: 1s - loss: 2.8048"
     ]
    },
    {
     "name": "stdout",
     "output_type": "stream",
     "text": [
      "\b\b\b\b\b\b\b\b\b\b\b\b\b\b\b\b\b\b\b\b\b\b\b\b\b\b\b\b\b\b\b\b\b\b\b\b\b\b\b\b\b\b\b\b\b\b\b\b\b\b\b\b\b\b\b\b\b\b\b\b\b\b\b\b\b\r\n",
      "146/172 [========================>.....] - ETA: 1s - loss: 2.8011"
     ]
    },
    {
     "name": "stdout",
     "output_type": "stream",
     "text": [
      "\b\b\b\b\b\b\b\b\b\b\b\b\b\b\b\b\b\b\b\b\b\b\b\b\b\b\b\b\b\b\b\b\b\b\b\b\b\b\b\b\b\b\b\b\b\b\b\b\b\b\b\b\b\b\b\b\b\b\b\b\b\b\b\b\b\r\n",
      "147/172 [========================>.....] - ETA: 1s - loss: 2.7972"
     ]
    },
    {
     "name": "stdout",
     "output_type": "stream",
     "text": [
      "\b\b\b\b\b\b\b\b\b\b\b\b\b\b\b\b\b\b\b\b\b\b\b\b\b\b\b\b\b\b\b\b\b\b\b\b\b\b\b\b\b\b\b\b\b\b\b\b\b\b\b\b\b\b\b\b\b\b\b\b\b\b\b\b\b\r\n",
      "148/172 [========================>.....] - ETA: 1s - loss: 2.7933"
     ]
    },
    {
     "name": "stdout",
     "output_type": "stream",
     "text": [
      "\b\b\b\b\b\b\b\b\b\b\b\b\b\b\b\b\b\b\b\b\b\b\b\b\b\b\b\b\b\b\b\b\b\b\b\b\b\b\b\b\b\b\b\b\b\b\b\b\b\b\b\b\b\b\b\b\b\b\b\b\b\b\b\b\b\r\n",
      "149/172 [========================>.....] - ETA: 1s - loss: 2.7895"
     ]
    },
    {
     "name": "stdout",
     "output_type": "stream",
     "text": [
      "\b\b\b\b\b\b\b\b\b\b\b\b\b\b\b\b\b\b\b\b\b\b\b\b\b\b\b\b\b\b\b\b\b\b\b\b\b\b\b\b\b\b\b\b\b\b\b\b\b\b\b\b\b\b\b\b\b\b\b\b\b\b\b\b\b\r\n",
      "150/172 [=========================>....] - ETA: 1s - loss: 2.7858"
     ]
    },
    {
     "name": "stdout",
     "output_type": "stream",
     "text": [
      "\b\b\b\b\b\b\b\b\b\b\b\b\b\b\b\b\b\b\b\b\b\b\b\b\b\b\b\b\b\b\b\b\b\b\b\b\b\b\b\b\b\b\b\b\b\b\b\b\b\b\b\b\b\b\b\b\b\b\b\b\b\b\b\b\b\r\n",
      "151/172 [=========================>....] - ETA: 1s - loss: 2.7825"
     ]
    },
    {
     "name": "stdout",
     "output_type": "stream",
     "text": [
      "\b\b\b\b\b\b\b\b\b\b\b\b\b\b\b\b\b\b\b\b\b\b\b\b\b\b\b\b\b\b\b\b\b\b\b\b\b\b\b\b\b\b\b\b\b\b\b\b\b\b\b\b\b\b\b\b\b\b\b\b\b\b\b\b\b\r\n",
      "152/172 [=========================>....] - ETA: 1s - loss: 2.7789"
     ]
    },
    {
     "name": "stdout",
     "output_type": "stream",
     "text": [
      "\b\b\b\b\b\b\b\b\b\b\b\b\b\b\b\b\b\b\b\b\b\b\b\b\b\b\b\b\b\b\b\b\b\b\b\b\b\b\b\b\b\b\b\b\b\b\b\b\b\b\b\b\b\b\b\b\b\b\b\b\b\b\b\b\b\r\n",
      "153/172 [=========================>....] - ETA: 1s - loss: 2.7752"
     ]
    },
    {
     "name": "stdout",
     "output_type": "stream",
     "text": [
      "\b\b\b\b\b\b\b\b\b\b\b\b\b\b\b\b\b\b\b\b\b\b\b\b\b\b\b\b\b\b\b\b\b\b\b\b\b\b\b\b\b\b\b\b\b\b\b\b\b\b\b\b\b\b\b\b\b\b\b\b\b\b\b\b\b\r\n",
      "154/172 [=========================>....] - ETA: 1s - loss: 2.7716"
     ]
    },
    {
     "name": "stdout",
     "output_type": "stream",
     "text": [
      "\b\b\b\b\b\b\b\b\b\b\b\b\b\b\b\b\b\b\b\b\b\b\b\b\b\b\b\b\b\b\b\b\b\b\b\b\b\b\b\b\b\b\b\b\b\b\b\b\b\b\b\b\b\b\b\b\b\b\b\b\b\b\b\b\b\r\n",
      "155/172 [==========================>...] - ETA: 0s - loss: 2.7679"
     ]
    },
    {
     "name": "stdout",
     "output_type": "stream",
     "text": [
      "\b\b\b\b\b\b\b\b\b\b\b\b\b\b\b\b\b\b\b\b\b\b\b\b\b\b\b\b\b\b\b\b\b\b\b\b\b\b\b\b\b\b\b\b\b\b\b\b\b\b\b\b\b\b\b\b\b\b\b\b\b\b\b\b\b\r\n",
      "156/172 [==========================>...] - ETA: 0s - loss: 2.7643"
     ]
    },
    {
     "name": "stdout",
     "output_type": "stream",
     "text": [
      "\b\b\b\b\b\b\b\b\b\b\b\b\b\b\b\b\b\b\b\b\b\b\b\b\b\b\b\b\b\b\b\b\b\b\b\b\b\b\b\b\b\b\b\b\b\b\b\b\b\b\b\b\b\b\b\b\b\b\b\b\b\b\b\b\b\r\n",
      "157/172 [==========================>...] - ETA: 0s - loss: 2.7607"
     ]
    },
    {
     "name": "stdout",
     "output_type": "stream",
     "text": [
      "\b\b\b\b\b\b\b\b\b\b\b\b\b\b\b\b\b\b\b\b\b\b\b\b\b\b\b\b\b\b\b\b\b\b\b\b\b\b\b\b\b\b\b\b\b\b\b\b\b\b\b\b\b\b\b\b\b\b\b\b\b\b\b\b\b\r\n",
      "158/172 [==========================>...] - ETA: 0s - loss: 2.7572"
     ]
    },
    {
     "name": "stdout",
     "output_type": "stream",
     "text": [
      "\b\b\b\b\b\b\b\b\b\b\b\b\b\b\b\b\b\b\b\b\b\b\b\b\b\b\b\b\b\b\b\b\b\b\b\b\b\b\b\b\b\b\b\b\b\b\b\b\b\b\b\b\b\b\b\b\b\b\b\b\b\b\b\b\b\r\n",
      "159/172 [==========================>...] - ETA: 0s - loss: 2.7538"
     ]
    },
    {
     "name": "stdout",
     "output_type": "stream",
     "text": [
      "\b\b\b\b\b\b\b\b\b\b\b\b\b\b\b\b\b\b\b\b\b\b\b\b\b\b\b\b\b\b\b\b\b\b\b\b\b\b\b\b\b\b\b\b\b\b\b\b\b\b\b\b\b\b\b\b\b\b\b\b\b\b\b\b\b\r\n",
      "160/172 [==========================>...] - ETA: 0s - loss: 2.7503"
     ]
    },
    {
     "name": "stdout",
     "output_type": "stream",
     "text": [
      "\b\b\b\b\b\b\b\b\b\b\b\b\b\b\b\b\b\b\b\b\b\b\b\b\b\b\b\b\b\b\b\b\b\b\b\b\b\b\b\b\b\b\b\b\b\b\b\b\b\b\b\b\b\b\b\b\b\b\b\b\b\b\b\b\b\r\n",
      "161/172 [===========================>..] - ETA: 0s - loss: 2.7469"
     ]
    },
    {
     "name": "stdout",
     "output_type": "stream",
     "text": [
      "\b\b\b\b\b\b\b\b\b\b\b\b\b\b\b\b\b\b\b\b\b\b\b\b\b\b\b\b\b\b\b\b\b\b\b\b\b\b\b\b\b\b\b\b\b\b\b\b\b\b\b\b\b\b\b\b\b\b\b\b\b\b\b\b\b\r\n",
      "162/172 [===========================>..] - ETA: 0s - loss: 2.7435"
     ]
    },
    {
     "name": "stdout",
     "output_type": "stream",
     "text": [
      "\b\b\b\b\b\b\b\b\b\b\b\b\b\b\b\b\b\b\b\b\b\b\b\b\b\b\b\b\b\b\b\b\b\b\b\b\b\b\b\b\b\b\b\b\b\b\b\b\b\b\b\b\b\b\b\b\b\b\b\b\b\b\b\b\b\r\n",
      "163/172 [===========================>..] - ETA: 0s - loss: 2.7401"
     ]
    },
    {
     "name": "stdout",
     "output_type": "stream",
     "text": [
      "\b\b\b\b\b\b\b\b\b\b\b\b\b\b\b\b\b\b\b\b\b\b\b\b\b\b\b\b\b\b\b\b\b\b\b\b\b\b\b\b\b\b\b\b\b\b\b\b\b\b\b\b\b\b\b\b\b\b\b\b\b\b\b\b\b\r\n",
      "164/172 [===========================>..] - ETA: 0s - loss: 2.7367"
     ]
    },
    {
     "name": "stdout",
     "output_type": "stream",
     "text": [
      "\b\b\b\b\b\b\b\b\b\b\b\b\b\b\b\b\b\b\b\b\b\b\b\b\b\b\b\b\b\b\b\b\b\b\b\b\b\b\b\b\b\b\b\b\b\b\b\b\b\b\b\b\b\b\b\b\b\b\b\b\b\b\b\b\b\r\n",
      "165/172 [===========================>..] - ETA: 0s - loss: 2.7333"
     ]
    },
    {
     "name": "stdout",
     "output_type": "stream",
     "text": [
      "\b\b\b\b\b\b\b\b\b\b\b\b\b\b\b\b\b\b\b\b\b\b\b\b\b\b\b\b\b\b\b\b\b\b\b\b\b\b\b\b\b\b\b\b\b\b\b\b\b\b\b\b\b\b\b\b\b\b\b\b\b\b\b\b\b\r\n",
      "166/172 [===========================>..] - ETA: 0s - loss: 2.7299"
     ]
    },
    {
     "name": "stdout",
     "output_type": "stream",
     "text": [
      "\b\b\b\b\b\b\b\b\b\b\b\b\b\b\b\b\b\b\b\b\b\b\b\b\b\b\b\b\b\b\b\b\b\b\b\b\b\b\b\b\b\b\b\b\b\b\b\b\b\b\b\b\b\b\b\b\b\b\b\b\b\b\b\b\b\r\n",
      "167/172 [============================>.] - ETA: 0s - loss: 2.7266"
     ]
    },
    {
     "name": "stdout",
     "output_type": "stream",
     "text": [
      "\b\b\b\b\b\b\b\b\b\b\b\b\b\b\b\b\b\b\b\b\b\b\b\b\b\b\b\b\b\b\b\b\b\b\b\b\b\b\b\b\b\b\b\b\b\b\b\b\b\b\b\b\b\b\b\b\b\b\b\b\b\b\b\b\b\r\n",
      "168/172 [============================>.] - ETA: 0s - loss: 2.7235"
     ]
    },
    {
     "name": "stdout",
     "output_type": "stream",
     "text": [
      "\b\b\b\b\b\b\b\b\b\b\b\b\b\b\b\b\b\b\b\b\b\b\b\b\b\b\b\b\b\b\b\b\b\b\b\b\b\b\b\b\b\b\b\b\b\b\b\b\b\b\b\b\b\b\b\b\b\b\b\b\b\b\b\b\b\r\n",
      "169/172 [============================>.] - ETA: 0s - loss: 2.7202"
     ]
    },
    {
     "name": "stdout",
     "output_type": "stream",
     "text": [
      "\b\b\b\b\b\b\b\b\b\b\b\b\b\b\b\b\b\b\b\b\b\b\b\b\b\b\b\b\b\b\b\b\b\b\b\b\b\b\b\b\b\b\b\b\b\b\b\b\b\b\b\b\b\b\b\b\b\b\b\b\b\b\b\b\b\r\n",
      "170/172 [============================>.] - ETA: 0s - loss: 2.7170"
     ]
    },
    {
     "name": "stdout",
     "output_type": "stream",
     "text": [
      "\b\b\b\b\b\b\b\b\b\b\b\b\b\b\b\b\b\b\b\b\b\b\b\b\b\b\b\b\b\b\b\b\b\b\b\b\b\b\b\b\b\b\b\b\b\b\b\b\b\b\b\b\b\b\b\b\b\b\b\b\b\b\b\b\b\r\n",
      "171/172 [============================>.] - ETA: 0s - loss: 2.7139"
     ]
    },
    {
     "name": "stdout",
     "output_type": "stream",
     "text": [
      "\b\b\b\b\b\b\b\b\b\b\b\b\b\b\b\b\b\b\b\b\b\b\b\b\b\b\b\b\b\b\b\b\b\b\b\b\b\b\b\b\b\b\b\b\b\b\b\b\b\b\b\b\b\b\b\b\b\b\b\b\b\b\b\b\b\r\n",
      "172/172 [==============================] - ETA: 0s - loss: 2.7107"
     ]
    },
    {
     "name": "stdout",
     "output_type": "stream",
     "text": [
      "\b\b\b\b\b\b\b\b\b\b\b\b\b\b\b\b\b\b\b\b\b\b\b\b\b\b\b\b\b\b\b\b\b\b\b\b\b\b\b\b\b\b\b\b\b\b\b\b\b\b\b\b\b\b\b\b\b\b\b\b\b\b\b\b\b\r\n",
      "172/172 [==============================] - 13s 58ms/step - loss: 2.7075\n"
     ]
    },
    {
     "data": {
      "text/plain": [
       "<keras.src.callbacks.History at 0x7f1a9c1b8190>"
      ]
     },
     "execution_count": 49,
     "metadata": {},
     "output_type": "execute_result"
    }
   ],
   "source": [
    "model.fit(dataset, epochs=1)"
   ]
  },
  {
   "cell_type": "markdown",
   "metadata": {
    "id": "W8nAtKHVoInR"
   },
   "source": [
    "Or if you need more control, you can write your own complete custom training loop:"
   ]
  },
  {
   "cell_type": "code",
   "execution_count": null,
   "metadata": {
    "execution": {
     "iopub.execute_input": "2023-11-16T12:33:09.113124Z",
     "iopub.status.busy": "2023-11-16T12:33:09.112832Z",
     "iopub.status.idle": "2023-11-16T12:35:03.482956Z",
     "shell.execute_reply": "2023-11-16T12:35:03.482122Z"
    },
    "id": "d4tSNwymzf-q"
   },
   "outputs": [
    {
     "name": "stdout",
     "output_type": "stream",
     "text": [
      "Epoch 1 Batch 0 Loss 2.1913\n"
     ]
    },
    {
     "name": "stdout",
     "output_type": "stream",
     "text": [
      "Epoch 1 Batch 50 Loss 2.0591\n"
     ]
    },
    {
     "name": "stdout",
     "output_type": "stream",
     "text": [
      "Epoch 1 Batch 100 Loss 1.9363\n"
     ]
    },
    {
     "name": "stdout",
     "output_type": "stream",
     "text": [
      "Epoch 1 Batch 150 Loss 1.8937\n"
     ]
    },
    {
     "name": "stdout",
     "output_type": "stream",
     "text": [
      "\n",
      "Epoch 1 Loss: 1.9814\n",
      "Time taken for 1 epoch 12.44 sec\n",
      "________________________________________________________________________________\n"
     ]
    },
    {
     "name": "stdout",
     "output_type": "stream",
     "text": [
      "Epoch 2 Batch 0 Loss 1.8354\n"
     ]
    },
    {
     "name": "stdout",
     "output_type": "stream",
     "text": [
      "Epoch 2 Batch 50 Loss 1.7515\n"
     ]
    },
    {
     "name": "stdout",
     "output_type": "stream",
     "text": [
      "Epoch 2 Batch 100 Loss 1.6990\n"
     ]
    },
    {
     "name": "stdout",
     "output_type": "stream",
     "text": [
      "Epoch 2 Batch 150 Loss 1.6749\n"
     ]
    },
    {
     "name": "stdout",
     "output_type": "stream",
     "text": [
      "\n",
      "Epoch 2 Loss: 1.7090\n",
      "Time taken for 1 epoch 11.45 sec\n",
      "________________________________________________________________________________\n"
     ]
    },
    {
     "name": "stdout",
     "output_type": "stream",
     "text": [
      "Epoch 3 Batch 0 Loss 1.5859\n"
     ]
    },
    {
     "name": "stdout",
     "output_type": "stream",
     "text": [
      "Epoch 3 Batch 50 Loss 1.5785\n"
     ]
    },
    {
     "name": "stdout",
     "output_type": "stream",
     "text": [
      "Epoch 3 Batch 100 Loss 1.5548\n"
     ]
    },
    {
     "name": "stdout",
     "output_type": "stream",
     "text": [
      "Epoch 3 Batch 150 Loss 1.5089\n"
     ]
    },
    {
     "name": "stdout",
     "output_type": "stream",
     "text": [
      "\n",
      "Epoch 3 Loss: 1.5524\n",
      "Time taken for 1 epoch 11.49 sec\n",
      "________________________________________________________________________________\n"
     ]
    },
    {
     "name": "stdout",
     "output_type": "stream",
     "text": [
      "Epoch 4 Batch 0 Loss 1.4963\n"
     ]
    },
    {
     "name": "stdout",
     "output_type": "stream",
     "text": [
      "Epoch 4 Batch 50 Loss 1.4674\n"
     ]
    },
    {
     "name": "stdout",
     "output_type": "stream",
     "text": [
      "Epoch 4 Batch 100 Loss 1.4629\n"
     ]
    },
    {
     "name": "stdout",
     "output_type": "stream",
     "text": [
      "Epoch 4 Batch 150 Loss 1.4254\n"
     ]
    },
    {
     "name": "stdout",
     "output_type": "stream",
     "text": [
      "\n",
      "Epoch 4 Loss: 1.4550\n",
      "Time taken for 1 epoch 11.26 sec\n",
      "________________________________________________________________________________\n"
     ]
    },
    {
     "name": "stdout",
     "output_type": "stream",
     "text": [
      "Epoch 5 Batch 0 Loss 1.3884\n"
     ]
    },
    {
     "name": "stdout",
     "output_type": "stream",
     "text": [
      "Epoch 5 Batch 50 Loss 1.4480\n"
     ]
    },
    {
     "name": "stdout",
     "output_type": "stream",
     "text": [
      "Epoch 5 Batch 100 Loss 1.3669\n"
     ]
    },
    {
     "name": "stdout",
     "output_type": "stream",
     "text": [
      "Epoch 5 Batch 150 Loss 1.3619\n"
     ]
    },
    {
     "name": "stdout",
     "output_type": "stream",
     "text": [
      "\n",
      "Epoch 5 Loss: 1.3870\n",
      "Time taken for 1 epoch 11.19 sec\n",
      "________________________________________________________________________________\n"
     ]
    },
    {
     "name": "stdout",
     "output_type": "stream",
     "text": [
      "Epoch 6 Batch 0 Loss 1.3157\n"
     ]
    },
    {
     "name": "stdout",
     "output_type": "stream",
     "text": [
      "Epoch 6 Batch 50 Loss 1.3346\n"
     ]
    },
    {
     "name": "stdout",
     "output_type": "stream",
     "text": [
      "Epoch 6 Batch 100 Loss 1.3065\n"
     ]
    },
    {
     "name": "stdout",
     "output_type": "stream",
     "text": [
      "Epoch 6 Batch 150 Loss 1.2660\n"
     ]
    },
    {
     "name": "stdout",
     "output_type": "stream",
     "text": [
      "\n",
      "Epoch 6 Loss: 1.3341\n",
      "Time taken for 1 epoch 11.25 sec\n",
      "________________________________________________________________________________\n"
     ]
    },
    {
     "name": "stdout",
     "output_type": "stream",
     "text": [
      "Epoch 7 Batch 0 Loss 1.3223\n"
     ]
    },
    {
     "name": "stdout",
     "output_type": "stream",
     "text": [
      "Epoch 7 Batch 50 Loss 1.2794\n"
     ]
    },
    {
     "name": "stdout",
     "output_type": "stream",
     "text": [
      "Epoch 7 Batch 100 Loss 1.2886\n"
     ]
    },
    {
     "name": "stdout",
     "output_type": "stream",
     "text": [
      "Epoch 7 Batch 150 Loss 1.3036\n"
     ]
    },
    {
     "name": "stdout",
     "output_type": "stream",
     "text": [
      "\n",
      "Epoch 7 Loss: 1.2888\n",
      "Time taken for 1 epoch 11.10 sec\n",
      "________________________________________________________________________________\n"
     ]
    },
    {
     "name": "stdout",
     "output_type": "stream",
     "text": [
      "Epoch 8 Batch 0 Loss 1.2318\n"
     ]
    },
    {
     "name": "stdout",
     "output_type": "stream",
     "text": [
      "Epoch 8 Batch 50 Loss 1.2245\n"
     ]
    },
    {
     "name": "stdout",
     "output_type": "stream",
     "text": [
      "Epoch 8 Batch 100 Loss 1.2677\n"
     ]
    },
    {
     "name": "stdout",
     "output_type": "stream",
     "text": [
      "Epoch 8 Batch 150 Loss 1.2397\n"
     ]
    },
    {
     "name": "stdout",
     "output_type": "stream",
     "text": [
      "\n",
      "Epoch 8 Loss: 1.2480\n",
      "Time taken for 1 epoch 11.13 sec\n",
      "________________________________________________________________________________\n"
     ]
    },
    {
     "name": "stdout",
     "output_type": "stream",
     "text": [
      "Epoch 9 Batch 0 Loss 1.2021\n"
     ]
    },
    {
     "name": "stdout",
     "output_type": "stream",
     "text": [
      "Epoch 9 Batch 50 Loss 1.2654\n"
     ]
    },
    {
     "name": "stdout",
     "output_type": "stream",
     "text": [
      "Epoch 9 Batch 100 Loss 1.2190\n"
     ]
    },
    {
     "name": "stdout",
     "output_type": "stream",
     "text": [
      "Epoch 9 Batch 150 Loss 1.1929\n"
     ]
    },
    {
     "name": "stdout",
     "output_type": "stream",
     "text": [
      "\n",
      "Epoch 9 Loss: 1.2083\n",
      "Time taken for 1 epoch 11.31 sec\n",
      "________________________________________________________________________________\n"
     ]
    },
    {
     "name": "stdout",
     "output_type": "stream",
     "text": [
      "Epoch 10 Batch 0 Loss 1.1429\n"
     ]
    },
    {
     "name": "stdout",
     "output_type": "stream",
     "text": [
      "Epoch 10 Batch 50 Loss 1.1642\n"
     ]
    },
    {
     "name": "stdout",
     "output_type": "stream",
     "text": [
      "Epoch 10 Batch 100 Loss 1.1455\n"
     ]
    },
    {
     "name": "stdout",
     "output_type": "stream",
     "text": [
      "Epoch 10 Batch 150 Loss 1.1687\n"
     ]
    },
    {
     "name": "stdout",
     "output_type": "stream",
     "text": [
      "\n",
      "Epoch 10 Loss: 1.1684\n",
      "Time taken for 1 epoch 11.55 sec\n",
      "________________________________________________________________________________\n"
     ]
    }
   ],
   "source": [
    "EPOCHS = 10\n",
    "\n",
    "mean = tf.metrics.Mean()\n",
    "\n",
    "for epoch in range(EPOCHS):\n",
    "    start = time.time()\n",
    "\n",
    "    mean.reset_states()\n",
    "    for (batch_n, (inp, target)) in enumerate(dataset):\n",
    "        logs = model.train_step([inp, target])\n",
    "        mean.update_state(logs['loss'])\n",
    "\n",
    "        if batch_n % 50 == 0:\n",
    "            template = f\"Epoch {epoch+1} Batch {batch_n} Loss {logs['loss']:.4f}\"\n",
    "            print(template)\n",
    "\n",
    "    # saving (checkpoint) the model every 5 epochs\n",
    "    if (epoch + 1) % 5 == 0:\n",
    "        model.save_weights(checkpoint_prefix.format(epoch=epoch))\n",
    "\n",
    "    print()\n",
    "    print(f'Epoch {epoch+1} Loss: {mean.result().numpy():.4f}')\n",
    "    print(f'Time taken for 1 epoch {time.time() - start:.2f} sec')\n",
    "    print(\"_\"*80)\n",
    "\n",
    "model.save_weights(checkpoint_prefix.format(epoch=epoch))"
   ]
  }
 ],
 "metadata": {
  "accelerator": "GPU",
  "colab": {
   "collapsed_sections": [],
   "name": "text_generation.ipynb",
   "toc_visible": true
  },
  "kernelspec": {
   "display_name": "Python 3",
   "name": "python3"
  },
  "language_info": {
   "codemirror_mode": {
    "name": "ipython",
    "version": 3
   },
   "file_extension": ".py",
   "mimetype": "text/x-python",
   "name": "python",
   "nbconvert_exporter": "python",
   "pygments_lexer": "ipython3",
   "version": "3.11.7"
  }
 },
 "nbformat": 4,
 "nbformat_minor": 0
}
