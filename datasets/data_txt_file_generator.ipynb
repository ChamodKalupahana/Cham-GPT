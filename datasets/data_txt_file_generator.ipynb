{
 "cells": [
  {
   "cell_type": "markdown",
   "metadata": {},
   "source": [
    "### Import modules"
   ]
  },
  {
   "cell_type": "code",
   "execution_count": 3,
   "metadata": {},
   "outputs": [],
   "source": [
    "import pandas as pd\n",
    "import numpy as np"
   ]
  },
  {
   "cell_type": "markdown",
   "metadata": {},
   "source": [
    "### Load dataset"
   ]
  },
  {
   "cell_type": "code",
   "execution_count": 4,
   "metadata": {},
   "outputs": [
    {
     "name": "stdout",
     "output_type": "stream",
     "text": [
      "['20/09/2021, 8:55\\u202fpm - Dylan S: Yo, still coming to the brunch tomorrow? XD\\n'\n",
      " \"20/09/2021, 8:55\\u202fpm - Dylan S: Also sorry about the late notice but we're heading to pryzm tonight if you wanna join\\n\"\n",
      " '20/09/2021, 8:55\\u202fpm - Dylan S: Sesh/pres at Raleigh part\\n' ...\n",
      " \"31/01/2024, 9:36\\u202fpm - Dylan S: Will be heading to Caitlin's pub tomorrow around 1800 though if u want to join\\n\"\n",
      " \"31/01/2024, 9:37\\u202fpm - Dylan S: She's free from 1030ish\\n\"\n",
      " \"01/02/2024, 7:04\\u202fpm - Cham: haven't left yet, waiting for my laptop to charge 😭\\n\"]\n"
     ]
    }
   ],
   "source": [
    "dataset = np.array([])\n",
    "\n",
    "with open('WhatsApp Chat with Dylan S.txt') as file:\n",
    "    for line in file:\n",
    "        temp = file.readlines()\n",
    "        dataset = np.append(dataset, temp)\n",
    "\n",
    "print(dataset)"
   ]
  },
  {
   "cell_type": "markdown",
   "metadata": {},
   "source": [
    "### Prepare dataset"
   ]
  },
  {
   "cell_type": "code",
   "execution_count": 5,
   "metadata": {},
   "outputs": [
    {
     "data": {
      "text/plain": [
       "array(['Dylan S: Yo, still coming to the brunch tomorrow? XD',\n",
       "       \"Dylan S: Also sorry about the late notice but we're heading to pryzm tonight if you wanna join\",\n",
       "       'Dylan S: Sesh/pres at Raleigh part', ...,\n",
       "       \"Dylan S: Will be heading to Caitlin's pub tomorrow around 1800 though if u want to join\",\n",
       "       \"Dylan S: She's free from 1030ish\",\n",
       "       \"Cham: haven't left yet, waiting for my laptop to charge 😭\"],\n",
       "      dtype='<U193')"
      ]
     },
     "execution_count": 5,
     "metadata": {},
     "output_type": "execute_result"
    }
   ],
   "source": [
    "clean_dataset = np.array([])\n",
    "\n",
    "for line in dataset:\n",
    "    clean_dataset = np.append(clean_dataset, line[22:-1])\n",
    "\n",
    "clean_dataset"
   ]
  },
  {
   "cell_type": "markdown",
   "metadata": {},
   "source": [
    "### Save dataset"
   ]
  },
  {
   "cell_type": "code",
   "execution_count": 6,
   "metadata": {},
   "outputs": [],
   "source": [
    "with open(\"whatsapp_dylan_conversation.txt\", \"w\") as text_file:\n",
    "    for line in clean_dataset:\n",
    "        text_file.write(line + '\\n')"
   ]
  }
 ],
 "metadata": {
  "kernelspec": {
   "display_name": "aicore",
   "language": "python",
   "name": "python3"
  },
  "language_info": {
   "codemirror_mode": {
    "name": "ipython",
    "version": 3
   },
   "file_extension": ".py",
   "mimetype": "text/x-python",
   "name": "python",
   "nbconvert_exporter": "python",
   "pygments_lexer": "ipython3",
   "version": "3.11.5"
  }
 },
 "nbformat": 4,
 "nbformat_minor": 2
}
