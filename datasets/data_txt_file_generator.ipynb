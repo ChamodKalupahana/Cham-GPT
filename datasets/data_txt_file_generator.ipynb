{
 "cells": [
  {
   "cell_type": "code",
   "execution_count": 1,
   "metadata": {},
   "outputs": [],
   "source": [
    "import pandas as pd"
   ]
  },
  {
   "cell_type": "code",
   "execution_count": 6,
   "metadata": {},
   "outputs": [
    {
     "name": "stdout",
     "output_type": "stream",
     "text": [
      "['08/07/2023, 4:10\\u202fam - Messages and calls are end-to-end encrypted. No one outside of this chat, not even WhatsApp, can read or listen to them. Tap to learn more.\\n', '08/07/2023, 4:10\\u202fam - Cham: <Media omitted>\\n', '08/07/2023, 4:19\\u202fam - Jasrizz: That was amazing\\n', \"08/07/2023, 4:19\\u202fam - Jasrizz: Who's my favourite super duper famous star??\\n\", \"08/07/2023, 4:23\\u202fam - Cham: oh jas, you're flattering me too much x\\n\", \"08/07/2023, 4:23\\u202fam - Jasrizz: And you're loving it x\\n\", '08/07/2023, 4:24\\u202fam - Cham: yeah slightly\\n', \"08/07/2023, 4:25\\u202fam - Cham: don't worry, it won't be long until you get your own private show x\\n\", '08/07/2023, 4:26\\u202fam - Jasrizz: That sounds vaguely sexual, you  better strip for me 👀\\n', '08/07/2023, 4:26\\u202fam - Cham: it unfortunately sounded very sexual\\n', '08/07/2023, 4:27\\u202fam - Cham: but I do not disappoint\\n', '08/07/2023, 4:27\\u202fam - Jasrizz: Better hurry back to Nottingham sooner then later then\\n', \"08/07/2023, 4:29\\u202fam - Cham: oh I know, I'm not letting you get away with robbery\\n\", '08/07/2023, 4:32\\u202fam - Jasrizz: Hey hey, you left ur belt here willingly\\n', '08/07/2023, 4:32\\u202fam - Jasrizz: Tho... I did take it off your waist\\n', \"08/07/2023, 4:35\\u202fam - Cham: exactly, I'm an innocent victim 😭\\n\", '08/07/2023, 4:39\\u202fam - Jasrizz: You loved every second of it\\n', '08/07/2023, 4:39\\u202fam - Jasrizz: Ik how your brain operates\\n', \"08/07/2023, 4:44\\u202fam - Cham: nah that can't be right, I'm a complete mystery\\n\", '08/07/2023, 4:46\\u202fam - Jasrizz: Sure suee\\n', \"08/07/2023, 4:46\\u202fam - Jasrizz: I'm off to bed\\n\", '08/07/2023, 4:46\\u202fam - Jasrizz: Goodnight nerd x\\n', \"08/07/2023, 4:46\\u202fam - Cham: I'm about to fall asleep too\\n\", '08/07/2023, 4:47\\u202fam - Cham: sweet dreams thief x\\n', '19/08/2023, 3:08\\u202fpm - Cham: <Media omitted>\\n', '19/08/2023, 3:08\\u202fpm - Cham: <Media omitted>\\n', '19/08/2023, 3:08\\u202fpm - Cham: <Media omitted>\\n', '19/08/2023, 3:08\\u202fpm - Cham: <Media omitted>\\n', '19/08/2023, 3:08\\u202fpm - Cham: <Media omitted>\\n', '19/08/2023, 3:08\\u202fpm - Cham: <Media omitted>\\n', '19/08/2023, 3:08\\u202fpm - Cham: <Media omitted>\\n', '19/08/2023, 3:08\\u202fpm - Cham: <Media omitted>\\n', '19/08/2023, 3:08\\u202fpm - Cham: <Media omitted>\\n', '19/08/2023, 3:08\\u202fpm - Cham: <Media omitted>\\n', '19/08/2023, 3:08\\u202fpm - Cham: <Media omitted>\\n', '19/08/2023, 3:08\\u202fpm - Cham: <Media omitted>\\n', '19/08/2023, 3:08\\u202fpm - Cham: <Media omitted>\\n', '16/09/2023, 4:21\\u202fpm - Cham: <Media omitted>\\n', '16/09/2023, 4:48\\u202fpm - Jasrizz: I love your acoustic version of 16 years xx were you feeling down last night before I left? I felt like I left a bit abruptly\\n', '16/09/2023, 4:49\\u202fpm - Jasrizz: Also thank you for sharing ( and recording) that video :)) I appreciate it\\n', \"16/09/2023, 4:49\\u202fpm - Jasrizz: Want to talk about what's got you down?\\n\", '16/09/2023, 4:57\\u202fpm - Cham: did you know the song beforehand 👀\\n', '16/09/2023, 4:58\\u202fpm - Jasrizz: I wish I did x\\n', \"16/09/2023, 4:59\\u202fpm - Cham: nah you didn't leave abruptly,  I was feeling good last night\\n\", '16/09/2023, 5:00\\u202fpm - Cham: I was just feeling a little shitty today cos I messed up with my parents and missed our date :(\\n', '16/09/2023, 5:01\\u202fpm - Jasrizz: What happened?\\n', '16/09/2023, 5:01\\u202fpm - Cham: wish I was there baby\\n', '16/09/2023, 5:01\\u202fpm - Cham: take me away from this shitty house 😈\\n', '16/09/2023, 5:01\\u202fpm - Jasrizz: Wanna tell me over call quickly?\\n', '16/09/2023, 5:02\\u202fpm - Cham: yeah go on x\\n', '16/09/2023, 5:58\\u202fpm - Cham: thank you for the call silly rat lady xx\\n', '16/09/2023, 6:02\\u202fpm - Jasrizz: Dont be silly scouse boy xx\\n', \"06/12/2023, 8:04\\u202fpm - Jasrizz: *SANTA'S TOTAL BODY WORKOUT & END OF YEAR EVENT*\\n\", '*NEXT SATURDAY - 09.12.23*\\n', '*12-3pm*\\n', '*ONLY £10.00pp*\\n', '*OPEN TO ALL STUDENTS, FRIENDS & FAMILY*\\n', '\\n', 'Come and celebrate a superb 2023 ✨️ with some incredible achievements we would love 🥰 as many students and family members to come together for this event. This will include:\\n', '☆ Boxing Bagwork fitness \\n', '☆ Strength & conditioning \\n', '☆ Bodyweight masterclass\\n', '☆ Flexibility masterclass\\n', '☆ Yoga & mobility \\n', '☆ Samosa sell-out\\n', \"☆ Bailey's Bakehouse \\n\", '\\n', '*GET YOURSELF BOOKED IN NOW*\\n', '09/12/2023, 7:09\\u202fpm - Cham: <Media omitted>\\n', '09/12/2023, 7:14\\u202fpm - Cham: <Media omitted>\\n', '30/12/2023, 11:18\\u202fpm - Jasrizz: <Media omitted>\\n', '04/01/2024, 9:10\\u202fpm - Jasrizz: <Media omitted>\\n', '04/01/2024, 9:10\\u202fpm - Jasrizz: <Media omitted>\\n', '04/01/2024, 9:10\\u202fpm - Jasrizz: <Media omitted>\\n', '04/01/2024, 9:10\\u202fpm - Jasrizz: <Media omitted>\\n']\n"
     ]
    }
   ],
   "source": [
    "with open('WhatsApp Chat with Jasrizz.txt') as f:\n",
    "    dataset = f.readlines()\n",
    "\n",
    "print(dataset)"
   ]
  }
 ],
 "metadata": {
  "kernelspec": {
   "display_name": "aicore",
   "language": "python",
   "name": "python3"
  },
  "language_info": {
   "codemirror_mode": {
    "name": "ipython",
    "version": 3
   },
   "file_extension": ".py",
   "mimetype": "text/x-python",
   "name": "python",
   "nbconvert_exporter": "python",
   "pygments_lexer": "ipython3",
   "version": "3.11.5"
  }
 },
 "nbformat": 4,
 "nbformat_minor": 2
}
