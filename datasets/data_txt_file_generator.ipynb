{
 "cells": [
  {
   "cell_type": "markdown",
   "metadata": {},
   "source": [
    "### Import modules"
   ]
  },
  {
   "cell_type": "code",
   "execution_count": 1,
   "metadata": {},
   "outputs": [],
   "source": [
    "import pandas as pd\n",
    "import numpy as np"
   ]
  },
  {
   "cell_type": "markdown",
   "metadata": {},
   "source": [
    "### Load dataset"
   ]
  },
  {
   "cell_type": "code",
   "execution_count": 2,
   "metadata": {},
   "outputs": [
    {
     "name": "stdout",
     "output_type": "stream",
     "text": [
      "['08/07/2023, 4:10\\u202fam - Cham: <Media omitted>\\n'\n",
      " '08/07/2023, 4:19\\u202fam - Jasrizz: That was amazing\\n'\n",
      " \"08/07/2023, 4:19\\u202fam - Jasrizz: Who's my favourite super duper famous star??\\n\"\n",
      " \"08/07/2023, 4:23\\u202fam - Cham: oh jas, you're flattering me too much x\\n\"\n",
      " \"08/07/2023, 4:23\\u202fam - Jasrizz: And you're loving it x\\n\"\n",
      " '08/07/2023, 4:24\\u202fam - Cham: yeah slightly\\n'\n",
      " \"08/07/2023, 4:25\\u202fam - Cham: don't worry, it won't be long until you get your own private show x\\n\"\n",
      " '08/07/2023, 4:26\\u202fam - Jasrizz: That sounds vaguely sexual, you  better strip for me 👀\\n'\n",
      " '08/07/2023, 4:26\\u202fam - Cham: it unfortunately sounded very sexual\\n'\n",
      " '08/07/2023, 4:27\\u202fam - Cham: but I do not disappoint\\n'\n",
      " '08/07/2023, 4:27\\u202fam - Jasrizz: Better hurry back to Nottingham sooner then later then\\n'\n",
      " \"08/07/2023, 4:29\\u202fam - Cham: oh I know, I'm not letting you get away with robbery\\n\"\n",
      " '08/07/2023, 4:32\\u202fam - Jasrizz: Hey hey, you left ur belt here willingly\\n'\n",
      " '08/07/2023, 4:32\\u202fam - Jasrizz: Tho... I did take it off your waist\\n'\n",
      " \"08/07/2023, 4:35\\u202fam - Cham: exactly, I'm an innocent victim 😭\\n\"\n",
      " '08/07/2023, 4:39\\u202fam - Jasrizz: You loved every second of it\\n'\n",
      " '08/07/2023, 4:39\\u202fam - Jasrizz: Ik how your brain operates\\n'\n",
      " \"08/07/2023, 4:44\\u202fam - Cham: nah that can't be right, I'm a complete mystery\\n\"\n",
      " '08/07/2023, 4:46\\u202fam - Jasrizz: Sure suee\\n'\n",
      " \"08/07/2023, 4:46\\u202fam - Jasrizz: I'm off to bed\\n\"\n",
      " '08/07/2023, 4:46\\u202fam - Jasrizz: Goodnight nerd x\\n'\n",
      " \"08/07/2023, 4:46\\u202fam - Cham: I'm about to fall asleep too\\n\"\n",
      " '08/07/2023, 4:47\\u202fam - Cham: sweet dreams thief x\\n'\n",
      " '19/08/2023, 3:08\\u202fpm - Cham: <Media omitted>\\n'\n",
      " '19/08/2023, 3:08\\u202fpm - Cham: <Media omitted>\\n'\n",
      " '19/08/2023, 3:08\\u202fpm - Cham: <Media omitted>\\n'\n",
      " '19/08/2023, 3:08\\u202fpm - Cham: <Media omitted>\\n'\n",
      " '19/08/2023, 3:08\\u202fpm - Cham: <Media omitted>\\n'\n",
      " '19/08/2023, 3:08\\u202fpm - Cham: <Media omitted>\\n'\n",
      " '19/08/2023, 3:08\\u202fpm - Cham: <Media omitted>\\n'\n",
      " '19/08/2023, 3:08\\u202fpm - Cham: <Media omitted>\\n'\n",
      " '19/08/2023, 3:08\\u202fpm - Cham: <Media omitted>\\n'\n",
      " '19/08/2023, 3:08\\u202fpm - Cham: <Media omitted>\\n'\n",
      " '19/08/2023, 3:08\\u202fpm - Cham: <Media omitted>\\n'\n",
      " '19/08/2023, 3:08\\u202fpm - Cham: <Media omitted>\\n'\n",
      " '19/08/2023, 3:08\\u202fpm - Cham: <Media omitted>\\n'\n",
      " '16/09/2023, 4:21\\u202fpm - Cham: <Media omitted>\\n'\n",
      " '16/09/2023, 4:48\\u202fpm - Jasrizz: I love your acoustic version of 16 years xx were you feeling down last night before I left? I felt like I left a bit abruptly\\n'\n",
      " '16/09/2023, 4:49\\u202fpm - Jasrizz: Also thank you for sharing ( and recording) that video :)) I appreciate it\\n'\n",
      " \"16/09/2023, 4:49\\u202fpm - Jasrizz: Want to talk about what's got you down?\\n\"\n",
      " '16/09/2023, 4:57\\u202fpm - Cham: did you know the song beforehand 👀\\n'\n",
      " '16/09/2023, 4:58\\u202fpm - Jasrizz: I wish I did x\\n'\n",
      " \"16/09/2023, 4:59\\u202fpm - Cham: nah you didn't leave abruptly,  I was feeling good last night\\n\"\n",
      " '16/09/2023, 5:00\\u202fpm - Cham: I was just feeling a little shitty today cos I messed up with my parents and missed our date :(\\n'\n",
      " '16/09/2023, 5:01\\u202fpm - Jasrizz: What happened?\\n'\n",
      " '16/09/2023, 5:01\\u202fpm - Cham: wish I was there baby\\n'\n",
      " '16/09/2023, 5:01\\u202fpm - Cham: take me away from this shitty house 😈\\n'\n",
      " '16/09/2023, 5:01\\u202fpm - Jasrizz: Wanna tell me over call quickly?\\n'\n",
      " '16/09/2023, 5:02\\u202fpm - Cham: yeah go on x\\n'\n",
      " '16/09/2023, 5:58\\u202fpm - Cham: thank you for the call silly rat lady xx\\n'\n",
      " '16/09/2023, 6:02\\u202fpm - Jasrizz: Dont be silly scouse boy xx\\n'\n",
      " \"06/12/2023, 8:04\\u202fpm - Jasrizz: *SANTA'S TOTAL BODY WORKOUT & END OF YEAR EVENT*\\n\"\n",
      " '*NEXT SATURDAY - 09.12.23*\\n' '*12-3pm*\\n' '*ONLY £10.00pp*\\n'\n",
      " '*OPEN TO ALL STUDENTS, FRIENDS & FAMILY*\\n' '\\n'\n",
      " 'Come and celebrate a superb 2023 ✨️ with some incredible achievements we would love 🥰 as many students and family members to come together for this event. This will include:\\n'\n",
      " '☆ Boxing Bagwork fitness \\n' '☆ Strength & conditioning \\n'\n",
      " '☆ Bodyweight masterclass\\n' '☆ Flexibility masterclass\\n'\n",
      " '☆ Yoga & mobility \\n' '☆ Samosa sell-out\\n' \"☆ Bailey's Bakehouse \\n\"\n",
      " '\\n' '*GET YOURSELF BOOKED IN NOW*\\n'\n",
      " '09/12/2023, 7:09\\u202fpm - Cham: <Media omitted>\\n'\n",
      " '09/12/2023, 7:14\\u202fpm - Cham: <Media omitted>\\n'\n",
      " '30/12/2023, 11:18\\u202fpm - Jasrizz: <Media omitted>\\n'\n",
      " '04/01/2024, 9:10\\u202fpm - Jasrizz: <Media omitted>\\n'\n",
      " '04/01/2024, 9:10\\u202fpm - Jasrizz: <Media omitted>\\n'\n",
      " '04/01/2024, 9:10\\u202fpm - Jasrizz: <Media omitted>\\n'\n",
      " '04/01/2024, 9:10\\u202fpm - Jasrizz: <Media omitted>\\n']\n"
     ]
    }
   ],
   "source": [
    "dataset = np.array([])\n",
    "\n",
    "with open('WhatsApp Chat with Jasrizz.txt') as file:\n",
    "    for line in file:\n",
    "        temp = file.readlines()\n",
    "        dataset = np.append(dataset, temp)\n",
    "\n",
    "print(dataset)"
   ]
  },
  {
   "cell_type": "markdown",
   "metadata": {},
   "source": [
    "### Prepare dataset"
   ]
  },
  {
   "cell_type": "code",
   "execution_count": 13,
   "metadata": {},
   "outputs": [
    {
     "data": {
      "text/plain": [
       "array(['Cham: <Media omitted>', 'Jasrizz: That was amazing',\n",
       "       \"Jasrizz: Who's my favourite super duper famous star??\",\n",
       "       \"Cham: oh jas, you're flattering me too much x\",\n",
       "       \"Jasrizz: And you're loving it x\", 'Cham: yeah slightly',\n",
       "       \"Cham: don't worry, it won't be long until you get your own private show x\",\n",
       "       'Jasrizz: That sounds vaguely sexual, you  better strip for me 👀',\n",
       "       'Cham: it unfortunately sounded very sexual',\n",
       "       'Cham: but I do not disappoint',\n",
       "       'Jasrizz: Better hurry back to Nottingham sooner then later then',\n",
       "       \"Cham: oh I know, I'm not letting you get away with robbery\",\n",
       "       'Jasrizz: Hey hey, you left ur belt here willingly',\n",
       "       'Jasrizz: Tho... I did take it off your waist',\n",
       "       \"Cham: exactly, I'm an innocent victim 😭\",\n",
       "       'Jasrizz: You loved every second of it',\n",
       "       'Jasrizz: Ik how your brain operates',\n",
       "       \"Cham: nah that can't be right, I'm a complete mystery\",\n",
       "       'Jasrizz: Sure suee', \"Jasrizz: I'm off to bed\",\n",
       "       'Jasrizz: Goodnight nerd x', \"Cham: I'm about to fall asleep too\",\n",
       "       'Cham: sweet dreams thief x', 'Cham: <Media omitted>',\n",
       "       'Cham: <Media omitted>', 'Cham: <Media omitted>',\n",
       "       'Cham: <Media omitted>', 'Cham: <Media omitted>',\n",
       "       'Cham: <Media omitted>', 'Cham: <Media omitted>',\n",
       "       'Cham: <Media omitted>', 'Cham: <Media omitted>',\n",
       "       'Cham: <Media omitted>', 'Cham: <Media omitted>',\n",
       "       'Cham: <Media omitted>', 'Cham: <Media omitted>',\n",
       "       'Cham: <Media omitted>',\n",
       "       'Jasrizz: I love your acoustic version of 16 years xx were you feeling down last night before I left? I felt like I left a bit abruptly',\n",
       "       'Jasrizz: Also thank you for sharing ( and recording) that video :)) I appreciate it',\n",
       "       \"Jasrizz: Want to talk about what's got you down?\",\n",
       "       'Cham: did you know the song beforehand 👀',\n",
       "       'Jasrizz: I wish I did x',\n",
       "       \"Cham: nah you didn't leave abruptly,  I was feeling good last night\",\n",
       "       'Cham: I was just feeling a little shitty today cos I messed up with my parents and missed our date :(',\n",
       "       'Jasrizz: What happened?', 'Cham: wish I was there baby',\n",
       "       'Cham: take me away from this shitty house 😈',\n",
       "       'Jasrizz: Wanna tell me over call quickly?', 'Cham: yeah go on x',\n",
       "       'Cham: thank you for the call silly rat lady xx',\n",
       "       'Jasrizz: Dont be silly scouse boy xx',\n",
       "       \"Jasrizz: *SANTA'S TOTAL BODY WORKOUT & END OF YEAR EVENT*\",\n",
       "       '.23*', '', '', ' FRIENDS & FAMILY*', '',\n",
       "       'uperb 2023 ✨️ with some incredible achievements we would love 🥰 as many students and family members to come together for this event. This will include:',\n",
       "       'ss ', 'ing ', 'ss', 'ass', '', '', '', '', 'N NOW*',\n",
       "       'Cham: <Media omitted>', 'Cham: <Media omitted>',\n",
       "       ' Jasrizz: <Media omitted>', 'Jasrizz: <Media omitted>',\n",
       "       'Jasrizz: <Media omitted>', 'Jasrizz: <Media omitted>',\n",
       "       'Jasrizz: <Media omitted>'], dtype='<U151')"
      ]
     },
     "execution_count": 13,
     "metadata": {},
     "output_type": "execute_result"
    }
   ],
   "source": [
    "clean_dataset = np.array([])\n",
    "\n",
    "for line in dataset:\n",
    "    clean_dataset = np.append(clean_dataset, line[22:-1])\n",
    "\n",
    "clean_dataset"
   ]
  },
  {
   "cell_type": "markdown",
   "metadata": {},
   "source": [
    "### Save dataset"
   ]
  },
  {
   "cell_type": "code",
   "execution_count": 17,
   "metadata": {},
   "outputs": [],
   "source": [
    "with open(\"whatsapp_jasmeen_conversation.txt\", \"w\") as text_file:\n",
    "    for line in clean_dataset:\n",
    "        text_file.write(line + '\\n')"
   ]
  }
 ],
 "metadata": {
  "kernelspec": {
   "display_name": "aicore",
   "language": "python",
   "name": "python3"
  },
  "language_info": {
   "codemirror_mode": {
    "name": "ipython",
    "version": 3
   },
   "file_extension": ".py",
   "mimetype": "text/x-python",
   "name": "python",
   "nbconvert_exporter": "python",
   "pygments_lexer": "ipython3",
   "version": "3.11.5"
  }
 },
 "nbformat": 4,
 "nbformat_minor": 2
}
